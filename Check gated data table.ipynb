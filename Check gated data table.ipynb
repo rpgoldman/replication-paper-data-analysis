{
 "cells": [
  {
   "cell_type": "markdown",
   "metadata": {},
   "source": [
    "# Miscellaneous Sanity Checking and Profiling of the Accuracy Sets\n",
    "\n",
    "`accuracy_set.csv` was originally built by Dan Bryce, `new_accuracy_table.csv` was built after gating as described in these notebooks."
   ]
  },
  {
   "cell_type": "code",
   "execution_count": 1,
   "metadata": {},
   "outputs": [],
   "source": [
    "import os\n",
    "import sys\n",
    "import json\n",
    "import numpy as np\n",
    "import pandas as pd\n",
    "from typing import List"
   ]
  },
  {
   "cell_type": "code",
   "execution_count": 2,
   "metadata": {},
   "outputs": [],
   "source": [
    "old_df: pd.DataFrame = pd.read_csv('accuracy_set.csv')"
   ]
  },
  {
   "cell_type": "code",
   "execution_count": 3,
   "metadata": {},
   "outputs": [],
   "source": [
    "new_df: pd.DataFrame = pd.read_csv('new_accuracy_table.csv')"
   ]
  },
  {
   "cell_type": "code",
   "execution_count": 4,
   "metadata": {},
   "outputs": [
    {
     "name": "stdout",
     "output_type": "stream",
     "text": [
      "New table has 8726 rows.\n",
      "Old table has 8686 rows.\n"
     ]
    }
   ],
   "source": [
    "print(f\"New table has {new_df.shape[0]} rows.\")\n",
    "print(f\"Old table has {old_df.shape[0]} rows.\")"
   ]
  },
  {
   "cell_type": "code",
   "execution_count": 5,
   "metadata": {},
   "outputs": [
    {
     "name": "stdout",
     "output_type": "stream",
     "text": [
      "Added columns are:\n",
      "\tgated_count\n",
      "\tgated_live_count\n",
      "\tmean_log_gfp_gated\n",
      "\tmean_log_gfp_gated_live\n",
      "\tstd_log_gfp_gated\n",
      "\tstd_log_gfp_gated_live\n"
     ]
    }
   ],
   "source": [
    "added_columns: List[str] = sorted(set(new_df.columns) - set(old_df.columns))\n",
    "print(f\"Added columns are:\")\n",
    "c: str\n",
    "for c in added_columns:\n",
    "    print(f\"\\t{c}\")"
   ]
  },
  {
   "cell_type": "code",
   "execution_count": 6,
   "metadata": {},
   "outputs": [
    {
     "name": "stdout",
     "output_type": "stream",
     "text": [
      "gated_count\n"
     ]
    }
   ],
   "source": [
    "print(added_columns[0])"
   ]
  },
  {
   "cell_type": "code",
   "execution_count": 7,
   "metadata": {},
   "outputs": [
    {
     "data": {
      "text/plain": [
       "1375"
      ]
     },
     "execution_count": 7,
     "metadata": {},
     "output_type": "execute_result"
    }
   ],
   "source": [
    "new_df[new_df['gated_count'].isna()].shape[0]"
   ]
  },
  {
   "cell_type": "code",
   "execution_count": 8,
   "metadata": {},
   "outputs": [
    {
     "data": {
      "text/plain": [
       "7351"
      ]
     },
     "execution_count": 8,
     "metadata": {},
     "output_type": "execute_result"
    }
   ],
   "source": [
    "new_df[~new_df['gated_count'].isna()].shape[0]"
   ]
  },
  {
   "cell_type": "code",
   "execution_count": 9,
   "metadata": {},
   "outputs": [
    {
     "data": {
      "text/plain": [
       "5344"
      ]
     },
     "execution_count": 9,
     "metadata": {},
     "output_type": "execute_result"
    }
   ],
   "source": [
    "new_df[~new_df['gated_live_count'].isna()].shape[0]"
   ]
  },
  {
   "cell_type": "code",
   "execution_count": 10,
   "metadata": {},
   "outputs": [
    {
     "data": {
      "text/plain": [
       "2007"
      ]
     },
     "execution_count": 10,
     "metadata": {},
     "output_type": "execute_result"
    }
   ],
   "source": [
    "no_live_count = new_df[~new_df['gated_count'].isna() & new_df['gated_live_count'].isna()]\n",
    "no_live_count.shape[0]"
   ]
  },
  {
   "cell_type": "code",
   "execution_count": 11,
   "metadata": {},
   "outputs": [
    {
     "data": {
      "text/plain": [
       "1375"
      ]
     },
     "execution_count": 11,
     "metadata": {},
     "output_type": "execute_result"
    }
   ],
   "source": [
    "no_gated_count = new_df[new_df['gated_count'].isna()]\n",
    "no_gated_count.shape[0]"
   ]
  },
  {
   "cell_type": "code",
   "execution_count": 12,
   "metadata": {},
   "outputs": [
    {
     "data": {
      "text/plain": [
       "array(['NOR-00-Control', 'WT-Live-Control',\n",
       "       'https://hub.sd2e.org/user/sd2e/design/UWBF_16968/1',\n",
       "       'https://hub.sd2e.org/user/sd2e/design/UWBF_16969/1',\n",
       "       'https://hub.sd2e.org/user/sd2e/design/UWBF_16970/1',\n",
       "       'https://hub.sd2e.org/user/sd2e/design/UWBF_5783/1',\n",
       "       'https://hub.sd2e.org/user/sd2e/design/UWBF_6388/1',\n",
       "       'https://hub.sd2e.org/user/sd2e/design/UWBF_6389/1',\n",
       "       'https://hub.sd2e.org/user/sd2e/design/UWBF_6390/1',\n",
       "       'https://hub.sd2e.org/user/sd2e/design/UWBF_6391/1',\n",
       "       'https://hub.sd2e.org/user/sd2e/design/UWBF_7299/1',\n",
       "       'https://hub.sd2e.org/user/sd2e/design/UWBF_7300/1',\n",
       "       'https://hub.sd2e.org/user/sd2e/design/UWBF_7373/1',\n",
       "       'https://hub.sd2e.org/user/sd2e/design/UWBF_7374/1',\n",
       "       'https://hub.sd2e.org/user/sd2e/design/UWBF_7375/1',\n",
       "       'https://hub.sd2e.org/user/sd2e/design/UWBF_7376/1',\n",
       "       'https://hub.sd2e.org/user/sd2e/design/UWBF_8225/1',\n",
       "       'https://hub.sd2e.org/user/sd2e/design/UWBF_8231/1',\n",
       "       'https://hub.sd2e.org/user/sd2e/design/UWBF_8542/1',\n",
       "       'https://hub.sd2e.org/user/sd2e/design/UWBF_8544/1',\n",
       "       'https://hub.sd2e.org/user/sd2e/design/UWBF_8545/1',\n",
       "       'https://hub.sd2e.org/user/sd2e/design/UWBF_16967/1',\n",
       "       'https://hub.sd2e.org/user/sd2e/design/UWBF_5992/1',\n",
       "       'https://hub.sd2e.org/user/sd2e/design/UWBF_5993/1',\n",
       "       'https://hub.sd2e.org/user/sd2e/design/UWBF_7377/1',\n",
       "       'https://hub.sd2e.org/user/sd2e/design/UWBF_8543/1'], dtype=object)"
      ]
     },
     "execution_count": 12,
     "metadata": {},
     "output_type": "execute_result"
    }
   ],
   "source": [
    "no_live_count['strain_name'].unique()"
   ]
  },
  {
   "cell_type": "code",
   "execution_count": 13,
   "metadata": {},
   "outputs": [
    {
     "data": {
      "text/plain": [
       "array(['https://hub.sd2e.org/user/sd2e/design/UWBF_6390/1',\n",
       "       'WT-Dead-Control',\n",
       "       'https://hub.sd2e.org/user/sd2e/design/UWBF_7375/1',\n",
       "       'WT-Live-Control',\n",
       "       'https://hub.sd2e.org/user/sd2e/design/UWBF_7300/1',\n",
       "       'https://hub.sd2e.org/user/sd2e/design/UWBF_7374/1',\n",
       "       'https://hub.sd2e.org/user/sd2e/design/UWBF_8542/1',\n",
       "       'NOR-00-Control',\n",
       "       'https://hub.sd2e.org/user/sd2e/design/UWBF_16969/1',\n",
       "       'https://hub.sd2e.org/user/sd2e/design/UWBF_16970/1',\n",
       "       'https://hub.sd2e.org/user/sd2e/design/UWBF_6388/1',\n",
       "       'https://hub.sd2e.org/user/sd2e/design/UWBF_7299/1',\n",
       "       'https://hub.sd2e.org/user/sd2e/design/UWBF_7377/1',\n",
       "       'https://hub.sd2e.org/user/sd2e/design/UWBF_8231/1',\n",
       "       'https://hub.sd2e.org/user/sd2e/design/UWBF_8544/1',\n",
       "       'https://hub.sd2e.org/user/sd2e/design/UWBF_6389/1',\n",
       "       'https://hub.sd2e.org/user/sd2e/design/UWBF_5992/1',\n",
       "       'https://hub.sd2e.org/user/sd2e/design/UWBF_8543/1',\n",
       "       'https://hub.sd2e.org/user/sd2e/design/UWBF_5783/1',\n",
       "       'https://hub.sd2e.org/user/sd2e/design/UWBF_5993/1',\n",
       "       'https://hub.sd2e.org/user/sd2e/design/UWBF_7373/1',\n",
       "       'https://hub.sd2e.org/user/sd2e/design/UWBF_7376/1',\n",
       "       'https://hub.sd2e.org/user/sd2e/design/UWBF_8545/1',\n",
       "       'https://hub.sd2e.org/user/sd2e/design/UWBF_16967/1',\n",
       "       'https://hub.sd2e.org/user/sd2e/design/UWBF_16968/1',\n",
       "       'https://hub.sd2e.org/user/sd2e/design/UWBF_6391/1',\n",
       "       'https://hub.sd2e.org/user/sd2e/design/UWBF_8225/1'], dtype=object)"
      ]
     },
     "execution_count": 13,
     "metadata": {},
     "output_type": "execute_result"
    }
   ],
   "source": [
    "no_gated_count['strain_name'].unique()"
   ]
  },
  {
   "cell_type": "code",
   "execution_count": 14,
   "metadata": {},
   "outputs": [
    {
     "name": "stdout",
     "output_type": "stream",
     "text": [
      "There are 3384 rows with missing values\n"
     ]
    }
   ],
   "source": [
    "mask = pd.isnull(new_df[added_columns[0]])\n",
    "for c in added_columns[1:]:\n",
    "    bool_vec = pd.isnull(new_df[c])\n",
    "    mask = np.logical_or(mask, bool_vec)\n",
    "print(f\"There are {new_df[mask].shape[0]} rows with missing values\")"
   ]
  },
  {
   "cell_type": "code",
   "execution_count": 15,
   "metadata": {},
   "outputs": [
    {
     "data": {
      "text/plain": [
       "lab_id                    r1c5va879uaex_r1c639xp952g4\n",
       "strain_name                            NOR-00-Control\n",
       "plate_id                                            0\n",
       "well                                              C12\n",
       "count                                             NaN\n",
       "                                     ...             \n",
       "std_log_gfp_gated                            0.286968\n",
       "std_log_gfp_gated_live                            NaN\n",
       "std_log_gfp_live                                  NaN\n",
       "threshold                                         NaN\n",
       "threshold_live                                    NaN\n",
       "Name: 0, Length: 61, dtype: object"
      ]
     },
     "execution_count": 15,
     "metadata": {},
     "output_type": "execute_result"
    }
   ],
   "source": [
    "new_df[mask].iloc[0, :]"
   ]
  },
  {
   "cell_type": "code",
   "execution_count": 16,
   "metadata": {},
   "outputs": [
    {
     "data": {
      "text/plain": [
       "gated_count                 25743.0\n",
       "gated_live_count                NaN\n",
       "mean_log_gfp_gated         2.872624\n",
       "mean_log_gfp_gated_live         NaN\n",
       "std_log_gfp_gated          0.286968\n",
       "std_log_gfp_gated_live          NaN\n",
       "Name: 0, dtype: object"
      ]
     },
     "execution_count": 16,
     "metadata": {},
     "output_type": "execute_result"
    }
   ],
   "source": [
    "new_df[mask].iloc[0, :][added_columns]"
   ]
  },
  {
   "cell_type": "code",
   "execution_count": 17,
   "metadata": {},
   "outputs": [
    {
     "data": {
      "text/plain": [
       "['count',\n",
       " 'count_live',\n",
       " 'experiment_id',\n",
       " 'filename',\n",
       " 'gate',\n",
       " 'gated_count',\n",
       " 'gated_live_count',\n",
       " 'growth_media_1',\n",
       " 'growth_media_2',\n",
       " 'id',\n",
       " 'inc_temp',\n",
       " 'inc_time_1',\n",
       " 'inc_time_2',\n",
       " 'index',\n",
       " 'input',\n",
       " 'lab',\n",
       " 'lab_id',\n",
       " 'mean_correct_classifier',\n",
       " 'mean_correct_classifier_live',\n",
       " 'mean_correct_high_classifier',\n",
       " 'mean_correct_high_classifier_live',\n",
       " 'mean_correct_high_threshold',\n",
       " 'mean_correct_high_threshold_live',\n",
       " 'mean_correct_low_classifier',\n",
       " 'mean_correct_low_classifier_live',\n",
       " 'mean_correct_low_threshold',\n",
       " 'mean_correct_low_threshold_live',\n",
       " 'mean_correct_threshold',\n",
       " 'mean_correct_threshold_live',\n",
       " 'mean_log_gfp',\n",
       " 'mean_log_gfp_gated',\n",
       " 'mean_log_gfp_gated_live',\n",
       " 'mean_log_gfp_live',\n",
       " 'media',\n",
       " 'od',\n",
       " 'od_cutoff',\n",
       " 'output',\n",
       " 'plan',\n",
       " 'plate_id',\n",
       " 'replicate',\n",
       " 'source_container',\n",
       " 'std_correct_classifier',\n",
       " 'std_correct_classifier_live',\n",
       " 'std_correct_high_classifier',\n",
       " 'std_correct_high_classifier_live',\n",
       " 'std_correct_high_threshold',\n",
       " 'std_correct_high_threshold_live',\n",
       " 'std_correct_low_classifier',\n",
       " 'std_correct_low_classifier_live',\n",
       " 'std_correct_low_threshold',\n",
       " 'std_correct_low_threshold_live',\n",
       " 'std_correct_threshold',\n",
       " 'std_correct_threshold_live',\n",
       " 'std_log_gfp',\n",
       " 'std_log_gfp_gated',\n",
       " 'std_log_gfp_gated_live',\n",
       " 'std_log_gfp_live',\n",
       " 'strain_name',\n",
       " 'threshold',\n",
       " 'threshold_live',\n",
       " 'well']"
      ]
     },
     "execution_count": 17,
     "metadata": {},
     "output_type": "execute_result"
    }
   ],
   "source": [
    "sorted(new_df[mask].iloc[0, :].index)"
   ]
  },
  {
   "cell_type": "code",
   "execution_count": null,
   "metadata": {},
   "outputs": [],
   "source": []
  }
 ],
 "metadata": {
  "kernelspec": {
   "display_name": "Python 3",
   "language": "python",
   "name": "python3"
  },
  "language_info": {
   "codemirror_mode": {
    "name": "ipython",
    "version": 3
   },
   "file_extension": ".py",
   "mimetype": "text/x-python",
   "name": "python",
   "nbconvert_exporter": "python",
   "pygments_lexer": "ipython3",
   "version": "3.9.12"
  }
 },
 "nbformat": 4,
 "nbformat_minor": 4
}
