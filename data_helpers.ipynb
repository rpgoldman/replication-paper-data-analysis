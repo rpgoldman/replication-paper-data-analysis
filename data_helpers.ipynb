{
 "cells": [
  {
   "cell_type": "code",
   "execution_count": 1,
   "metadata": {},
   "outputs": [],
   "source": [
    "import os\n",
    "import sys\n",
    "import json\n",
    "import numpy as np\n",
    "import pandas as pd\n",
    "import xarray as xr\n",
    "import math"
   ]
  },
  {
   "cell_type": "code",
   "execution_count": 2,
   "metadata": {},
   "outputs": [],
   "source": [
    "from typing import List"
   ]
  },
  {
   "cell_type": "code",
   "execution_count": 4,
   "metadata": {},
   "outputs": [],
   "source": [
    "def all_of_strain(strain_name: str, files: List[str]) -> pd.DataFrame:\n",
    "    df: pd.DataFrame = pd.read_csv(files.pop(), index_col=0)\n",
    "    df = df[df['strain_name'] == strain_name]\n",
    "\n",
    "    for x in files:\n",
    "        new_df = pd.read_csv(x, index_col=0)\n",
    "        new_df = new_df[new_df['strain_name'] == strain_name]\n",
    "        df = pd.concat([df, new_df])\n",
    "        new_df = None\n",
    "    return df"
   ]
  },
  {
   "cell_type": "code",
   "execution_count": 5,
   "metadata": {},
   "outputs": [],
   "source": [
    "def canonical_data_frame(df: pd.DataFrame) -> pd.DataFrame:\n",
    "    df = df.copy()\n",
    "    df.loc[:, 'media'] = df['growth_media_1'].astype(pd.CategoricalDtype(sorted(df['growth_media_1'].unique())))\n",
    "    df.at[:, 'inc_temp_degrees'] = np.vectorize(lambda x: int(x.split(\"_\")[1]))(df['inc_temp'])\n",
    "    df.at[:, 'inc_time_1_hrs'] = np.vectorize(lambda x: int(x.split(\":\")[0]))(df['inc_time_1'])\n",
    "    df.at[:, 'inc_time_2_hrs'] = np.vectorize(lambda x: int(x.split(\":\")[0]))(df['inc_time_2'])\n",
    "    df.at[:, 'well'] = np.vectorize(lambda x: x.split(\"_\")[-1])(df['id'])\n",
    "    df.loc[:, 'replicate'] = df.groupby(['lab_id', 'plate_id', 'well']).ngroup()\n",
    "    df.loc[:, 'event'] = df.groupby(['lab_id', 'plate_id', 'well']).cumcount()\n",
    "    df.drop(columns=['lab', 'plan'], inplace=True)\n",
    "    reindexed = df.set_index(['strain_name', 'inc_temp_degrees', 'inc_time_2_hrs', 'od', 'lab_id', 'plate_id', 'well', 'replicate', 'event'])\n",
    "    return reindexed"
   ]
  },
  {
   "cell_type": "code",
   "execution_count": 6,
   "metadata": {},
   "outputs": [],
   "source": [
    "def files_with_strain(strain_name: str, filename: str = 'accuracy_set.csv') -> List[str]:\n",
    "    table = pd.read_csv(filename)\n",
    "    return list(table.query(f'strain_name == \"{strain_name}\"')['lab_id'].unique())"
   ]
  },
  {
   "cell_type": "code",
   "execution_count": null,
   "metadata": {},
   "outputs": [],
   "source": []
  }
 ],
 "metadata": {
  "kernelspec": {
   "display_name": "Working Environment",
   "language": "python",
   "name": "dask"
  },
  "language_info": {
   "codemirror_mode": {
    "name": "ipython",
    "version": 3
   },
   "file_extension": ".py",
   "mimetype": "text/x-python",
   "name": "python",
   "nbconvert_exporter": "python",
   "pygments_lexer": "ipython3",
   "version": "3.8.5"
  }
 },
 "nbformat": 4,
 "nbformat_minor": 2
}
