{
 "cells": [
  {
   "cell_type": "code",
   "execution_count": 89,
   "metadata": {},
   "outputs": [],
   "source": [
    "import pandas as pd\n",
    "import numpy as np\n",
    "from math import floor"
   ]
  },
  {
   "cell_type": "code",
   "execution_count": 90,
   "metadata": {},
   "outputs": [],
   "source": [
    "df = pd.read_csv('new_accuracy_table.csv')"
   ]
  },
  {
   "cell_type": "code",
   "execution_count": 91,
   "metadata": {},
   "outputs": [],
   "source": [
    "df.dropna(subset=['gated_count'], inplace=True)"
   ]
  },
  {
   "cell_type": "code",
   "execution_count": 92,
   "metadata": {},
   "outputs": [],
   "source": [
    "df.at[:,'gated_count'] = np.array((np.vectorize(int))(df['gated_count']), dtype='int')"
   ]
  },
  {
   "cell_type": "code",
   "execution_count": 93,
   "metadata": {},
   "outputs": [],
   "source": [
    "def fix_input(num: float) -> str:\n",
    "    if pd.isna(num):\n",
    "        return \"-\"\n",
    "    n = floor(num)\n",
    "    return f\"{n:02d}\"\n",
    "\n",
    "fix_input_column = np.vectorize(fix_input)"
   ]
  },
  {
   "cell_type": "code",
   "execution_count": 94,
   "metadata": {},
   "outputs": [],
   "source": [
    "df.at[:,'input'] = fix_input_column(df['input'])"
   ]
  },
  {
   "cell_type": "code",
   "execution_count": 95,
   "metadata": {},
   "outputs": [],
   "source": [
    "df.at[:, \"gate\"] = np.where(pd.isna(df['gate']), df[\"strain_name\"], df[\"gate\"])"
   ]
  },
  {
   "cell_type": "code",
   "execution_count": 96,
   "metadata": {},
   "outputs": [
    {
     "data": {
      "text/html": [
       "<div>\n",
       "<style scoped>\n",
       "    .dataframe tbody tr th:only-of-type {\n",
       "        vertical-align: middle;\n",
       "    }\n",
       "\n",
       "    .dataframe tbody tr th {\n",
       "        vertical-align: top;\n",
       "    }\n",
       "\n",
       "    .dataframe thead th {\n",
       "        text-align: right;\n",
       "    }\n",
       "</style>\n",
       "<table border=\"1\" class=\"dataframe\">\n",
       "  <thead>\n",
       "    <tr style=\"text-align: right;\">\n",
       "      <th></th>\n",
       "      <th>lab_id</th>\n",
       "      <th>strain_name</th>\n",
       "      <th>plate_id</th>\n",
       "      <th>well</th>\n",
       "      <th>count</th>\n",
       "      <th>count_live</th>\n",
       "      <th>experiment_id</th>\n",
       "      <th>filename</th>\n",
       "      <th>gate</th>\n",
       "      <th>gated_count</th>\n",
       "      <th>...</th>\n",
       "      <th>std_correct_low_threshold</th>\n",
       "      <th>std_correct_low_threshold_live</th>\n",
       "      <th>std_correct_threshold</th>\n",
       "      <th>std_correct_threshold_live</th>\n",
       "      <th>std_log_gfp</th>\n",
       "      <th>std_log_gfp_gated</th>\n",
       "      <th>std_log_gfp_gated_live</th>\n",
       "      <th>std_log_gfp_live</th>\n",
       "      <th>threshold</th>\n",
       "      <th>threshold_live</th>\n",
       "    </tr>\n",
       "  </thead>\n",
       "  <tbody>\n",
       "    <tr>\n",
       "      <th>0</th>\n",
       "      <td>r1c5va879uaex_r1c639xp952g4</td>\n",
       "      <td>NOR-00-Control</td>\n",
       "      <td>0</td>\n",
       "      <td>C12</td>\n",
       "      <td>NaN</td>\n",
       "      <td>NaN</td>\n",
       "      <td>NaN</td>\n",
       "      <td>NaN</td>\n",
       "      <td>NOR-00-Control</td>\n",
       "      <td>25743</td>\n",
       "      <td>...</td>\n",
       "      <td>NaN</td>\n",
       "      <td>NaN</td>\n",
       "      <td>NaN</td>\n",
       "      <td>NaN</td>\n",
       "      <td>NaN</td>\n",
       "      <td>0.286968</td>\n",
       "      <td>NaN</td>\n",
       "      <td>NaN</td>\n",
       "      <td>NaN</td>\n",
       "      <td>NaN</td>\n",
       "    </tr>\n",
       "    <tr>\n",
       "      <th>1</th>\n",
       "      <td>r1c5va879uaex_r1c639xp952g4</td>\n",
       "      <td>WT-Live-Control</td>\n",
       "      <td>0</td>\n",
       "      <td>A12</td>\n",
       "      <td>NaN</td>\n",
       "      <td>NaN</td>\n",
       "      <td>NaN</td>\n",
       "      <td>NaN</td>\n",
       "      <td>WT-Live-Control</td>\n",
       "      <td>16591</td>\n",
       "      <td>...</td>\n",
       "      <td>NaN</td>\n",
       "      <td>NaN</td>\n",
       "      <td>NaN</td>\n",
       "      <td>NaN</td>\n",
       "      <td>NaN</td>\n",
       "      <td>0.469159</td>\n",
       "      <td>NaN</td>\n",
       "      <td>NaN</td>\n",
       "      <td>NaN</td>\n",
       "      <td>NaN</td>\n",
       "    </tr>\n",
       "    <tr>\n",
       "      <th>2</th>\n",
       "      <td>r1c5va879uaex_r1c639xp952g4</td>\n",
       "      <td>https://hub.sd2e.org/user/sd2e/design/UWBF_169...</td>\n",
       "      <td>0</td>\n",
       "      <td>B03</td>\n",
       "      <td>28297.0</td>\n",
       "      <td>24410.0</td>\n",
       "      <td>NaN</td>\n",
       "      <td>/work/05202/dbryce/xplan-reactor/fcs/YeastGate...</td>\n",
       "      <td>XOR</td>\n",
       "      <td>24715</td>\n",
       "      <td>...</td>\n",
       "      <td>0.002825</td>\n",
       "      <td>0.002889</td>\n",
       "      <td>0.002825</td>\n",
       "      <td>0.002889</td>\n",
       "      <td>0.981708</td>\n",
       "      <td>0.395890</td>\n",
       "      <td>0.395018</td>\n",
       "      <td>0.934420</td>\n",
       "      <td>5.257244</td>\n",
       "      <td>5.284602</td>\n",
       "    </tr>\n",
       "    <tr>\n",
       "      <th>3</th>\n",
       "      <td>r1c5va879uaex_r1c639xp952g4</td>\n",
       "      <td>https://hub.sd2e.org/user/sd2e/design/UWBF_169...</td>\n",
       "      <td>0</td>\n",
       "      <td>D03</td>\n",
       "      <td>27568.0</td>\n",
       "      <td>23178.0</td>\n",
       "      <td>NaN</td>\n",
       "      <td>/work/05202/dbryce/xplan-reactor/fcs/YeastGate...</td>\n",
       "      <td>XOR</td>\n",
       "      <td>23737</td>\n",
       "      <td>...</td>\n",
       "      <td>0.002714</td>\n",
       "      <td>0.002791</td>\n",
       "      <td>0.002714</td>\n",
       "      <td>0.002791</td>\n",
       "      <td>1.035838</td>\n",
       "      <td>0.422622</td>\n",
       "      <td>0.421670</td>\n",
       "      <td>0.980817</td>\n",
       "      <td>5.257244</td>\n",
       "      <td>5.284602</td>\n",
       "    </tr>\n",
       "    <tr>\n",
       "      <th>4</th>\n",
       "      <td>r1c5va879uaex_r1c639xp952g4</td>\n",
       "      <td>https://hub.sd2e.org/user/sd2e/design/UWBF_169...</td>\n",
       "      <td>0</td>\n",
       "      <td>A10</td>\n",
       "      <td>29862.0</td>\n",
       "      <td>15228.0</td>\n",
       "      <td>NaN</td>\n",
       "      <td>/work/05202/dbryce/xplan-reactor/fcs/YeastGate...</td>\n",
       "      <td>XOR</td>\n",
       "      <td>25483</td>\n",
       "      <td>...</td>\n",
       "      <td>0.002156</td>\n",
       "      <td>0.003665</td>\n",
       "      <td>0.002156</td>\n",
       "      <td>0.003665</td>\n",
       "      <td>0.872558</td>\n",
       "      <td>0.327265</td>\n",
       "      <td>0.327281</td>\n",
       "      <td>0.928051</td>\n",
       "      <td>5.257244</td>\n",
       "      <td>5.284602</td>\n",
       "    </tr>\n",
       "  </tbody>\n",
       "</table>\n",
       "<p>5 rows × 61 columns</p>\n",
       "</div>"
      ],
      "text/plain": [
       "                        lab_id  \\\n",
       "0  r1c5va879uaex_r1c639xp952g4   \n",
       "1  r1c5va879uaex_r1c639xp952g4   \n",
       "2  r1c5va879uaex_r1c639xp952g4   \n",
       "3  r1c5va879uaex_r1c639xp952g4   \n",
       "4  r1c5va879uaex_r1c639xp952g4   \n",
       "\n",
       "                                         strain_name  plate_id well    count  \\\n",
       "0                                     NOR-00-Control         0  C12      NaN   \n",
       "1                                    WT-Live-Control         0  A12      NaN   \n",
       "2  https://hub.sd2e.org/user/sd2e/design/UWBF_169...         0  B03  28297.0   \n",
       "3  https://hub.sd2e.org/user/sd2e/design/UWBF_169...         0  D03  27568.0   \n",
       "4  https://hub.sd2e.org/user/sd2e/design/UWBF_169...         0  A10  29862.0   \n",
       "\n",
       "   count_live experiment_id  \\\n",
       "0         NaN           NaN   \n",
       "1         NaN           NaN   \n",
       "2     24410.0           NaN   \n",
       "3     23178.0           NaN   \n",
       "4     15228.0           NaN   \n",
       "\n",
       "                                            filename             gate  \\\n",
       "0                                                NaN   NOR-00-Control   \n",
       "1                                                NaN  WT-Live-Control   \n",
       "2  /work/05202/dbryce/xplan-reactor/fcs/YeastGate...              XOR   \n",
       "3  /work/05202/dbryce/xplan-reactor/fcs/YeastGate...              XOR   \n",
       "4  /work/05202/dbryce/xplan-reactor/fcs/YeastGate...              XOR   \n",
       "\n",
       "   gated_count  ...  std_correct_low_threshold std_correct_low_threshold_live  \\\n",
       "0        25743  ...                        NaN                            NaN   \n",
       "1        16591  ...                        NaN                            NaN   \n",
       "2        24715  ...                   0.002825                       0.002889   \n",
       "3        23737  ...                   0.002714                       0.002791   \n",
       "4        25483  ...                   0.002156                       0.003665   \n",
       "\n",
       "  std_correct_threshold std_correct_threshold_live  std_log_gfp  \\\n",
       "0                   NaN                        NaN          NaN   \n",
       "1                   NaN                        NaN          NaN   \n",
       "2              0.002825                   0.002889     0.981708   \n",
       "3              0.002714                   0.002791     1.035838   \n",
       "4              0.002156                   0.003665     0.872558   \n",
       "\n",
       "  std_log_gfp_gated  std_log_gfp_gated_live  std_log_gfp_live threshold  \\\n",
       "0          0.286968                     NaN               NaN       NaN   \n",
       "1          0.469159                     NaN               NaN       NaN   \n",
       "2          0.395890                0.395018          0.934420  5.257244   \n",
       "3          0.422622                0.421670          0.980817  5.257244   \n",
       "4          0.327265                0.327281          0.928051  5.257244   \n",
       "\n",
       "  threshold_live  \n",
       "0            NaN  \n",
       "1            NaN  \n",
       "2       5.284602  \n",
       "3       5.284602  \n",
       "4       5.284602  \n",
       "\n",
       "[5 rows x 61 columns]"
      ]
     },
     "execution_count": 96,
     "metadata": {},
     "output_type": "execute_result"
    }
   ],
   "source": [
    "df.head()"
   ]
  },
  {
   "cell_type": "code",
   "execution_count": 97,
   "metadata": {},
   "outputs": [
    {
     "data": {
      "text/plain": [
       "array(['-', '11', '10', '01', '00'], dtype=object)"
      ]
     },
     "execution_count": 97,
     "metadata": {},
     "output_type": "execute_result"
    }
   ],
   "source": [
    "df.input.unique()"
   ]
  },
  {
   "cell_type": "code",
   "execution_count": 98,
   "metadata": {},
   "outputs": [
    {
     "data": {
      "text/plain": [
       "Index(['lab_id', 'strain_name', 'plate_id', 'well', 'count', 'count_live',\n",
       "       'experiment_id', 'filename', 'gate', 'gated_count', 'gated_live_count',\n",
       "       'growth_media_1', 'growth_media_2', 'id', 'inc_temp', 'inc_time_1',\n",
       "       'inc_time_2', 'index', 'input', 'lab', 'mean_correct_classifier',\n",
       "       'mean_correct_classifier_live', 'mean_correct_high_classifier',\n",
       "       'mean_correct_high_classifier_live', 'mean_correct_high_threshold',\n",
       "       'mean_correct_high_threshold_live', 'mean_correct_low_classifier',\n",
       "       'mean_correct_low_classifier_live', 'mean_correct_low_threshold',\n",
       "       'mean_correct_low_threshold_live', 'mean_correct_threshold',\n",
       "       'mean_correct_threshold_live', 'mean_log_gfp', 'mean_log_gfp_gated',\n",
       "       'mean_log_gfp_gated_live', 'mean_log_gfp_live', 'media', 'od',\n",
       "       'od_cutoff', 'output', 'plan', 'replicate', 'source_container',\n",
       "       'std_correct_classifier', 'std_correct_classifier_live',\n",
       "       'std_correct_high_classifier', 'std_correct_high_classifier_live',\n",
       "       'std_correct_high_threshold', 'std_correct_high_threshold_live',\n",
       "       'std_correct_low_classifier', 'std_correct_low_classifier_live',\n",
       "       'std_correct_low_threshold', 'std_correct_low_threshold_live',\n",
       "       'std_correct_threshold', 'std_correct_threshold_live', 'std_log_gfp',\n",
       "       'std_log_gfp_gated', 'std_log_gfp_gated_live', 'std_log_gfp_live',\n",
       "       'threshold', 'threshold_live'],\n",
       "      dtype='object')"
      ]
     },
     "execution_count": 98,
     "metadata": {},
     "output_type": "execute_result"
    }
   ],
   "source": [
    "df.columns"
   ]
  },
  {
   "cell_type": "code",
   "execution_count": 99,
   "metadata": {},
   "outputs": [],
   "source": [
    "df = df[['lab_id', 'well', 'count', 'gate', 'input', 'output', 'gated_count', 'growth_media_1', 'inc_temp']]"
   ]
  },
  {
   "cell_type": "code",
   "execution_count": 100,
   "metadata": {},
   "outputs": [
    {
     "data": {
      "text/plain": [
       "7351"
      ]
     },
     "execution_count": 100,
     "metadata": {},
     "output_type": "execute_result"
    }
   ],
   "source": [
    "df.shape[0]"
   ]
  },
  {
   "cell_type": "code",
   "execution_count": 101,
   "metadata": {},
   "outputs": [
    {
     "data": {
      "text/plain": [
       "7351"
      ]
     },
     "execution_count": 101,
     "metadata": {},
     "output_type": "execute_result"
    }
   ],
   "source": [
    "df[df['gated_count'] >= 10_000].shape[0]"
   ]
  },
  {
   "cell_type": "code",
   "execution_count": 102,
   "metadata": {},
   "outputs": [
    {
     "name": "stdout",
     "output_type": "stream",
     "text": [
      "145,966,885\n"
     ]
    }
   ],
   "source": [
    "print(\"{:,d}\".format(df[df['gated_count'] >= 10_000]['gated_count'].sum()))"
   ]
  },
  {
   "cell_type": "code",
   "execution_count": 122,
   "metadata": {},
   "outputs": [],
   "source": [
    "all_counts = \\\n",
    "    df[df['gated_count'] >= 10_000][['gate', 'input', 'gated_count']]\\\n",
    "         .groupby(['gate', 'input'])\\\n",
    "         .agg(['sum', 'count'])\\\n",
    "         .rename(columns={'gated_count': 'Gated count', 'sum': 'events', 'count': 'replicates'})"
   ]
  },
  {
   "cell_type": "code",
   "execution_count": 137,
   "metadata": {},
   "outputs": [],
   "source": [
    "all_counts.loc[:, ('Gated count', 'events')] = all_counts.loc[:, ('Gated count', 'events')].astype(int).apply(lambda x: \"{:,}\".format(x))"
   ]
  },
  {
   "cell_type": "code",
   "execution_count": 123,
   "metadata": {},
   "outputs": [
    {
     "data": {
      "text/plain": [
       "array(['AND', 'NAND', 'NOR', 'NOR-00-Control', 'OR', 'WT-Live-Control',\n",
       "       'XNOR', 'XOR'], dtype=object)"
      ]
     },
     "execution_count": 123,
     "metadata": {},
     "output_type": "execute_result"
    }
   ],
   "source": [
    "all_counts.reset_index(drop=False)['gate'].unique()"
   ]
  },
  {
   "cell_type": "code",
   "execution_count": 138,
   "metadata": {},
   "outputs": [
    {
     "data": {
      "text/html": [
       "<div>\n",
       "<style scoped>\n",
       "    .dataframe tbody tr th:only-of-type {\n",
       "        vertical-align: middle;\n",
       "    }\n",
       "\n",
       "    .dataframe tbody tr th {\n",
       "        vertical-align: top;\n",
       "    }\n",
       "\n",
       "    .dataframe thead tr th {\n",
       "        text-align: left;\n",
       "    }\n",
       "\n",
       "    .dataframe thead tr:last-of-type th {\n",
       "        text-align: right;\n",
       "    }\n",
       "</style>\n",
       "<table border=\"1\" class=\"dataframe\">\n",
       "  <thead>\n",
       "    <tr>\n",
       "      <th></th>\n",
       "      <th></th>\n",
       "      <th colspan=\"2\" halign=\"left\">Gated count</th>\n",
       "    </tr>\n",
       "    <tr>\n",
       "      <th></th>\n",
       "      <th></th>\n",
       "      <th>events</th>\n",
       "      <th>replicates</th>\n",
       "    </tr>\n",
       "    <tr>\n",
       "      <th>gate</th>\n",
       "      <th>input</th>\n",
       "      <th></th>\n",
       "      <th></th>\n",
       "    </tr>\n",
       "  </thead>\n",
       "  <tbody>\n",
       "    <tr>\n",
       "      <th rowspan=\"4\" valign=\"top\">AND</th>\n",
       "      <th>00</th>\n",
       "      <td>4,259,281</td>\n",
       "      <td>257</td>\n",
       "    </tr>\n",
       "    <tr>\n",
       "      <th>01</th>\n",
       "      <td>4,459,111</td>\n",
       "      <td>246</td>\n",
       "    </tr>\n",
       "    <tr>\n",
       "      <th>10</th>\n",
       "      <td>4,044,177</td>\n",
       "      <td>234</td>\n",
       "    </tr>\n",
       "    <tr>\n",
       "      <th>11</th>\n",
       "      <td>4,791,203</td>\n",
       "      <td>222</td>\n",
       "    </tr>\n",
       "    <tr>\n",
       "      <th rowspan=\"4\" valign=\"top\">NAND</th>\n",
       "      <th>00</th>\n",
       "      <td>7,402,180</td>\n",
       "      <td>345</td>\n",
       "    </tr>\n",
       "    <tr>\n",
       "      <th>01</th>\n",
       "      <td>7,412,703</td>\n",
       "      <td>352</td>\n",
       "    </tr>\n",
       "    <tr>\n",
       "      <th>10</th>\n",
       "      <td>6,778,828</td>\n",
       "      <td>316</td>\n",
       "    </tr>\n",
       "    <tr>\n",
       "      <th>11</th>\n",
       "      <td>7,308,418</td>\n",
       "      <td>337</td>\n",
       "    </tr>\n",
       "    <tr>\n",
       "      <th rowspan=\"4\" valign=\"top\">NOR</th>\n",
       "      <th>00</th>\n",
       "      <td>8,573,805</td>\n",
       "      <td>368</td>\n",
       "    </tr>\n",
       "    <tr>\n",
       "      <th>01</th>\n",
       "      <td>5,913,758</td>\n",
       "      <td>317</td>\n",
       "    </tr>\n",
       "    <tr>\n",
       "      <th>10</th>\n",
       "      <td>6,133,394</td>\n",
       "      <td>341</td>\n",
       "    </tr>\n",
       "    <tr>\n",
       "      <th>11</th>\n",
       "      <td>7,515,656</td>\n",
       "      <td>342</td>\n",
       "    </tr>\n",
       "    <tr>\n",
       "      <th rowspan=\"4\" valign=\"top\">OR</th>\n",
       "      <th>00</th>\n",
       "      <td>4,343,223</td>\n",
       "      <td>249</td>\n",
       "    </tr>\n",
       "    <tr>\n",
       "      <th>01</th>\n",
       "      <td>4,928,624</td>\n",
       "      <td>237</td>\n",
       "    </tr>\n",
       "    <tr>\n",
       "      <th>10</th>\n",
       "      <td>3,954,589</td>\n",
       "      <td>249</td>\n",
       "    </tr>\n",
       "    <tr>\n",
       "      <th>11</th>\n",
       "      <td>5,170,802</td>\n",
       "      <td>242</td>\n",
       "    </tr>\n",
       "    <tr>\n",
       "      <th rowspan=\"4\" valign=\"top\">XNOR</th>\n",
       "      <th>00</th>\n",
       "      <td>7,111,913</td>\n",
       "      <td>312</td>\n",
       "    </tr>\n",
       "    <tr>\n",
       "      <th>01</th>\n",
       "      <td>4,818,814</td>\n",
       "      <td>294</td>\n",
       "    </tr>\n",
       "    <tr>\n",
       "      <th>10</th>\n",
       "      <td>5,551,739</td>\n",
       "      <td>290</td>\n",
       "    </tr>\n",
       "    <tr>\n",
       "      <th>11</th>\n",
       "      <td>6,436,798</td>\n",
       "      <td>293</td>\n",
       "    </tr>\n",
       "    <tr>\n",
       "      <th rowspan=\"4\" valign=\"top\">XOR</th>\n",
       "      <th>00</th>\n",
       "      <td>6,286,085</td>\n",
       "      <td>353</td>\n",
       "    </tr>\n",
       "    <tr>\n",
       "      <th>01</th>\n",
       "      <td>5,287,884</td>\n",
       "      <td>318</td>\n",
       "    </tr>\n",
       "    <tr>\n",
       "      <th>10</th>\n",
       "      <td>7,227,426</td>\n",
       "      <td>329</td>\n",
       "    </tr>\n",
       "    <tr>\n",
       "      <th>11</th>\n",
       "      <td>7,142,248</td>\n",
       "      <td>346</td>\n",
       "    </tr>\n",
       "  </tbody>\n",
       "</table>\n",
       "</div>"
      ],
      "text/plain": [
       "           Gated count           \n",
       "                events replicates\n",
       "gate input                       \n",
       "AND  00      4,259,281        257\n",
       "     01      4,459,111        246\n",
       "     10      4,044,177        234\n",
       "     11      4,791,203        222\n",
       "NAND 00      7,402,180        345\n",
       "     01      7,412,703        352\n",
       "     10      6,778,828        316\n",
       "     11      7,308,418        337\n",
       "NOR  00      8,573,805        368\n",
       "     01      5,913,758        317\n",
       "     10      6,133,394        341\n",
       "     11      7,515,656        342\n",
       "OR   00      4,343,223        249\n",
       "     01      4,928,624        237\n",
       "     10      3,954,589        249\n",
       "     11      5,170,802        242\n",
       "XNOR 00      7,111,913        312\n",
       "     01      4,818,814        294\n",
       "     10      5,551,739        290\n",
       "     11      6,436,798        293\n",
       "XOR  00      6,286,085        353\n",
       "     01      5,287,884        318\n",
       "     10      7,227,426        329\n",
       "     11      7,142,248        346"
      ]
     },
     "execution_count": 138,
     "metadata": {},
     "output_type": "execute_result"
    }
   ],
   "source": [
    "all_counts.query(\"gate not in ['NOR-00-Control', 'WT-Live-Control']\")"
   ]
  },
  {
   "cell_type": "code",
   "execution_count": 150,
   "metadata": {},
   "outputs": [
    {
     "data": {
      "text/plain": [
       "142852659"
      ]
     },
     "execution_count": 150,
     "metadata": {},
     "output_type": "execute_result"
    }
   ],
   "source": [
    "np.vectorize(lambda x: int(x.replace(\",\",\"\")))(all_counts.query(\"gate not in ['NOR-00-Control', 'WT-Live-Control']\")[('Gated count', 'events')]).sum()"
   ]
  },
  {
   "cell_type": "code",
   "execution_count": 151,
   "metadata": {},
   "outputs": [
    {
     "data": {
      "text/plain": [
       "7189"
      ]
     },
     "execution_count": 151,
     "metadata": {},
     "output_type": "execute_result"
    }
   ],
   "source": [
    "all_counts.query(\"gate not in ['NOR-00-Control', 'WT-Live-Control']\")[('Gated count', 'replicates')].sum()"
   ]
  },
  {
   "cell_type": "code",
   "execution_count": 139,
   "metadata": {},
   "outputs": [],
   "source": [
    "all_counts.query(\"gate not in ['NOR-00-Control', 'WT-Live-Control']\").to_latex('gate_counts_cp1.tex')"
   ]
  },
  {
   "cell_type": "code",
   "execution_count": 140,
   "metadata": {},
   "outputs": [],
   "source": [
    "all_counts.query(\"gate in ['NOR-00-Control', 'WT-Live-Control']\").to_latex('control_counts_cp1.tex')"
   ]
  },
  {
   "cell_type": "code",
   "execution_count": 152,
   "metadata": {},
   "outputs": [
    {
     "data": {
      "text/plain": [
       "3114226"
      ]
     },
     "execution_count": 152,
     "metadata": {},
     "output_type": "execute_result"
    }
   ],
   "source": [
    "np.vectorize(lambda x: int(x.replace(\",\",\"\")))(all_counts.query(\"gate in ['NOR-00-Control', 'WT-Live-Control']\")[('Gated count', 'events')]).sum()"
   ]
  },
  {
   "cell_type": "code",
   "execution_count": null,
   "metadata": {},
   "outputs": [],
   "source": []
  }
 ],
 "metadata": {
  "kernelspec": {
   "display_name": "XPLAN Experiment Analysis (jupyerhub)",
   "language": "python",
   "name": "xea-jupyterhub"
  },
  "language_info": {
   "codemirror_mode": {
    "name": "ipython",
    "version": 3
   },
   "file_extension": ".py",
   "mimetype": "text/x-python",
   "name": "python",
   "nbconvert_exporter": "python",
   "pygments_lexer": "ipython3",
   "version": "3.9.2"
  }
 },
 "nbformat": 4,
 "nbformat_minor": 2
}
