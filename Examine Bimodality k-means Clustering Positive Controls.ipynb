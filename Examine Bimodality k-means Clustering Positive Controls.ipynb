{
 "cells": [
  {
   "cell_type": "code",
   "execution_count": 1,
   "metadata": {},
   "outputs": [],
   "source": [
    "import os\n",
    "import numpy as np\n",
    "import pandas as pd\n",
    "import xarray as xr\n",
    "import matplotlib.pyplot as plt\n",
    "import matplotlib as mpl\n",
    "from scipy.stats import linregress\n",
    "import seaborn as sns\n",
    "import pymc3 as pm\n",
    "import arviz as az\n",
    "import plot_helpers\n",
    "import data_helpers\n",
    "from data_helpers import gate_dataframe, canonical_data_frame\n",
    "from sklearn.mixture import GaussianMixture \n",
    "from sklearn.cluster import KMeans"
   ]
  },
  {
   "cell_type": "code",
   "execution_count": 2,
   "metadata": {},
   "outputs": [],
   "source": [
    "PREGATED_DATA = os.path.exists('gated_positive_controls.csv')"
   ]
  },
  {
   "cell_type": "markdown",
   "metadata": {},
   "source": [
    "# Loading the Positive Controls data"
   ]
  },
  {
   "cell_type": "code",
   "execution_count": 3,
   "metadata": {},
   "outputs": [],
   "source": [
    "if PREGATED_DATA:\n",
    "    # Shortcut\n",
    "    df = pd.read_csv('gated_positive_controls.csv')\n",
    "\n",
    "else:\n",
    "    df = pd.read_csv('positive_controls.csv')\n",
    "    df.index.set_names('Event')"
   ]
  },
  {
   "cell_type": "code",
   "execution_count": 4,
   "metadata": {},
   "outputs": [],
   "source": [
    "df.set_index(['strain_name', 'inc_temp_degrees', 'inc_time_2_hrs', 'media', 'od', 'plate_id', 'replicate', 'event'], drop=True, inplace=True)"
   ]
  },
  {
   "cell_type": "markdown",
   "metadata": {},
   "source": [
    "# Gate the Positive Control Data"
   ]
  },
  {
   "cell_type": "code",
   "execution_count": 5,
   "metadata": {},
   "outputs": [
    {
     "name": "stdout",
     "output_type": "stream",
     "text": [
      "Input df index names are: ['strain_name', 'inc_temp_degrees', 'inc_time_2_hrs', 'media', 'od', 'plate_id', 'replicate', 'event']\n"
     ]
    },
    {
     "name": "stderr",
     "output_type": "stream",
     "text": [
      "/home/rpg/projects/xplan/replication-paper-data-analysis/data_helpers.py:117: SettingWithCopyWarning: \n",
      "A value is trying to be set on a copy of a slice from a DataFrame.\n",
      "Try using .loc[row_indexer,col_indexer] = value instead\n",
      "\n",
      "See the caveats in the documentation: https://pandas.pydata.org/pandas-docs/stable/user_guide/indexing.html#returning-a-view-versus-a-copy\n",
      "  new_df.loc[:, 'xx_lab_id'] = new_df['lab_id']\n",
      "/home/rpg/projects/xplan/replication-paper-data-analysis/data_helpers.py:118: SettingWithCopyWarning: \n",
      "A value is trying to be set on a copy of a slice from a DataFrame.\n",
      "Try using .loc[row_indexer,col_indexer] = value instead\n",
      "\n",
      "See the caveats in the documentation: https://pandas.pydata.org/pandas-docs/stable/user_guide/indexing.html#returning-a-view-versus-a-copy\n",
      "  new_df.loc[:, 'xx_well'] = new_df['well']\n"
     ]
    },
    {
     "name": "stdout",
     "output_type": "stream",
     "text": [
      "Before groupby, new_df index names are: ['strain_name', 'inc_temp_degrees', 'inc_time_2_hrs', 'media', 'od', 'plate_id', 'replicate', 'event']\n",
      "new_df2 columns are: Index(['od_cutoff', 'source_container', 'lab_id', 'id', 'gate', 'input',\n",
      "       'filename', 'output', 'Time', 'FSC_A', 'SSC_A', 'BL1_A', 'RL1_A',\n",
      "       'FSC_H', 'SSC_H', 'BL1_H', 'RL1_H', 'FSC_W', 'SSC_W', 'BL1_W', 'RL1_W',\n",
      "       'index', 'live_no_stain', 'live', 'well', 'inc_time_1_hrs', 'xx_lab_id',\n",
      "       'xx_well'],\n",
      "      dtype='object')\n",
      "new_df2 index levels are: ['lab_id', 'well', 'strain_name', 'inc_temp_degrees', 'inc_time_2_hrs', 'media', 'od', 'plate_id', 'replicate', 'event']\n"
     ]
    }
   ],
   "source": [
    "if not PREGATED_DATA:\n",
    "    df = gate_dataframe(df)"
   ]
  },
  {
   "cell_type": "code",
   "execution_count": 11,
   "metadata": {},
   "outputs": [
    {
     "name": "stdout",
     "output_type": "stream",
     "text": [
      "{'plate_id', 'lab_id', 'event', 'od', 'well', 'inc_temp_degrees', 'media', 'replicate', 'inc_time_2_hrs', 'strain_name'}\n"
     ]
    }
   ],
   "source": [
    "duplicates = {x for x in df.index.names if x in df.columns}\n",
    "df.drop(columns=list(duplicates), inplace=True)\n",
    "print(duplicates)"
   ]
  },
  {
   "cell_type": "markdown",
   "metadata": {},
   "source": [
    "# Remove data with 16h recovery time\n",
    "\n",
    "There are not many of these -- only three plates -- and they were done with an earlier version of the protocol.  They also seem to have other oddities."
   ]
  },
  {
   "cell_type": "code",
   "execution_count": 14,
   "metadata": {},
   "outputs": [
    {
     "name": "stdout",
     "output_type": "stream",
     "text": [
      "Experiments with 16h recovery time:\n",
      "['r1c5va9wyf3mx_r1c63bjzu5ruy' 'r1c5vac658fxn_r1c66qw595ydy'\n",
      " 'r1c5vad8u7ve2_r1c66q7cru28u']\n",
      "Experiments with 18h recovery time:\n",
      "['r1c7cpqp2k6cw_r1c7jn9syrr8s' 'r1c7cpu9nj2bu_r1c7fg23qkzph'\n",
      " 'r1c7cpvfzqprk_r1c7fbvba55db' 'r1c84xvquwxth_r1c8ek7vcmdxh'\n",
      " 'r1c84xwx57y95_r1c8ejz8jfg9z' 'r1c84xzc5dbuv_r1c8axrywctwb'\n",
      " 'r1c84y3r9yqxb_r1c8auwvzbgt3' 'r1c8xx6qe9eea_r1c93enbf48t7'\n",
      " 'r1c8xx7we38vw_r1c93cukfcxqp' 'r1c8xx94j94u7_r1c93ajvdzxz5'\n",
      " 'r1c8yx25rrtag_r1c96v2w8x5pq' 'r1c8yydkumrkr_r1c96xsxw79c9'\n",
      " 'r1c8yyg9gxbme_r1c96wn43pq45' 'r1c9tpmcezpk2_r1c9wjnedp92f'\n",
      " 'r1cbajqru7kbe_r1cbe9p9zu6dh' 'r1cbuszfskzjt_r1cc6ws9c3dh4'\n",
      " 'r1cbut2pdjtwv_r1cc6qzwcd4hx' 'r1cbut3veu2z4_r1cc6efukqtxx'\n",
      " 'r1cckyeq9r358_r1ccqgmy5ffcd' 'r1cckyh56hjqj_r1ccpyjef2vca'\n",
      " 'r1ccqfbz332u8_r1cctaf8r32rc' 'r1cctw6h5fsfg_r1ccx3axsj5ua'\n",
      " 'r1cctw7qh3777_r1ccwxr4t3wb6' 'r1cdcerdbpda2_r1cdfphfehzq2'\n",
      " 'r1cdcesknarkf_r1cdfg4x5uuwp' 'r1cdcetsvxgc2_r1cdfa6jrtssc'\n",
      " 'r1cdfr4bjcnrg_r1cdnuqex83dm' 'r1cdfsf4ezew3_r1cdjsyza79sr'\n",
      " 'r1ce3phrwnkqt_r1ceb8fj2hj9a' 'r1ce3pjymvm3u_r1ceb3rgpe8gm'\n",
      " 'r1ce3pm76spw4_r1ceas4zgsdt5' 'r1ce3pndp353t_r1ce7xkybfnqd'\n",
      " 'r1ce3pqt45vfe_r1ce7qf5e483u' 'r1ceuhqmu6c7w_r1cf6snbv99p8'\n",
      " 'r1ceuhrtvgyvd_r1cf6kx2a233e' 'r1ceuhu9enre5_r1cf33y4j6dyg'\n",
      " 'r1ceuhvgf7b4y_r1cf2yr353x5j' 'r1cf3p48cauwv_r1cf6hech88mh'\n",
      " 'r1cfkpp2p3kjz_r1cftpr8wxqc7' 'r1cfkpq8n84aj_r1cftg78pbqd7'\n",
      " 'r1cfkprehr2fj_r1cft8f7cbsp7' 'r1cfkptta6kuc_r1cfq4k72rwba'\n",
      " 'r1cfkpuz2kr6c_r1cfpvk5hjkzb' 'r1cft9f659y9s_r1cfx3nrnc2uw'\n",
      " 'r1cft9gbs55yn_r1cfwthkscwsk' 'r1cft9hhnhjdb_r1cfwgjmz247y'\n",
      " 'r1cgbw3xk7pau_r1cgpa54x8ff3' 'r1cgbw6bqmemz_r1cgnt4s2c5ty'\n",
      " 'r1cgbw7hjvxgx_r1cgjxrexhd4j' 'r1cgbw9ww9g9h_r1cgjg8e8xeav'\n",
      " 'r1ch7zwzznes3_r1cheagmxcqvt' 'r1cwvvwryt3q49_r1cx4ux3zcdt4w'\n",
      " 'r1cyey8rzxq269_r1cysrdt3pvt5n' 'r1cyeye2du6ep8_r1cysfjkjjphqj'\n",
      " 'r1cyeyjwbefaf2_r1cys7qtr6j42x' 'r1d6r8p5ddgsut_r1d8fgr2efzrhj'\n",
      " 'r1d6r8ykf868ep_r1d98fh76wrqp7' 'r1d6r8ztq8zfa7_r1d952nn9xk753'\n",
      " 'r1d6r932unhafk_r1d93nuytthhp4']\n"
     ]
    }
   ],
   "source": [
    "if not PREGATED_DATA:\n",
    "    df.reset_index(inplace=True, drop=False)\n",
    "    print('Experiments with 16h recovery time:')\n",
    "    print(df[df['inc_time_1_hrs'] == 16].lab_id.unique())\n",
    "    print('Experiments with 18h recovery time:')\n",
    "    print(df[df['inc_time_1_hrs'] == 18].lab_id.unique())\n",
    "    df = df[df['inc_time_1_hrs'] == 18]\n",
    "else:\n",
    "    assert df[df['inc_time_1_hrs'] == 16].empty"
   ]
  },
  {
   "cell_type": "markdown",
   "metadata": {},
   "source": [
    "# Add logs for scatter values"
   ]
  },
  {
   "cell_type": "code",
   "execution_count": 15,
   "metadata": {},
   "outputs": [
    {
     "name": "stderr",
     "output_type": "stream",
     "text": [
      "/tmp/ipykernel_41762/1550729792.py:5: SettingWithCopyWarning: \n",
      "A value is trying to be set on a copy of a slice from a DataFrame.\n",
      "Try using .loc[row_indexer,col_indexer] = value instead\n",
      "\n",
      "See the caveats in the documentation: https://pandas.pydata.org/pandas-docs/stable/user_guide/indexing.html#returning-a-view-versus-a-copy\n",
      "  df.loc[:, 'log_FSC_A'] = np.log10(df.FSC_A + 1)\n",
      "/tmp/ipykernel_41762/1550729792.py:6: SettingWithCopyWarning: \n",
      "A value is trying to be set on a copy of a slice from a DataFrame.\n",
      "Try using .loc[row_indexer,col_indexer] = value instead\n",
      "\n",
      "See the caveats in the documentation: https://pandas.pydata.org/pandas-docs/stable/user_guide/indexing.html#returning-a-view-versus-a-copy\n",
      "  df.loc[:, 'log_SSC_A'] = np.log10(df.SSC_A + 1)\n"
     ]
    }
   ],
   "source": [
    "if PREGATED_DATA:\n",
    "    assert 'log_FSC_A' in df.columns\n",
    "    assert 'log_SSC_A' in df.columns\n",
    "else:\n",
    "    df.loc[:, 'log_FSC_A'] = np.log10(df.FSC_A + 1)\n",
    "    df.loc[:, 'log_SSC_A'] = np.log10(df.SSC_A + 1)\n",
    "\n",
    "    # Drop bad log values\n",
    "\n",
    "    rs = {\n",
    "        'log_FSC_A': np.inf, \n",
    "        'log_FSC_A': -np.inf,\n",
    "        'log_SSC_A': np.inf, \n",
    "        'log_SSC_A': -np.inf,\n",
    "         }\n",
    "\n",
    "    df = df.replace(to_replace=rs, value=np.nan)\n",
    "    df.dropna(subset=['log_FSC_A', 'log_SSC_A'], inplace=True)"
   ]
  },
  {
   "cell_type": "markdown",
   "metadata": {},
   "source": [
    "Cache a copy of the data"
   ]
  },
  {
   "cell_type": "code",
   "execution_count": 16,
   "metadata": {},
   "outputs": [],
   "source": [
    "if not PREGATED_DATA:\n",
    "    df.to_csv('gated_positive_controls.csv')"
   ]
  },
  {
   "cell_type": "markdown",
   "metadata": {},
   "source": [
    "# Clustering Ratios"
   ]
  },
  {
   "cell_type": "code",
   "execution_count": 17,
   "metadata": {},
   "outputs": [],
   "source": [
    "df.loc[:, 'scatter_log_ratio'] = df['log_SSC_A'] / df['log_FSC_A']\n",
    "df.loc[:, 'scatter_log_diff'] = df['log_SSC_A'] - df['log_FSC_A']"
   ]
  },
  {
   "cell_type": "code",
   "execution_count": 18,
   "metadata": {},
   "outputs": [],
   "source": [
    "x = df['scatter_log_ratio'].values\n",
    "x = np.reshape(x, (-1,1))\n",
    "model = KMeans(n_clusters=2).fit(x)"
   ]
  },
  {
   "cell_type": "code",
   "execution_count": 19,
   "metadata": {},
   "outputs": [],
   "source": [
    "df.loc[:, 'cluster_index'] = model.predict(x)"
   ]
  },
  {
   "cell_type": "code",
   "execution_count": 70,
   "metadata": {},
   "outputs": [
    {
     "data": {
      "image/png": "[encoded data removed]",
      "text/plain": [
       "<Figure size 432x288 with 2 Axes>"
      ]
     },
     "metadata": {
      "needs_background": "light"
     },
     "output_type": "display_data"
    }
   ],
   "source": [
    "plot_helpers.make_heatmap(plot_helpers.point_cloud_to_histogram(df[df['cluster_index'] == 0], logscale=True), logscale=True);"
   ]
  },
  {
   "cell_type": "code",
   "execution_count": 72,
   "metadata": {},
   "outputs": [
    {
     "data": {
      "image/png": "[encoded data removed]",
      "text/plain": [
       "<Figure size 432x288 with 2 Axes>"
      ]
     },
     "metadata": {
      "needs_background": "light"
     },
     "output_type": "display_data"
    }
   ],
   "source": [
    "plot_helpers.make_heatmap(plot_helpers.point_cloud_to_histogram(df[df['cluster_index'] == 1], logscale=True), logscale=True);"
   ]
  },
  {
   "cell_type": "code",
   "execution_count": 73,
   "metadata": {
    "scrolled": false
   },
   "outputs": [
    {
     "data": {
      "image/png": "[encoded data removed]",
      "text/plain": [
       "<Figure size 1080x360 with 4 Axes>"
      ]
     },
     "metadata": {
      "needs_background": "light"
     },
     "output_type": "display_data"
    }
   ],
   "source": [
    "fig, axeses = plt.subplots(nrows=1, ncols=2, figsize=(15, 5), sharey=True)\n",
    "plot_helpers.make_heatmap(plot_helpers.point_cloud_to_histogram(df[df['cluster_index'] == 0], logscale=True), \n",
    "                          logscale=True, \n",
    "                          ax=axeses[0] )\n",
    "axeses[0].set_title('Cluster 1') ; axeses[1].set_title('Cluster 2')\n",
    "plot_helpers.make_heatmap(plot_helpers.point_cloud_to_histogram(df[df['cluster_index'] == 1], logscale=True),\n",
    "                          logscale=True,\n",
    "                          ax=axeses[1])\n",
    "axeses[1].set_ylabel(\"\");\n",
    "fig.savefig('two_cluster_positive_controls.pdf', format='pdf');"
   ]
  },
  {
   "cell_type": "markdown",
   "metadata": {},
   "source": [
    "# Analyze the two clusters with linear regression"
   ]
  },
  {
   "cell_type": "code",
   "execution_count": 23,
   "metadata": {},
   "outputs": [],
   "source": [
    "r_df = pd.DataFrame(columns=['r value', 'events'], index=pd.Index(['Cluster 1', 'Cluster 2', 'All Data']))"
   ]
  },
  {
   "cell_type": "markdown",
   "metadata": {},
   "source": [
    "## Cluster 1"
   ]
  },
  {
   "cell_type": "code",
   "execution_count": 24,
   "metadata": {},
   "outputs": [
    {
     "data": {
      "text/plain": [
       "LinregressResult(slope=1.0147166061095962, intercept=0.36828888658172954, rvalue=0.9215660691152526, pvalue=0.0, stderr=0.00048263325942008356, intercept_stderr=0.002443024696819044)"
      ]
     },
     "execution_count": 24,
     "metadata": {},
     "output_type": "execute_result"
    }
   ],
   "source": [
    "idf = df[df['cluster_index'] == 0]\n",
    "lr_result = linregress(idf.log_FSC_A.values, idf.log_SSC_A.values)\n",
    "r_df.at['Cluster 1', 'r value'] = lr_result.rvalue\n",
    "r_df.at['Cluster 1', 'events'] = idf.shape[0]\n",
    "lr_result"
   ]
  },
  {
   "cell_type": "markdown",
   "metadata": {},
   "source": [
    "## Cluster 2"
   ]
  },
  {
   "cell_type": "code",
   "execution_count": 25,
   "metadata": {},
   "outputs": [
    {
     "data": {
      "text/plain": [
       "LinregressResult(slope=1.0207795183079185, intercept=0.6326746073166243, rvalue=0.8979737198106874, pvalue=0.0, stderr=0.0007006031483456928, intercept_stderr=0.0033619011957189064)"
      ]
     },
     "execution_count": 25,
     "metadata": {},
     "output_type": "execute_result"
    }
   ],
   "source": [
    "idf = df[df['cluster_index'] == 1]\n",
    "lr_result = linregress(idf.log_FSC_A.values, idf.log_SSC_A.values)\n",
    "r_df.at['Cluster 2', 'r value'] = lr_result.rvalue\n",
    "r_df.at['Cluster 2', 'events'] = idf.shape[0]\n",
    "lr_result"
   ]
  },
  {
   "cell_type": "markdown",
   "metadata": {},
   "source": [
    "## Pooled Data"
   ]
  },
  {
   "cell_type": "code",
   "execution_count": 26,
   "metadata": {},
   "outputs": [
    {
     "data": {
      "text/plain": [
       "LinregressResult(slope=0.7056139084969542, intercept=2.0151280864498013, rvalue=0.7444693938597196, pvalue=0.0, stderr=0.0005562450805791648, intercept_stderr=0.0027588797421526016)"
      ]
     },
     "execution_count": 26,
     "metadata": {},
     "output_type": "execute_result"
    }
   ],
   "source": [
    "idf = df\n",
    "lr_result = linregress(idf.log_FSC_A.values, idf.log_SSC_A.values)\n",
    "r_df.at['All Data', 'r value'] = lr_result.rvalue\n",
    "r_df.at['All Data', 'events'] = idf.shape[0]\n",
    "lr_result"
   ]
  },
  {
   "cell_type": "markdown",
   "metadata": {},
   "source": [
    "## Comparison table"
   ]
  },
  {
   "cell_type": "code",
   "execution_count": 27,
   "metadata": {},
   "outputs": [
    {
     "data": {
      "text/html": [
       "<div>\n",
       "<style scoped>\n",
       "    .dataframe tbody tr th:only-of-type {\n",
       "        vertical-align: middle;\n",
       "    }\n",
       "\n",
       "    .dataframe tbody tr th {\n",
       "        vertical-align: top;\n",
       "    }\n",
       "\n",
       "    .dataframe thead th {\n",
       "        text-align: right;\n",
       "    }\n",
       "</style>\n",
       "<table border=\"1\" class=\"dataframe\">\n",
       "  <thead>\n",
       "    <tr style=\"text-align: right;\">\n",
       "      <th></th>\n",
       "      <th>r value</th>\n",
       "      <th>events</th>\n",
       "    </tr>\n",
       "  </thead>\n",
       "  <tbody>\n",
       "    <tr>\n",
       "      <th>Cluster 1</th>\n",
       "      <td>0.921566</td>\n",
       "      <td>784445</td>\n",
       "    </tr>\n",
       "    <tr>\n",
       "      <th>Cluster 2</th>\n",
       "      <td>0.897974</td>\n",
       "      <td>509796</td>\n",
       "    </tr>\n",
       "    <tr>\n",
       "      <th>All Data</th>\n",
       "      <td>0.744469</td>\n",
       "      <td>1294241</td>\n",
       "    </tr>\n",
       "  </tbody>\n",
       "</table>\n",
       "</div>"
      ],
      "text/plain": [
       "            r value   events\n",
       "Cluster 1  0.921566   784445\n",
       "Cluster 2  0.897974   509796\n",
       "All Data   0.744469  1294241"
      ]
     },
     "execution_count": 27,
     "metadata": {},
     "output_type": "execute_result"
    }
   ],
   "source": [
    "r_df"
   ]
  },
  {
   "cell_type": "code",
   "execution_count": 28,
   "metadata": {},
   "outputs": [
    {
     "name": "stderr",
     "output_type": "stream",
     "text": [
      "/tmp/ipykernel_41762/3693053959.py:1: FutureWarning: In future versions `DataFrame.to_latex` is expected to utilise the base implementation of `Styler.to_latex` for formatting and rendering. The arguments signature may therefore change. It is recommended instead to use `DataFrame.style.to_latex` which also contains additional functionality.\n",
      "  r_df.to_latex('positive_controls_r_values.tex')\n"
     ]
    }
   ],
   "source": [
    "r_df.to_latex('positive_controls_r_values.tex')"
   ]
  },
  {
   "cell_type": "markdown",
   "metadata": {},
   "source": [
    "# Plot the fluorescence separately"
   ]
  },
  {
   "cell_type": "code",
   "execution_count": 93,
   "metadata": {},
   "outputs": [
    {
     "data": {
      "text/plain": [
       "4322"
      ]
     },
     "execution_count": 93,
     "metadata": {},
     "output_type": "execute_result"
    }
   ],
   "source": [
    "reload(plot_helpers)\n",
    "plot_helpers.point_cloud_to_histogram(df[df['cluster_index'] == 0], channels=('FSC_A', 'BL1_A'), logscale=True).values.max()"
   ]
  },
  {
   "cell_type": "code",
   "execution_count": 104,
   "metadata": {},
   "outputs": [
    {
     "name": "stdout",
     "output_type": "stream",
     "text": [
      "Automatic pdb calling has been turned OFF\n"
     ]
    },
    {
     "data": {
      "image/png": "[encoded data removed]",
      "text/plain": [
       "<Figure size 432x288 with 2 Axes>"
      ]
     },
     "metadata": {
      "needs_background": "light"
     },
     "output_type": "display_data"
    }
   ],
   "source": [
    "plot_helpers.make_heatmap(plot_helpers.point_cloud_to_histogram(df[df['cluster_index'] == 0], logscale=True, channels=('FSC_A', 'BL1_A')), logscale=True);"
   ]
  },
  {
   "cell_type": "code",
   "execution_count": 106,
   "metadata": {},
   "outputs": [
    {
     "data": {
      "image/png": "[encoded data removed]",
      "text/plain": [
       "<Figure size 432x288 with 2 Axes>"
      ]
     },
     "metadata": {
      "needs_background": "light"
     },
     "output_type": "display_data"
    }
   ],
   "source": [
    "plot_helpers.make_heatmap(plot_helpers.point_cloud_to_histogram(df[df['cluster_index'] == 1], \n",
    "                                                                channels=('FSC_A', 'BL1_A'),\n",
    "                                                                logscale=True), \n",
    "                          logscale=True);"
   ]
  },
  {
   "cell_type": "code",
   "execution_count": 115,
   "metadata": {},
   "outputs": [
    {
     "data": {
      "image/png": "[encoded data removed]",
      "text/plain": [
       "<Figure size 432x288 with 1 Axes>"
      ]
     },
     "metadata": {
      "needs_background": "light"
     },
     "output_type": "display_data"
    }
   ],
   "source": [
    "ax = sns.kdeplot(df[df['cluster_index'] == 0]['BL1_A'], label='C1 (main)')\n",
    "sns.kdeplot(df[df['cluster_index'] == 1]['BL1_A'], ax=ax, label='C2 (second mode)')\n",
    "ax.set_xscale('log')\n",
    "ax.legend()\n",
    "ax.figure.savefig('positive_control_clusters_fluorescence.pdf', format='pdf')"
   ]
  },
  {
   "cell_type": "code",
   "execution_count": null,
   "metadata": {},
   "outputs": [],
   "source": []
  }
 ],
 "metadata": {
  "kernelspec": {
   "display_name": "Python 3 (ipykernel)",
   "language": "python",
   "name": "python3"
  },
  "language_info": {
   "codemirror_mode": {
    "name": "ipython",
    "version": 3
   },
   "file_extension": ".py",
   "mimetype": "text/x-python",
   "name": "python",
   "nbconvert_exporter": "python",
   "pygments_lexer": "ipython3",
   "version": "3.9.12"
  }
 },
 "nbformat": 4,
 "nbformat_minor": 4
}
