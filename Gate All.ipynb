{
 "cells": [
  {
   "cell_type": "code",
   "execution_count": 1,
   "metadata": {},
   "outputs": [],
   "source": [
    "%load_ext autoreload\n",
    "%autoreload 2"
   ]
  },
  {
   "cell_type": "code",
   "execution_count": 2,
   "metadata": {},
   "outputs": [],
   "source": [
    "import os\n",
    "import warnings\n",
    "\n",
    "from glob import glob\n",
    "from copy import deepcopy\n",
    "from numbers import Number\n",
    "\n",
    "import numpy as np\n",
    "import pandas as pd\n",
    "\n",
    "import data_helpers"
   ]
  },
  {
   "cell_type": "code",
   "execution_count": 3,
   "metadata": {},
   "outputs": [],
   "source": [
    "DATA_DIR = os.path.expanduser(\"~/sd2e-projects/sd2e-project-14/xplan-reactor/data/transcriptic\")\n",
    "assert os.path.exists(DATA_DIR)"
   ]
  },
  {
   "cell_type": "code",
   "execution_count": 4,
   "metadata": {},
   "outputs": [],
   "source": [
    "accuracy_table = pd.read_csv('accuracy_set.csv', index_col=0)"
   ]
  },
  {
   "cell_type": "markdown",
   "metadata": {},
   "source": [
    "# Gate All Data\n",
    "\n",
    "To see if absence of gating caused any of the anomalies we see in the model results, apply the gates to all of the data and save the results for later analysis."
   ]
  },
  {
   "cell_type": "markdown",
   "metadata": {},
   "source": [
    "## Check \"table of contents\"\n",
    "\n",
    "First, check to make sure that the data in `accuracy_check.csv` covers the set of data in the filesystem."
   ]
  },
  {
   "cell_type": "code",
   "execution_count": 5,
   "metadata": {},
   "outputs": [
    {
     "data": {
      "text/plain": [
       "['/work/05204/rpg/jupyter/sd2e-projects/sd2e-project-14/xplan-reactor/data/transcriptic/r1c5va879uaex_r1c639xp952g4.csv',\n",
       " '/work/05204/rpg/jupyter/sd2e-projects/sd2e-project-14/xplan-reactor/data/transcriptic/r1c5va9wyf3mx_r1c63bjzu5ruy.csv',\n",
       " '/work/05204/rpg/jupyter/sd2e-projects/sd2e-project-14/xplan-reactor/data/transcriptic/r1c5vab4q2yu9_r1c63c2e7z9hj.csv',\n",
       " '/work/05204/rpg/jupyter/sd2e-projects/sd2e-project-14/xplan-reactor/data/transcriptic/r1c5vac658fxn_r1c66qw595ydy.csv',\n",
       " '/work/05204/rpg/jupyter/sd2e-projects/sd2e-project-14/xplan-reactor/data/transcriptic/r1c5vad8u7ve2_r1c66q7cru28u.csv',\n",
       " '/work/05204/rpg/jupyter/sd2e-projects/sd2e-project-14/xplan-reactor/data/transcriptic/r1c5vaeb8vbt9_r1c66mfpj7guh.csv',\n",
       " '/work/05204/rpg/jupyter/sd2e-projects/sd2e-project-14/xplan-reactor/data/transcriptic/r1c7cppfr7yp6_r1c7jnv3pkbsj.csv',\n",
       " '/work/05204/rpg/jupyter/sd2e-projects/sd2e-project-14/xplan-reactor/data/transcriptic/r1c7cpqp2k6cw_r1c7jn9syrr8s.csv',\n",
       " '/work/05204/rpg/jupyter/sd2e-projects/sd2e-project-14/xplan-reactor/data/transcriptic/r1c7cprv7fe49_r1c7jmje3ebhc.csv',\n",
       " '/work/05204/rpg/jupyter/sd2e-projects/sd2e-project-14/xplan-reactor/data/transcriptic/r1c7cpt3djxuj_r1c7fex29q6t2.csv',\n",
       " '/work/05204/rpg/jupyter/sd2e-projects/sd2e-project-14/xplan-reactor/data/transcriptic/r1c7cpu9nj2bu_r1c7fg23qkzph.csv',\n",
       " '/work/05204/rpg/jupyter/sd2e-projects/sd2e-project-14/xplan-reactor/data/transcriptic/r1c7cpvfzqprk_r1c7fbvba55db.csv',\n",
       " '/work/05204/rpg/jupyter/sd2e-projects/sd2e-project-14/xplan-reactor/data/transcriptic/r1c84xvquwxth_r1c8ek7vcmdxh.csv',\n",
       " '/work/05204/rpg/jupyter/sd2e-projects/sd2e-project-14/xplan-reactor/data/transcriptic/r1c84xwx57y95_r1c8ejz8jfg9z.csv',\n",
       " '/work/05204/rpg/jupyter/sd2e-projects/sd2e-project-14/xplan-reactor/data/transcriptic/r1c84xy5frkf3_r1c8ejr9kezva.csv',\n",
       " '/work/05204/rpg/jupyter/sd2e-projects/sd2e-project-14/xplan-reactor/data/transcriptic/r1c84xzc5dbuv_r1c8axrywctwb.csv',\n",
       " '/work/05204/rpg/jupyter/sd2e-projects/sd2e-project-14/xplan-reactor/data/transcriptic/r1c84y2j7n7bu_r1c8aw59wfxy8.csv',\n",
       " '/work/05204/rpg/jupyter/sd2e-projects/sd2e-project-14/xplan-reactor/data/transcriptic/r1c84y3r9yqxb_r1c8auwvzbgt3.csv',\n",
       " '/work/05204/rpg/jupyter/sd2e-projects/sd2e-project-14/xplan-reactor/data/transcriptic/r1c8xx6qe9eea_r1c93enbf48t7.csv',\n",
       " '/work/05204/rpg/jupyter/sd2e-projects/sd2e-project-14/xplan-reactor/data/transcriptic/r1c8xx7we38vw_r1c93cukfcxqp.csv',\n",
       " '/work/05204/rpg/jupyter/sd2e-projects/sd2e-project-14/xplan-reactor/data/transcriptic/r1c8xx94j94u7_r1c93ajvdzxz5.csv',\n",
       " '/work/05204/rpg/jupyter/sd2e-projects/sd2e-project-14/xplan-reactor/data/transcriptic/r1c8yx25rrtag_r1c96v2w8x5pq.csv',\n",
       " '/work/05204/rpg/jupyter/sd2e-projects/sd2e-project-14/xplan-reactor/data/transcriptic/r1c8yydkumrkr_r1c96xsxw79c9.csv',\n",
       " '/work/05204/rpg/jupyter/sd2e-projects/sd2e-project-14/xplan-reactor/data/transcriptic/r1c8yyg9gxbme_r1c96wn43pq45.csv',\n",
       " '/work/05204/rpg/jupyter/sd2e-projects/sd2e-project-14/xplan-reactor/data/transcriptic/r1c9tpk5zrbsk_r1c9wpbvjszxe.csv',\n",
       " '/work/05204/rpg/jupyter/sd2e-projects/sd2e-project-14/xplan-reactor/data/transcriptic/r1c9tpmcezpk2_r1c9wjnedp92f.csv',\n",
       " '/work/05204/rpg/jupyter/sd2e-projects/sd2e-project-14/xplan-reactor/data/transcriptic/r1cbajphx4ekf_r1cbeec6cxn2t.csv',\n",
       " '/work/05204/rpg/jupyter/sd2e-projects/sd2e-project-14/xplan-reactor/data/transcriptic/r1cbajqru7kbe_r1cbe9p9zu6dh.csv',\n",
       " '/work/05204/rpg/jupyter/sd2e-projects/sd2e-project-14/xplan-reactor/data/transcriptic/r1cbajrxthe7y_r1cbdzkebbd46.csv',\n",
       " '/work/05204/rpg/jupyter/sd2e-projects/sd2e-project-14/xplan-reactor/data/transcriptic/r1cbuszfskzjt_r1cc6ws9c3dh4.csv',\n",
       " '/work/05204/rpg/jupyter/sd2e-projects/sd2e-project-14/xplan-reactor/data/transcriptic/r1cbut2pdjtwv_r1cc6qzwcd4hx.csv',\n",
       " '/work/05204/rpg/jupyter/sd2e-projects/sd2e-project-14/xplan-reactor/data/transcriptic/r1cbut3veu2z4_r1cc6efukqtxx.csv',\n",
       " '/work/05204/rpg/jupyter/sd2e-projects/sd2e-project-14/xplan-reactor/data/transcriptic/r1cbut53kpf3n_r1cc3bn2s2aj8.csv',\n",
       " '/work/05204/rpg/jupyter/sd2e-projects/sd2e-project-14/xplan-reactor/data/transcriptic/r1cbut6a79n9t_r1cc34mkuvzeh.csv',\n",
       " '/work/05204/rpg/jupyter/sd2e-projects/sd2e-project-14/xplan-reactor/data/transcriptic/r1cbut7g7x6pg_r1cc2xauy7qaa.csv',\n",
       " '/work/05204/rpg/jupyter/sd2e-projects/sd2e-project-14/xplan-reactor/data/transcriptic/r1cckyeq9r358_r1ccqgmy5ffcd.csv',\n",
       " '/work/05204/rpg/jupyter/sd2e-projects/sd2e-project-14/xplan-reactor/data/transcriptic/r1cckyfwfae4d_r1ccq83ggacxc.csv',\n",
       " '/work/05204/rpg/jupyter/sd2e-projects/sd2e-project-14/xplan-reactor/data/transcriptic/r1cckyh56hjqj_r1ccpyjef2vca.csv',\n",
       " '/work/05204/rpg/jupyter/sd2e-projects/sd2e-project-14/xplan-reactor/data/transcriptic/r1ccqf9jq2wvd_r1cctubuxvmvs.csv',\n",
       " '/work/05204/rpg/jupyter/sd2e-projects/sd2e-project-14/xplan-reactor/data/transcriptic/r1ccqfas8urfk_r1cctk2a3wbk5.csv',\n",
       " '/work/05204/rpg/jupyter/sd2e-projects/sd2e-project-14/xplan-reactor/data/transcriptic/r1ccqfbz332u8_r1cctaf8r32rc.csv',\n",
       " '/work/05204/rpg/jupyter/sd2e-projects/sd2e-project-14/xplan-reactor/data/transcriptic/r1cctw6h5fsfg_r1ccx3axsj5ua.csv',\n",
       " '/work/05204/rpg/jupyter/sd2e-projects/sd2e-project-14/xplan-reactor/data/transcriptic/r1cctw7qh3777_r1ccwxr4t3wb6.csv',\n",
       " '/work/05204/rpg/jupyter/sd2e-projects/sd2e-project-14/xplan-reactor/data/transcriptic/r1cctw8wvwpbg_r1ccwteetw82v.csv',\n",
       " '/work/05204/rpg/jupyter/sd2e-projects/sd2e-project-14/xplan-reactor/data/transcriptic/r1cdcerdbpda2_r1cdfphfehzq2.csv',\n",
       " '/work/05204/rpg/jupyter/sd2e-projects/sd2e-project-14/xplan-reactor/data/transcriptic/r1cdcesknarkf_r1cdfg4x5uuwp.csv',\n",
       " '/work/05204/rpg/jupyter/sd2e-projects/sd2e-project-14/xplan-reactor/data/transcriptic/r1cdcetsvxgc2_r1cdfa6jrtssc.csv',\n",
       " '/work/05204/rpg/jupyter/sd2e-projects/sd2e-project-14/xplan-reactor/data/transcriptic/r1cdfr36fb76a_r1cdjmabskps3.csv',\n",
       " '/work/05204/rpg/jupyter/sd2e-projects/sd2e-project-14/xplan-reactor/data/transcriptic/r1cdfr4bjcnrg_r1cdnuqex83dm.csv',\n",
       " '/work/05204/rpg/jupyter/sd2e-projects/sd2e-project-14/xplan-reactor/data/transcriptic/r1cdfr5gjs72s_r1cdk2gjusax6.csv',\n",
       " '/work/05204/rpg/jupyter/sd2e-projects/sd2e-project-14/xplan-reactor/data/transcriptic/r1cdfsf4ezew3_r1cdjsyza79sr.csv',\n",
       " '/work/05204/rpg/jupyter/sd2e-projects/sd2e-project-14/xplan-reactor/data/transcriptic/r1cdhymqfs6b3_r1cdnzf4hbuz2.csv',\n",
       " '/work/05204/rpg/jupyter/sd2e-projects/sd2e-project-14/xplan-reactor/data/transcriptic/r1ce3p3p7j77n_r1ceevbnsqku2.csv',\n",
       " '/work/05204/rpg/jupyter/sd2e-projects/sd2e-project-14/xplan-reactor/data/transcriptic/r1ce3p4vgfu3p_r1ceebve8d6tc.csv',\n",
       " '/work/05204/rpg/jupyter/sd2e-projects/sd2e-project-14/xplan-reactor/data/transcriptic/r1ce3p63vnpzq_r1cee5f7knupg.csv',\n",
       " '/work/05204/rpg/jupyter/sd2e-projects/sd2e-project-14/xplan-reactor/data/transcriptic/r1ce3phrwnkqt_r1ceb8fj2hj9a.csv',\n",
       " '/work/05204/rpg/jupyter/sd2e-projects/sd2e-project-14/xplan-reactor/data/transcriptic/r1ce3pjymvm3u_r1ceb3rgpe8gm.csv',\n",
       " '/work/05204/rpg/jupyter/sd2e-projects/sd2e-project-14/xplan-reactor/data/transcriptic/r1ce3pm76spw4_r1ceas4zgsdt5.csv',\n",
       " '/work/05204/rpg/jupyter/sd2e-projects/sd2e-project-14/xplan-reactor/data/transcriptic/r1ce3pndp353t_r1ce7xkybfnqd.csv',\n",
       " '/work/05204/rpg/jupyter/sd2e-projects/sd2e-project-14/xplan-reactor/data/transcriptic/r1ce3ppkyswxf_r1ce7qk6h482m.csv',\n",
       " '/work/05204/rpg/jupyter/sd2e-projects/sd2e-project-14/xplan-reactor/data/transcriptic/r1ce3pqt45vfe_r1ce7qf5e483u.csv',\n",
       " '/work/05204/rpg/jupyter/sd2e-projects/sd2e-project-14/xplan-reactor/data/transcriptic/r1ceuhqmu6c7w_r1cf6snbv99p8.csv',\n",
       " '/work/05204/rpg/jupyter/sd2e-projects/sd2e-project-14/xplan-reactor/data/transcriptic/r1ceuhrtvgyvd_r1cf6kx2a233e.csv',\n",
       " '/work/05204/rpg/jupyter/sd2e-projects/sd2e-project-14/xplan-reactor/data/transcriptic/r1ceuhu9enre5_r1cf33y4j6dyg.csv',\n",
       " '/work/05204/rpg/jupyter/sd2e-projects/sd2e-project-14/xplan-reactor/data/transcriptic/r1ceuhvgf7b4y_r1cf2yr353x5j.csv',\n",
       " '/work/05204/rpg/jupyter/sd2e-projects/sd2e-project-14/xplan-reactor/data/transcriptic/r1cf3p48cauwv_r1cf6hech88mh.csv',\n",
       " '/work/05204/rpg/jupyter/sd2e-projects/sd2e-project-14/xplan-reactor/data/transcriptic/r1cfkpp2p3kjz_r1cftpr8wxqc7.csv',\n",
       " '/work/05204/rpg/jupyter/sd2e-projects/sd2e-project-14/xplan-reactor/data/transcriptic/r1cfkpq8n84aj_r1cftg78pbqd7.csv',\n",
       " '/work/05204/rpg/jupyter/sd2e-projects/sd2e-project-14/xplan-reactor/data/transcriptic/r1cfkprehr2fj_r1cft8f7cbsp7.csv',\n",
       " '/work/05204/rpg/jupyter/sd2e-projects/sd2e-project-14/xplan-reactor/data/transcriptic/r1cfkpsmdkgjb_r1cfqbcwrk6vu.csv',\n",
       " '/work/05204/rpg/jupyter/sd2e-projects/sd2e-project-14/xplan-reactor/data/transcriptic/r1cfkptta6kuc_r1cfq4k72rwba.csv',\n",
       " '/work/05204/rpg/jupyter/sd2e-projects/sd2e-project-14/xplan-reactor/data/transcriptic/r1cfkpuz2kr6c_r1cfpvk5hjkzb.csv',\n",
       " '/work/05204/rpg/jupyter/sd2e-projects/sd2e-project-14/xplan-reactor/data/transcriptic/r1cft9f659y9s_r1cfx3nrnc2uw.csv',\n",
       " '/work/05204/rpg/jupyter/sd2e-projects/sd2e-project-14/xplan-reactor/data/transcriptic/r1cft9gbs55yn_r1cfwthkscwsk.csv',\n",
       " '/work/05204/rpg/jupyter/sd2e-projects/sd2e-project-14/xplan-reactor/data/transcriptic/r1cft9hhnhjdb_r1cfwgjmz247y.csv',\n",
       " '/work/05204/rpg/jupyter/sd2e-projects/sd2e-project-14/xplan-reactor/data/transcriptic/r1cgbw3xk7pau_r1cgpa54x8ff3.csv',\n",
       " '/work/05204/rpg/jupyter/sd2e-projects/sd2e-project-14/xplan-reactor/data/transcriptic/r1cgbw55mdzsa_r1cgp2v2jqn9h.csv',\n",
       " '/work/05204/rpg/jupyter/sd2e-projects/sd2e-project-14/xplan-reactor/data/transcriptic/r1cgbw6bqmemz_r1cgnt4s2c5ty.csv',\n",
       " '/work/05204/rpg/jupyter/sd2e-projects/sd2e-project-14/xplan-reactor/data/transcriptic/r1cgbw7hjvxgx_r1cgjxrexhd4j.csv',\n",
       " '/work/05204/rpg/jupyter/sd2e-projects/sd2e-project-14/xplan-reactor/data/transcriptic/r1cgbw8qkp6z4_r1cgjpjx5ve76.csv',\n",
       " '/work/05204/rpg/jupyter/sd2e-projects/sd2e-project-14/xplan-reactor/data/transcriptic/r1cgbw9ww9g9h_r1cgjg8e8xeav.csv',\n",
       " '/work/05204/rpg/jupyter/sd2e-projects/sd2e-project-14/xplan-reactor/data/transcriptic/r1ch7zwzznes3_r1cheagmxcqvt.csv',\n",
       " '/work/05204/rpg/jupyter/sd2e-projects/sd2e-project-14/xplan-reactor/data/transcriptic/r1cwvvvj2bh6hc_r1cx4pbeyv2q29.csv',\n",
       " '/work/05204/rpg/jupyter/sd2e-projects/sd2e-project-14/xplan-reactor/data/transcriptic/r1cwvvwryt3q49_r1cx4ux3zcdt4w.csv',\n",
       " '/work/05204/rpg/jupyter/sd2e-projects/sd2e-project-14/xplan-reactor/data/transcriptic/r1cwvvxz5d7wua_r1cx7ucsnkjfsb.csv',\n",
       " '/work/05204/rpg/jupyter/sd2e-projects/sd2e-project-14/xplan-reactor/data/transcriptic/r1cyey8rzxq269_r1cysrdt3pvt5n.csv',\n",
       " '/work/05204/rpg/jupyter/sd2e-projects/sd2e-project-14/xplan-reactor/data/transcriptic/r1cyeye2du6ep8_r1cysfjkjjphqj.csv',\n",
       " '/work/05204/rpg/jupyter/sd2e-projects/sd2e-project-14/xplan-reactor/data/transcriptic/r1cyeyjwbefaf2_r1cys7qtr6j42x.csv',\n",
       " '/work/05204/rpg/jupyter/sd2e-projects/sd2e-project-14/xplan-reactor/data/transcriptic/r1d6r58jnct63g_r1d8kxz5ndkxyh.csv',\n",
       " '/work/05204/rpg/jupyter/sd2e-projects/sd2e-project-14/xplan-reactor/data/transcriptic/r1d6r59sste9m2_r1d8gf8cczkrz9.csv',\n",
       " '/work/05204/rpg/jupyter/sd2e-projects/sd2e-project-14/xplan-reactor/data/transcriptic/r1d6r5b24f9a9z_r1d8cyvjthnvvt.csv',\n",
       " '/work/05204/rpg/jupyter/sd2e-projects/sd2e-project-14/xplan-reactor/data/transcriptic/r1d6r8mvznxxme_r1d8jxmssfag5w.csv',\n",
       " '/work/05204/rpg/jupyter/sd2e-projects/sd2e-project-14/xplan-reactor/data/transcriptic/r1d6r8p5ddgsut_r1d8fgr2efzrhj.csv',\n",
       " '/work/05204/rpg/jupyter/sd2e-projects/sd2e-project-14/xplan-reactor/data/transcriptic/r1d6r8ykf868ep_r1d98fh76wrqp7.csv',\n",
       " '/work/05204/rpg/jupyter/sd2e-projects/sd2e-project-14/xplan-reactor/data/transcriptic/r1d6r8ztq8zfa7_r1d952nn9xk753.csv',\n",
       " '/work/05204/rpg/jupyter/sd2e-projects/sd2e-project-14/xplan-reactor/data/transcriptic/r1d6r932unhafk_r1d93nuytthhp4.csv',\n",
       " '/work/05204/rpg/jupyter/sd2e-projects/sd2e-project-14/xplan-reactor/data/transcriptic/r1d9xx8rjarjuw_r1da5tgwjasvw3.csv',\n",
       " '/work/05204/rpg/jupyter/sd2e-projects/sd2e-project-14/xplan-reactor/data/transcriptic/r1dag7xpmgar9k_r1dakfqtk7hpzb.csv',\n",
       " '/work/05204/rpg/jupyter/sd2e-projects/sd2e-project-14/xplan-reactor/data/transcriptic/r1df5qqzq7k6ss_r1dfjjydmudcfs.csv',\n",
       " '/work/05204/rpg/jupyter/sd2e-projects/sd2e-project-14/xplan-reactor/data/transcriptic/r1df5qs7jb4fwq_r1dff64wwmq4gt.csv',\n",
       " '/work/05204/rpg/jupyter/sd2e-projects/sd2e-project-14/xplan-reactor/data/transcriptic/r1dfxex6e5ekjv_r1dg94zgbvxe7r.csv',\n",
       " '/work/05204/rpg/jupyter/sd2e-projects/sd2e-project-14/xplan-reactor/data/transcriptic/r1dfxeycahns9y_r1dg8u3z9yzuuq.csv',\n",
       " '/work/05204/rpg/jupyter/sd2e-projects/sd2e-project-14/xplan-reactor/data/transcriptic/r1dfxezj7aae4s_r1dg5dthycwjb7.csv',\n",
       " '/work/05204/rpg/jupyter/sd2e-projects/sd2e-project-14/xplan-reactor/data/transcriptic/r1dgppdqbd2mmk_r1dgwy63p8x5uz.csv',\n",
       " '/work/05204/rpg/jupyter/sd2e-projects/sd2e-project-14/xplan-reactor/data/transcriptic/r1dgppew9w7j7p_r1dgwudtwth732.csv',\n",
       " '/work/05204/rpg/jupyter/sd2e-projects/sd2e-project-14/xplan-reactor/data/transcriptic/r1dgppg46aeknn_r1dgwpywx6rtc8.csv',\n",
       " '/work/05204/rpg/jupyter/sd2e-projects/sd2e-project-14/xplan-reactor/data/transcriptic/r1dj8mwev6qgtn_r1djfuj9qywhea.csv',\n",
       " '/work/05204/rpg/jupyter/sd2e-projects/sd2e-project-14/xplan-reactor/data/transcriptic/r1dj8mxn3pcuf5_r1djfnchgugknq.csv',\n",
       " '/work/05204/rpg/jupyter/sd2e-projects/sd2e-project-14/xplan-reactor/data/transcriptic/r1dj8myu92t47q_r1djfefyrxqj9m.csv']"
      ]
     },
     "execution_count": 5,
     "metadata": {},
     "output_type": "execute_result"
    }
   ],
   "source": [
    "all_files = glob(os.path.join(DATA_DIR, \"r*_r*.csv\"))\n",
    "sorted(all_files)"
   ]
  },
  {
   "cell_type": "code",
   "execution_count": 6,
   "metadata": {},
   "outputs": [
    {
     "name": "stdout",
     "output_type": "stream",
     "text": [
      "Index(['count', 'count_live', 'experiment_id', 'filename', 'gate',\n",
      "       'growth_media_1', 'growth_media_2', 'id', 'inc_temp', 'inc_time_1',\n",
      "       'inc_time_2', 'index', 'input', 'lab', 'lab_id',\n",
      "       'mean_correct_classifier', 'mean_correct_classifier_live',\n",
      "       'mean_correct_high_classifier', 'mean_correct_high_classifier_live',\n",
      "       'mean_correct_high_threshold', 'mean_correct_high_threshold_live',\n",
      "       'mean_correct_low_classifier', 'mean_correct_low_classifier_live',\n",
      "       'mean_correct_low_threshold', 'mean_correct_low_threshold_live',\n",
      "       'mean_correct_threshold', 'mean_correct_threshold_live', 'mean_log_gfp',\n",
      "       'mean_log_gfp_live', 'media', 'od', 'od_cutoff', 'output', 'plan',\n",
      "       'plate_id', 'replicate', 'source_container', 'std_correct_classifier',\n",
      "       'std_correct_classifier_live', 'std_correct_high_classifier',\n",
      "       'std_correct_high_classifier_live', 'std_correct_high_threshold',\n",
      "       'std_correct_high_threshold_live', 'std_correct_low_classifier',\n",
      "       'std_correct_low_classifier_live', 'std_correct_low_threshold',\n",
      "       'std_correct_low_threshold_live', 'std_correct_threshold',\n",
      "       'std_correct_threshold_live', 'std_log_gfp', 'std_log_gfp_live',\n",
      "       'strain_name', 'threshold', 'threshold_live', 'well'],\n",
      "      dtype='object')\n"
     ]
    },
    {
     "data": {
      "text/plain": [
       "0    r1c7cpt3djxuj_r1c7fex29q6t2\n",
       "1    r1c7cpt3djxuj_r1c7fex29q6t2\n",
       "2    r1c7cpt3djxuj_r1c7fex29q6t2\n",
       "3    r1c7cpt3djxuj_r1c7fex29q6t2\n",
       "4    r1c7cpt3djxuj_r1c7fex29q6t2\n",
       "Name: lab_id, dtype: object"
      ]
     },
     "execution_count": 6,
     "metadata": {},
     "output_type": "execute_result"
    }
   ],
   "source": [
    "print(accuracy_table.columns)\n",
    "accuracy_table.head()['lab_id']"
   ]
  },
  {
   "cell_type": "code",
   "execution_count": 7,
   "metadata": {},
   "outputs": [],
   "source": [
    "all_files_in_table = set(accuracy_table['lab_id'])"
   ]
  },
  {
   "cell_type": "code",
   "execution_count": 8,
   "metadata": {},
   "outputs": [
    {
     "data": {
      "text/plain": [
       "{'r1c5va879uaex_r1c639xp952g4',\n",
       " 'r1c5va9wyf3mx_r1c63bjzu5ruy',\n",
       " 'r1c5vab4q2yu9_r1c63c2e7z9hj',\n",
       " 'r1c5vac658fxn_r1c66qw595ydy',\n",
       " 'r1c5vad8u7ve2_r1c66q7cru28u',\n",
       " 'r1c5vaeb8vbt9_r1c66mfpj7guh',\n",
       " 'r1c7cppfr7yp6_r1c7jnv3pkbsj',\n",
       " 'r1c7cpqp2k6cw_r1c7jn9syrr8s',\n",
       " 'r1c7cprv7fe49_r1c7jmje3ebhc',\n",
       " 'r1c7cpt3djxuj_r1c7fex29q6t2',\n",
       " 'r1c7cpu9nj2bu_r1c7fg23qkzph',\n",
       " 'r1c7cpvfzqprk_r1c7fbvba55db',\n",
       " 'r1c84xvquwxth_r1c8ek7vcmdxh',\n",
       " 'r1c84xwx57y95_r1c8ejz8jfg9z',\n",
       " 'r1c84xy5frkf3_r1c8ejr9kezva',\n",
       " 'r1c84xzc5dbuv_r1c8axrywctwb',\n",
       " 'r1c84y2j7n7bu_r1c8aw59wfxy8',\n",
       " 'r1c84y3r9yqxb_r1c8auwvzbgt3',\n",
       " 'r1c8xx6qe9eea_r1c93enbf48t7',\n",
       " 'r1c8xx7we38vw_r1c93cukfcxqp',\n",
       " 'r1c8xx94j94u7_r1c93ajvdzxz5',\n",
       " 'r1c8yx25rrtag_r1c96v2w8x5pq',\n",
       " 'r1c8yydkumrkr_r1c96xsxw79c9',\n",
       " 'r1c8yyg9gxbme_r1c96wn43pq45',\n",
       " 'r1c9tpk5zrbsk_r1c9wpbvjszxe',\n",
       " 'r1c9tpmcezpk2_r1c9wjnedp92f',\n",
       " 'r1cbajphx4ekf_r1cbeec6cxn2t',\n",
       " 'r1cbajqru7kbe_r1cbe9p9zu6dh',\n",
       " 'r1cbajrxthe7y_r1cbdzkebbd46',\n",
       " 'r1cbuszfskzjt_r1cc6ws9c3dh4',\n",
       " 'r1cbut2pdjtwv_r1cc6qzwcd4hx',\n",
       " 'r1cbut3veu2z4_r1cc6efukqtxx',\n",
       " 'r1cbut53kpf3n_r1cc3bn2s2aj8',\n",
       " 'r1cbut6a79n9t_r1cc34mkuvzeh',\n",
       " 'r1cbut7g7x6pg_r1cc2xauy7qaa',\n",
       " 'r1cckyeq9r358_r1ccqgmy5ffcd',\n",
       " 'r1cckyfwfae4d_r1ccq83ggacxc',\n",
       " 'r1cckyh56hjqj_r1ccpyjef2vca',\n",
       " 'r1ccqf9jq2wvd_r1cctubuxvmvs',\n",
       " 'r1ccqfas8urfk_r1cctk2a3wbk5',\n",
       " 'r1ccqfbz332u8_r1cctaf8r32rc',\n",
       " 'r1cctw6h5fsfg_r1ccx3axsj5ua',\n",
       " 'r1cctw7qh3777_r1ccwxr4t3wb6',\n",
       " 'r1cctw8wvwpbg_r1ccwteetw82v',\n",
       " 'r1cdcerdbpda2_r1cdfphfehzq2',\n",
       " 'r1cdcesknarkf_r1cdfg4x5uuwp',\n",
       " 'r1cdcetsvxgc2_r1cdfa6jrtssc',\n",
       " 'r1cdfr36fb76a_r1cdjmabskps3',\n",
       " 'r1cdfr4bjcnrg_r1cdnuqex83dm',\n",
       " 'r1cdfr5gjs72s_r1cdk2gjusax6',\n",
       " 'r1cdfsf4ezew3_r1cdjsyza79sr',\n",
       " 'r1cdhymqfs6b3_r1cdnzf4hbuz2',\n",
       " 'r1ce3p3p7j77n_r1ceevbnsqku2',\n",
       " 'r1ce3p4vgfu3p_r1ceebve8d6tc',\n",
       " 'r1ce3p63vnpzq_r1cee5f7knupg',\n",
       " 'r1ce3phrwnkqt_r1ceb8fj2hj9a',\n",
       " 'r1ce3pjymvm3u_r1ceb3rgpe8gm',\n",
       " 'r1ce3pm76spw4_r1ceas4zgsdt5',\n",
       " 'r1ce3pndp353t_r1ce7xkybfnqd',\n",
       " 'r1ce3ppkyswxf_r1ce7qk6h482m',\n",
       " 'r1ce3pqt45vfe_r1ce7qf5e483u',\n",
       " 'r1ceuhqmu6c7w_r1cf6snbv99p8',\n",
       " 'r1ceuhrtvgyvd_r1cf6kx2a233e',\n",
       " 'r1ceuhu9enre5_r1cf33y4j6dyg',\n",
       " 'r1ceuhvgf7b4y_r1cf2yr353x5j',\n",
       " 'r1cf3p48cauwv_r1cf6hech88mh',\n",
       " 'r1cfkpp2p3kjz_r1cftpr8wxqc7',\n",
       " 'r1cfkpq8n84aj_r1cftg78pbqd7',\n",
       " 'r1cfkprehr2fj_r1cft8f7cbsp7',\n",
       " 'r1cfkpsmdkgjb_r1cfqbcwrk6vu',\n",
       " 'r1cfkptta6kuc_r1cfq4k72rwba',\n",
       " 'r1cfkpuz2kr6c_r1cfpvk5hjkzb',\n",
       " 'r1cft9f659y9s_r1cfx3nrnc2uw',\n",
       " 'r1cft9gbs55yn_r1cfwthkscwsk',\n",
       " 'r1cft9hhnhjdb_r1cfwgjmz247y',\n",
       " 'r1cgbw3xk7pau_r1cgpa54x8ff3',\n",
       " 'r1cgbw55mdzsa_r1cgp2v2jqn9h',\n",
       " 'r1cgbw6bqmemz_r1cgnt4s2c5ty',\n",
       " 'r1cgbw7hjvxgx_r1cgjxrexhd4j',\n",
       " 'r1cgbw8qkp6z4_r1cgjpjx5ve76',\n",
       " 'r1cgbw9ww9g9h_r1cgjg8e8xeav',\n",
       " 'r1ch7zwzznes3_r1cheagmxcqvt',\n",
       " 'r1cwvvvj2bh6hc_r1cx4pbeyv2q29',\n",
       " 'r1cwvvwryt3q49_r1cx4ux3zcdt4w',\n",
       " 'r1cwvvxz5d7wua_r1cx7ucsnkjfsb',\n",
       " 'r1cyey8rzxq269_r1cysrdt3pvt5n',\n",
       " 'r1cyeye2du6ep8_r1cysfjkjjphqj',\n",
       " 'r1cyeyjwbefaf2_r1cys7qtr6j42x',\n",
       " 'r1d6r58jnct63g_r1d8kxz5ndkxyh',\n",
       " 'r1d6r59sste9m2_r1d8gf8cczkrz9',\n",
       " 'r1d6r5b24f9a9z_r1d8cyvjthnvvt',\n",
       " 'r1d6r8mvznxxme_r1d8jxmssfag5w',\n",
       " 'r1d6r8p5ddgsut_r1d8fgr2efzrhj',\n",
       " 'r1d6r8ykf868ep_r1d98fh76wrqp7',\n",
       " 'r1d6r8ztq8zfa7_r1d952nn9xk753',\n",
       " 'r1d6r932unhafk_r1d93nuytthhp4',\n",
       " 'r1d9xx8rjarjuw_r1da5tgwjasvw3',\n",
       " 'r1dag7xpmgar9k_r1dakfqtk7hpzb',\n",
       " 'r1df5qqzq7k6ss_r1dfjjydmudcfs',\n",
       " 'r1df5qs7jb4fwq_r1dff64wwmq4gt',\n",
       " 'r1dfxex6e5ekjv_r1dg94zgbvxe7r',\n",
       " 'r1dfxeycahns9y_r1dg8u3z9yzuuq',\n",
       " 'r1dfxezj7aae4s_r1dg5dthycwjb7',\n",
       " 'r1dgppdqbd2mmk_r1dgwy63p8x5uz',\n",
       " 'r1dgppew9w7j7p_r1dgwudtwth732',\n",
       " 'r1dgppg46aeknn_r1dgwpywx6rtc8',\n",
       " 'r1dj8mwev6qgtn_r1djfuj9qywhea',\n",
       " 'r1dj8mxn3pcuf5_r1djfnchgugknq',\n",
       " 'r1dj8myu92t47q_r1djfefyrxqj9m'}"
      ]
     },
     "execution_count": 8,
     "metadata": {},
     "output_type": "execute_result"
    }
   ],
   "source": [
    "all_files_in_dir = {os.path.splitext(os.path.basename(x))[0] for x in all_files}\n",
    "all_files_in_dir"
   ]
  },
  {
   "cell_type": "code",
   "execution_count": 9,
   "metadata": {},
   "outputs": [
    {
     "data": {
      "text/plain": [
       "set()"
      ]
     },
     "execution_count": 9,
     "metadata": {},
     "output_type": "execute_result"
    }
   ],
   "source": [
    "all_files_in_table - all_files_in_dir"
   ]
  },
  {
   "cell_type": "code",
   "execution_count": 10,
   "metadata": {},
   "outputs": [
    {
     "data": {
      "text/plain": [
       "98"
      ]
     },
     "execution_count": 10,
     "metadata": {},
     "output_type": "execute_result"
    }
   ],
   "source": [
    "len(accuracy_table['lab_id'].unique())"
   ]
  },
  {
   "cell_type": "code",
   "execution_count": 11,
   "metadata": {},
   "outputs": [
    {
     "name": "stdout",
     "output_type": "stream",
     "text": [
      "11\n"
     ]
    }
   ],
   "source": [
    "print(len(all_files_in_dir - all_files_in_table))"
   ]
  },
  {
   "cell_type": "code",
   "execution_count": 12,
   "metadata": {},
   "outputs": [
    {
     "data": {
      "text/plain": [
       "{'r1df5qqzq7k6ss_r1dfjjydmudcfs',\n",
       " 'r1df5qs7jb4fwq_r1dff64wwmq4gt',\n",
       " 'r1dfxex6e5ekjv_r1dg94zgbvxe7r',\n",
       " 'r1dfxeycahns9y_r1dg8u3z9yzuuq',\n",
       " 'r1dfxezj7aae4s_r1dg5dthycwjb7',\n",
       " 'r1dgppdqbd2mmk_r1dgwy63p8x5uz',\n",
       " 'r1dgppew9w7j7p_r1dgwudtwth732',\n",
       " 'r1dgppg46aeknn_r1dgwpywx6rtc8',\n",
       " 'r1dj8mwev6qgtn_r1djfuj9qywhea',\n",
       " 'r1dj8mxn3pcuf5_r1djfnchgugknq',\n",
       " 'r1dj8myu92t47q_r1djfefyrxqj9m'}"
      ]
     },
     "execution_count": 12,
     "metadata": {},
     "output_type": "execute_result"
    }
   ],
   "source": [
    "all_files_in_dir - all_files_in_table"
   ]
  },
  {
   "cell_type": "code",
   "execution_count": 13,
   "metadata": {},
   "outputs": [
    {
     "data": {
      "text/plain": [
       "8686"
      ]
     },
     "execution_count": 13,
     "metadata": {},
     "output_type": "execute_result"
    }
   ],
   "source": [
    "accuracy_table.shape[0]"
   ]
  },
  {
   "cell_type": "code",
   "execution_count": 14,
   "metadata": {},
   "outputs": [
    {
     "name": "stdout",
     "output_type": "stream",
     "text": [
      "f91cbdb4bcf4eff72981484fc5b8d56b733311ee88e5f6c575252136550745f9  accuracy_set.csv\n"
     ]
    }
   ],
   "source": [
    "! sha256sum accuracy_set.csv"
   ]
  },
  {
   "cell_type": "markdown",
   "metadata": {},
   "source": [
    "# Now run through all the files in the tables, gate them, and compute the mean and SD"
   ]
  },
  {
   "cell_type": "code",
   "execution_count": 15,
   "metadata": {},
   "outputs": [],
   "source": [
    "def collect_a_datafile(filename: str) -> pd.DataFrame:\n",
    "    raw_df = pd.read_csv(filename, index_col=0)\n",
    "    df = data_helpers.canonical_data_frame(raw_df)\n",
    "    df = data_helpers.gate_dataframe(df)\n",
    "    return df"
   ]
  },
  {
   "cell_type": "code",
   "execution_count": 16,
   "metadata": {},
   "outputs": [],
   "source": [
    "exname = 'r1cft9hhnhjdb_r1cfwgjmz247y'\n",
    "exfile = os.path.join(DATA_DIR, exname + '.csv')"
   ]
  },
  {
   "cell_type": "code",
   "execution_count": 17,
   "metadata": {},
   "outputs": [],
   "source": [
    "def get_inc_temp(lab_id: str, acc_table: pd.DataFrame) -> str:\n",
    "    sub = acc_table[acc_table['lab_id'] == lab_id]\n",
    "    assert sub.shape[0] > 0\n",
    "    it = set(sub['inc_temp'].unique())\n",
    "    assert len(it) == 1\n",
    "    it_val = it.pop()\n",
    "    if isinstance(it_val, str):\n",
    "        return it_val\n",
    "    elif isinstance(it_val, Number):\n",
    "        return f\"warm_{int(it_val)}\""
   ]
  },
  {
   "cell_type": "code",
   "execution_count": 18,
   "metadata": {},
   "outputs": [
    {
     "name": "stderr",
     "output_type": "stream",
     "text": [
      "/work/05204/rpg/jupyter_packages/envs/dask/lib/python3.8/site-packages/IPython/core/interactiveshell.py:3146: DtypeWarning: Columns (13) have mixed types.Specify dtype option on import or set low_memory=False.\n",
      "  has_raised = await self.run_ast_nodes(code_ast.body, cell_name,\n",
      "/work/05204/rpg/jupyter_packages/envs/dask/lib/python3.8/site-packages/numpy/lib/arraysetops.py:580: FutureWarning: elementwise comparison failed; returning scalar instead, but in the future will perform elementwise comparison\n",
      "  mask |= (ar1 == a)\n"
     ]
    },
    {
     "name": "stdout",
     "output_type": "stream",
     "text": [
      "Index(['inc_temp', 'inc_time_1', 'inc_time_2', 'plan', 'lab', 'growth_media_1',\n",
      "       'growth_media_2', 'od_cutoff', 'source_container', 'lab_id', 'id',\n",
      "       'strain_name', 'gate', 'input', 'od', 'filename', 'replicate', 'output',\n",
      "       'media', 'plate_id', 'Time', 'FSC_A', 'SSC_A', 'BL1_A', 'RL1_A',\n",
      "       'FSC_H', 'SSC_H', 'BL1_H', 'RL1_H', 'FSC_W', 'SSC_W', 'BL1_W', 'RL1_W',\n",
      "       'index', 'live_no_stain', 'live'],\n",
      "      dtype='object')\n"
     ]
    },
    {
     "data": {
      "text/html": [
       "<div>\n",
       "<style scoped>\n",
       "    .dataframe tbody tr th:only-of-type {\n",
       "        vertical-align: middle;\n",
       "    }\n",
       "\n",
       "    .dataframe tbody tr th {\n",
       "        vertical-align: top;\n",
       "    }\n",
       "\n",
       "    .dataframe thead th {\n",
       "        text-align: right;\n",
       "    }\n",
       "</style>\n",
       "<table border=\"1\" class=\"dataframe\">\n",
       "  <thead>\n",
       "    <tr style=\"text-align: right;\">\n",
       "      <th></th>\n",
       "      <th>inc_temp</th>\n",
       "      <th>inc_time_1</th>\n",
       "      <th>inc_time_2</th>\n",
       "      <th>plan</th>\n",
       "      <th>lab</th>\n",
       "      <th>growth_media_1</th>\n",
       "      <th>growth_media_2</th>\n",
       "      <th>od_cutoff</th>\n",
       "      <th>source_container</th>\n",
       "      <th>lab_id</th>\n",
       "      <th>...</th>\n",
       "      <th>SSC_H</th>\n",
       "      <th>BL1_H</th>\n",
       "      <th>RL1_H</th>\n",
       "      <th>FSC_W</th>\n",
       "      <th>SSC_W</th>\n",
       "      <th>BL1_W</th>\n",
       "      <th>RL1_W</th>\n",
       "      <th>index</th>\n",
       "      <th>live_no_stain</th>\n",
       "      <th>live</th>\n",
       "    </tr>\n",
       "  </thead>\n",
       "  <tbody>\n",
       "    <tr>\n",
       "      <th>0</th>\n",
       "      <td>warm_30</td>\n",
       "      <td>18:hour</td>\n",
       "      <td>15:hour</td>\n",
       "      <td>2019_02_12_23_46_12</td>\n",
       "      <td>transcriptic</td>\n",
       "      <td>standard_media</td>\n",
       "      <td>standard_media</td>\n",
       "      <td>0.1</td>\n",
       "      <td>ct1cexrrstn83n</td>\n",
       "      <td>r1cft9hhnhjdb_r1cfwgjmz247y</td>\n",
       "      <td>...</td>\n",
       "      <td>1048575.0</td>\n",
       "      <td>3142.0</td>\n",
       "      <td>26075.0</td>\n",
       "      <td>1023.0</td>\n",
       "      <td>1023.0</td>\n",
       "      <td>0.0</td>\n",
       "      <td>29.0</td>\n",
       "      <td>0</td>\n",
       "      <td>0.0</td>\n",
       "      <td>0</td>\n",
       "    </tr>\n",
       "    <tr>\n",
       "      <th>1</th>\n",
       "      <td>warm_30</td>\n",
       "      <td>18:hour</td>\n",
       "      <td>15:hour</td>\n",
       "      <td>2019_02_12_23_46_12</td>\n",
       "      <td>transcriptic</td>\n",
       "      <td>standard_media</td>\n",
       "      <td>standard_media</td>\n",
       "      <td>0.1</td>\n",
       "      <td>ct1cexrrstn83n</td>\n",
       "      <td>r1cft9hhnhjdb_r1cfwgjmz247y</td>\n",
       "      <td>...</td>\n",
       "      <td>212221.0</td>\n",
       "      <td>489.0</td>\n",
       "      <td>101.0</td>\n",
       "      <td>50.0</td>\n",
       "      <td>88.0</td>\n",
       "      <td>0.0</td>\n",
       "      <td>0.0</td>\n",
       "      <td>1</td>\n",
       "      <td>1.0</td>\n",
       "      <td>0</td>\n",
       "    </tr>\n",
       "    <tr>\n",
       "      <th>2</th>\n",
       "      <td>warm_30</td>\n",
       "      <td>18:hour</td>\n",
       "      <td>15:hour</td>\n",
       "      <td>2019_02_12_23_46_12</td>\n",
       "      <td>transcriptic</td>\n",
       "      <td>standard_media</td>\n",
       "      <td>standard_media</td>\n",
       "      <td>0.1</td>\n",
       "      <td>ct1cexrrstn83n</td>\n",
       "      <td>r1cft9hhnhjdb_r1cfwgjmz247y</td>\n",
       "      <td>...</td>\n",
       "      <td>208320.0</td>\n",
       "      <td>508.0</td>\n",
       "      <td>99.0</td>\n",
       "      <td>45.0</td>\n",
       "      <td>56.0</td>\n",
       "      <td>0.0</td>\n",
       "      <td>0.0</td>\n",
       "      <td>2</td>\n",
       "      <td>1.0</td>\n",
       "      <td>1</td>\n",
       "    </tr>\n",
       "    <tr>\n",
       "      <th>3</th>\n",
       "      <td>warm_30</td>\n",
       "      <td>18:hour</td>\n",
       "      <td>15:hour</td>\n",
       "      <td>2019_02_12_23_46_12</td>\n",
       "      <td>transcriptic</td>\n",
       "      <td>standard_media</td>\n",
       "      <td>standard_media</td>\n",
       "      <td>0.1</td>\n",
       "      <td>ct1cexrrstn83n</td>\n",
       "      <td>r1cft9hhnhjdb_r1cfwgjmz247y</td>\n",
       "      <td>...</td>\n",
       "      <td>268477.0</td>\n",
       "      <td>649.0</td>\n",
       "      <td>85.0</td>\n",
       "      <td>38.0</td>\n",
       "      <td>71.0</td>\n",
       "      <td>0.0</td>\n",
       "      <td>0.0</td>\n",
       "      <td>3</td>\n",
       "      <td>1.0</td>\n",
       "      <td>0</td>\n",
       "    </tr>\n",
       "    <tr>\n",
       "      <th>4</th>\n",
       "      <td>warm_30</td>\n",
       "      <td>18:hour</td>\n",
       "      <td>15:hour</td>\n",
       "      <td>2019_02_12_23_46_12</td>\n",
       "      <td>transcriptic</td>\n",
       "      <td>standard_media</td>\n",
       "      <td>standard_media</td>\n",
       "      <td>0.1</td>\n",
       "      <td>ct1cexrrstn83n</td>\n",
       "      <td>r1cft9hhnhjdb_r1cfwgjmz247y</td>\n",
       "      <td>...</td>\n",
       "      <td>230036.0</td>\n",
       "      <td>640.0</td>\n",
       "      <td>108.0</td>\n",
       "      <td>45.0</td>\n",
       "      <td>69.0</td>\n",
       "      <td>0.0</td>\n",
       "      <td>0.0</td>\n",
       "      <td>4</td>\n",
       "      <td>0.0</td>\n",
       "      <td>0</td>\n",
       "    </tr>\n",
       "  </tbody>\n",
       "</table>\n",
       "<p>5 rows × 36 columns</p>\n",
       "</div>"
      ],
      "text/plain": [
       "  inc_temp inc_time_1 inc_time_2                 plan           lab  \\\n",
       "0  warm_30    18:hour    15:hour  2019_02_12_23_46_12  transcriptic   \n",
       "1  warm_30    18:hour    15:hour  2019_02_12_23_46_12  transcriptic   \n",
       "2  warm_30    18:hour    15:hour  2019_02_12_23_46_12  transcriptic   \n",
       "3  warm_30    18:hour    15:hour  2019_02_12_23_46_12  transcriptic   \n",
       "4  warm_30    18:hour    15:hour  2019_02_12_23_46_12  transcriptic   \n",
       "\n",
       "   growth_media_1  growth_media_2  od_cutoff source_container  \\\n",
       "0  standard_media  standard_media        0.1   ct1cexrrstn83n   \n",
       "1  standard_media  standard_media        0.1   ct1cexrrstn83n   \n",
       "2  standard_media  standard_media        0.1   ct1cexrrstn83n   \n",
       "3  standard_media  standard_media        0.1   ct1cexrrstn83n   \n",
       "4  standard_media  standard_media        0.1   ct1cexrrstn83n   \n",
       "\n",
       "                        lab_id  ...      SSC_H   BL1_H    RL1_H   FSC_W  \\\n",
       "0  r1cft9hhnhjdb_r1cfwgjmz247y  ...  1048575.0  3142.0  26075.0  1023.0   \n",
       "1  r1cft9hhnhjdb_r1cfwgjmz247y  ...   212221.0   489.0    101.0    50.0   \n",
       "2  r1cft9hhnhjdb_r1cfwgjmz247y  ...   208320.0   508.0     99.0    45.0   \n",
       "3  r1cft9hhnhjdb_r1cfwgjmz247y  ...   268477.0   649.0     85.0    38.0   \n",
       "4  r1cft9hhnhjdb_r1cfwgjmz247y  ...   230036.0   640.0    108.0    45.0   \n",
       "\n",
       "    SSC_W BL1_W  RL1_W  index live_no_stain  live  \n",
       "0  1023.0   0.0   29.0      0           0.0     0  \n",
       "1    88.0   0.0    0.0      1           1.0     0  \n",
       "2    56.0   0.0    0.0      2           1.0     1  \n",
       "3    71.0   0.0    0.0      3           1.0     0  \n",
       "4    69.0   0.0    0.0      4           0.0     0  \n",
       "\n",
       "[5 rows x 36 columns]"
      ]
     },
     "execution_count": 18,
     "metadata": {},
     "output_type": "execute_result"
    }
   ],
   "source": [
    "exdf = pd.read_csv(exfile, index_col=0)\n",
    "print(exdf.columns)\n",
    "exdf.head()"
   ]
  },
  {
   "cell_type": "code",
   "execution_count": 19,
   "metadata": {},
   "outputs": [],
   "source": [
    "df = data_helpers.canonical_data_frame(exdf)"
   ]
  },
  {
   "cell_type": "code",
   "execution_count": 20,
   "metadata": {},
   "outputs": [
    {
     "name": "stdout",
     "output_type": "stream",
     "text": [
      "['inc_temp' 'inc_time_1' 'inc_time_2' 'growth_media_1' 'growth_media_2'\n",
      " 'od_cutoff' 'source_container' 'id' 'gate' 'input' 'filename' 'output'\n",
      " 'media' 'Time' 'FSC_A' 'SSC_A' 'BL1_A' 'RL1_A' 'FSC_H' 'SSC_H' 'BL1_H'\n",
      " 'RL1_H' 'FSC_W' 'SSC_W' 'BL1_W' 'RL1_W' 'index' 'live_no_stain' 'live'\n",
      " 'inc_time_1_hrs']\n"
     ]
    },
    {
     "data": {
      "text/plain": [
       "FrozenList(['strain_name', 'inc_temp_degrees', 'inc_time_2_hrs', 'od', 'lab_id', 'plate_id', 'well', 'replicate', 'event'])"
      ]
     },
     "execution_count": 20,
     "metadata": {},
     "output_type": "execute_result"
    }
   ],
   "source": [
    "print(df.columns.values)\n",
    "df.index.names"
   ]
  },
  {
   "cell_type": "code",
   "execution_count": 21,
   "metadata": {},
   "outputs": [
    {
     "data": {
      "text/plain": [
       "array([0, 1])"
      ]
     },
     "execution_count": 21,
     "metadata": {},
     "output_type": "execute_result"
    }
   ],
   "source": [
    "df['live'].unique()"
   ]
  },
  {
   "cell_type": "code",
   "execution_count": 22,
   "metadata": {},
   "outputs": [
    {
     "name": "stderr",
     "output_type": "stream",
     "text": [
      "/work/05204/rpg/jupyter_packages/envs/dask/lib/python3.8/site-packages/pandas/core/indexing.py:1596: SettingWithCopyWarning: \n",
      "A value is trying to be set on a copy of a slice from a DataFrame.\n",
      "Try using .loc[row_indexer,col_indexer] = value instead\n",
      "\n",
      "See the caveats in the documentation: https://pandas.pydata.org/pandas-docs/stable/user_guide/indexing.html#returning-a-view-versus-a-copy\n",
      "  self.obj[key] = value\n",
      "/work/05204/rpg/jupyter_packages/envs/dask/lib/python3.8/site-packages/pandas/core/indexing.py:1675: SettingWithCopyWarning: \n",
      "A value is trying to be set on a copy of a slice from a DataFrame.\n",
      "Try using .loc[row_indexer,col_indexer] = value instead\n",
      "\n",
      "See the caveats in the documentation: https://pandas.pydata.org/pandas-docs/stable/user_guide/indexing.html#returning-a-view-versus-a-copy\n",
      "  self._setitem_single_column(ilocs[0], value, pi)\n"
     ]
    }
   ],
   "source": [
    "df = data_helpers.gate_dataframe(df)"
   ]
  },
  {
   "cell_type": "code",
   "execution_count": 23,
   "metadata": {},
   "outputs": [],
   "source": [
    "df.loc[:, 'logGFP'] = np.log10(np.maximum(df['BL1_A'], 1))"
   ]
  },
  {
   "cell_type": "code",
   "execution_count": 24,
   "metadata": {},
   "outputs": [
    {
     "data": {
      "text/html": [
       "<div>\n",
       "<style scoped>\n",
       "    .dataframe tbody tr th:only-of-type {\n",
       "        vertical-align: middle;\n",
       "    }\n",
       "\n",
       "    .dataframe tbody tr th {\n",
       "        vertical-align: top;\n",
       "    }\n",
       "\n",
       "    .dataframe thead th {\n",
       "        text-align: right;\n",
       "    }\n",
       "</style>\n",
       "<table border=\"1\" class=\"dataframe\">\n",
       "  <thead>\n",
       "    <tr style=\"text-align: right;\">\n",
       "      <th></th>\n",
       "      <th></th>\n",
       "      <th></th>\n",
       "      <th>mean_log_gfp_gated</th>\n",
       "      <th>std_log_gfp_gated</th>\n",
       "      <th>gated_count</th>\n",
       "    </tr>\n",
       "    <tr>\n",
       "      <th>strain_name</th>\n",
       "      <th>plate_id</th>\n",
       "      <th>well</th>\n",
       "      <th></th>\n",
       "      <th></th>\n",
       "      <th></th>\n",
       "    </tr>\n",
       "  </thead>\n",
       "  <tbody>\n",
       "    <tr>\n",
       "      <th>NOR-00-Control</th>\n",
       "      <th>2</th>\n",
       "      <th>C12</th>\n",
       "      <td>2.975619</td>\n",
       "      <td>0.244577</td>\n",
       "      <td>26028</td>\n",
       "    </tr>\n",
       "    <tr>\n",
       "      <th>WT-Live-Control</th>\n",
       "      <th>2</th>\n",
       "      <th>A12</th>\n",
       "      <td>1.654474</td>\n",
       "      <td>0.479079</td>\n",
       "      <td>18329</td>\n",
       "    </tr>\n",
       "    <tr>\n",
       "      <th rowspan=\"3\" valign=\"top\">https://hub.sd2e.org/user/sd2e/design/UWBF_16968/1</th>\n",
       "      <th rowspan=\"3\" valign=\"top\">2</th>\n",
       "      <th>A02</th>\n",
       "      <td>2.572431</td>\n",
       "      <td>0.338950</td>\n",
       "      <td>23662</td>\n",
       "    </tr>\n",
       "    <tr>\n",
       "      <th>C11</th>\n",
       "      <td>2.697808</td>\n",
       "      <td>0.310978</td>\n",
       "      <td>23572</td>\n",
       "    </tr>\n",
       "    <tr>\n",
       "      <th>D05</th>\n",
       "      <td>2.675767</td>\n",
       "      <td>0.299217</td>\n",
       "      <td>26500</td>\n",
       "    </tr>\n",
       "  </tbody>\n",
       "</table>\n",
       "</div>"
      ],
      "text/plain": [
       "                                                                  mean_log_gfp_gated  \\\n",
       "strain_name                                        plate_id well                       \n",
       "NOR-00-Control                                     2        C12             2.975619   \n",
       "WT-Live-Control                                    2        A12             1.654474   \n",
       "https://hub.sd2e.org/user/sd2e/design/UWBF_16968/1 2        A02             2.572431   \n",
       "                                                            C11             2.697808   \n",
       "                                                            D05             2.675767   \n",
       "\n",
       "                                                                  std_log_gfp_gated  \\\n",
       "strain_name                                        plate_id well                      \n",
       "NOR-00-Control                                     2        C12            0.244577   \n",
       "WT-Live-Control                                    2        A12            0.479079   \n",
       "https://hub.sd2e.org/user/sd2e/design/UWBF_16968/1 2        A02            0.338950   \n",
       "                                                            C11            0.310978   \n",
       "                                                            D05            0.299217   \n",
       "\n",
       "                                                                  gated_count  \n",
       "strain_name                                        plate_id well               \n",
       "NOR-00-Control                                     2        C12         26028  \n",
       "WT-Live-Control                                    2        A12         18329  \n",
       "https://hub.sd2e.org/user/sd2e/design/UWBF_16968/1 2        A02         23662  \n",
       "                                                            C11         23572  \n",
       "                                                            D05         26500  "
      ]
     },
     "execution_count": 24,
     "metadata": {},
     "output_type": "execute_result"
    }
   ],
   "source": [
    "# looks like there are multiple plates...\n",
    "df.groupby(level=['strain_name', 'plate_id', 'well']).agg(mean_log_gfp_gated=('logGFP', 'mean'), std_log_gfp_gated=('logGFP', 'std'), gated_count=('logGFP', 'count')).head()"
   ]
  },
  {
   "cell_type": "code",
   "execution_count": 25,
   "metadata": {},
   "outputs": [
    {
     "data": {
      "text/html": [
       "<div>\n",
       "<style scoped>\n",
       "    .dataframe tbody tr th:only-of-type {\n",
       "        vertical-align: middle;\n",
       "    }\n",
       "\n",
       "    .dataframe tbody tr th {\n",
       "        vertical-align: top;\n",
       "    }\n",
       "\n",
       "    .dataframe thead th {\n",
       "        text-align: right;\n",
       "    }\n",
       "</style>\n",
       "<table border=\"1\" class=\"dataframe\">\n",
       "  <thead>\n",
       "    <tr style=\"text-align: right;\">\n",
       "      <th></th>\n",
       "      <th></th>\n",
       "      <th></th>\n",
       "      <th>mean_log_gfp_gated_live</th>\n",
       "      <th>std_log_gfp_gated_live</th>\n",
       "      <th>gated_live_count</th>\n",
       "    </tr>\n",
       "    <tr>\n",
       "      <th>strain_name</th>\n",
       "      <th>plate_id</th>\n",
       "      <th>well</th>\n",
       "      <th></th>\n",
       "      <th></th>\n",
       "      <th></th>\n",
       "    </tr>\n",
       "  </thead>\n",
       "  <tbody>\n",
       "    <tr>\n",
       "      <th>NOR-00-Control</th>\n",
       "      <th>2</th>\n",
       "      <th>C12</th>\n",
       "      <td>2.975430</td>\n",
       "      <td>0.244508</td>\n",
       "      <td>25075</td>\n",
       "    </tr>\n",
       "    <tr>\n",
       "      <th>WT-Live-Control</th>\n",
       "      <th>2</th>\n",
       "      <th>A12</th>\n",
       "      <td>1.654746</td>\n",
       "      <td>0.479760</td>\n",
       "      <td>16650</td>\n",
       "    </tr>\n",
       "    <tr>\n",
       "      <th rowspan=\"3\" valign=\"top\">https://hub.sd2e.org/user/sd2e/design/UWBF_16968/1</th>\n",
       "      <th rowspan=\"3\" valign=\"top\">2</th>\n",
       "      <th>A02</th>\n",
       "      <td>2.571999</td>\n",
       "      <td>0.339017</td>\n",
       "      <td>14681</td>\n",
       "    </tr>\n",
       "    <tr>\n",
       "      <th>C11</th>\n",
       "      <td>2.697650</td>\n",
       "      <td>0.310586</td>\n",
       "      <td>22717</td>\n",
       "    </tr>\n",
       "    <tr>\n",
       "      <th>D05</th>\n",
       "      <td>2.673406</td>\n",
       "      <td>0.296941</td>\n",
       "      <td>9796</td>\n",
       "    </tr>\n",
       "  </tbody>\n",
       "</table>\n",
       "</div>"
      ],
      "text/plain": [
       "                                                                  mean_log_gfp_gated_live  \\\n",
       "strain_name                                        plate_id well                            \n",
       "NOR-00-Control                                     2        C12                  2.975430   \n",
       "WT-Live-Control                                    2        A12                  1.654746   \n",
       "https://hub.sd2e.org/user/sd2e/design/UWBF_16968/1 2        A02                  2.571999   \n",
       "                                                            C11                  2.697650   \n",
       "                                                            D05                  2.673406   \n",
       "\n",
       "                                                                  std_log_gfp_gated_live  \\\n",
       "strain_name                                        plate_id well                           \n",
       "NOR-00-Control                                     2        C12                 0.244508   \n",
       "WT-Live-Control                                    2        A12                 0.479760   \n",
       "https://hub.sd2e.org/user/sd2e/design/UWBF_16968/1 2        A02                 0.339017   \n",
       "                                                            C11                 0.310586   \n",
       "                                                            D05                 0.296941   \n",
       "\n",
       "                                                                  gated_live_count  \n",
       "strain_name                                        plate_id well                    \n",
       "NOR-00-Control                                     2        C12              25075  \n",
       "WT-Live-Control                                    2        A12              16650  \n",
       "https://hub.sd2e.org/user/sd2e/design/UWBF_16968/1 2        A02              14681  \n",
       "                                                            C11              22717  \n",
       "                                                            D05               9796  "
      ]
     },
     "execution_count": 25,
     "metadata": {},
     "output_type": "execute_result"
    }
   ],
   "source": [
    "# looks like there are multiple plates...\n",
    "df[df['live'] == 1].groupby(level=['strain_name', 'plate_id', 'well']).agg(mean_log_gfp_gated_live=('logGFP', 'mean'), std_log_gfp_gated_live=('logGFP', 'std'), gated_live_count=('logGFP', 'count')).head()"
   ]
  },
  {
   "cell_type": "code",
   "execution_count": 26,
   "metadata": {},
   "outputs": [
    {
     "data": {
      "text/html": [
       "<div>\n",
       "<style scoped>\n",
       "    .dataframe tbody tr th:only-of-type {\n",
       "        vertical-align: middle;\n",
       "    }\n",
       "\n",
       "    .dataframe tbody tr th {\n",
       "        vertical-align: top;\n",
       "    }\n",
       "\n",
       "    .dataframe thead th {\n",
       "        text-align: right;\n",
       "    }\n",
       "</style>\n",
       "<table border=\"1\" class=\"dataframe\">\n",
       "  <thead>\n",
       "    <tr style=\"text-align: right;\">\n",
       "      <th></th>\n",
       "      <th></th>\n",
       "      <th></th>\n",
       "      <th></th>\n",
       "      <th>mean_log_gfp_gated</th>\n",
       "      <th>std_log_gfp_gated</th>\n",
       "      <th>gated_count</th>\n",
       "      <th>mean_log_gfp_gated_live</th>\n",
       "      <th>std_log_gfp_gated_live</th>\n",
       "      <th>gated_live_count</th>\n",
       "    </tr>\n",
       "    <tr>\n",
       "      <th>lab_id</th>\n",
       "      <th>strain_name</th>\n",
       "      <th>plate_id</th>\n",
       "      <th>well</th>\n",
       "      <th></th>\n",
       "      <th></th>\n",
       "      <th></th>\n",
       "      <th></th>\n",
       "      <th></th>\n",
       "      <th></th>\n",
       "    </tr>\n",
       "  </thead>\n",
       "  <tbody>\n",
       "    <tr>\n",
       "      <th rowspan=\"5\" valign=\"top\">r1cft9hhnhjdb_r1cfwgjmz247y</th>\n",
       "      <th>NOR-00-Control</th>\n",
       "      <th>2</th>\n",
       "      <th>C12</th>\n",
       "      <td>2.975619</td>\n",
       "      <td>0.244577</td>\n",
       "      <td>26028</td>\n",
       "      <td>2.975430</td>\n",
       "      <td>0.244508</td>\n",
       "      <td>25075</td>\n",
       "    </tr>\n",
       "    <tr>\n",
       "      <th>WT-Live-Control</th>\n",
       "      <th>2</th>\n",
       "      <th>A12</th>\n",
       "      <td>1.654474</td>\n",
       "      <td>0.479079</td>\n",
       "      <td>18329</td>\n",
       "      <td>1.654746</td>\n",
       "      <td>0.479760</td>\n",
       "      <td>16650</td>\n",
       "    </tr>\n",
       "    <tr>\n",
       "      <th rowspan=\"3\" valign=\"top\">https://hub.sd2e.org/user/sd2e/design/UWBF_16968/1</th>\n",
       "      <th rowspan=\"3\" valign=\"top\">2</th>\n",
       "      <th>A02</th>\n",
       "      <td>2.572431</td>\n",
       "      <td>0.338950</td>\n",
       "      <td>23662</td>\n",
       "      <td>2.571999</td>\n",
       "      <td>0.339017</td>\n",
       "      <td>14681</td>\n",
       "    </tr>\n",
       "    <tr>\n",
       "      <th>C11</th>\n",
       "      <td>2.697808</td>\n",
       "      <td>0.310978</td>\n",
       "      <td>23572</td>\n",
       "      <td>2.697650</td>\n",
       "      <td>0.310586</td>\n",
       "      <td>22717</td>\n",
       "    </tr>\n",
       "    <tr>\n",
       "      <th>D05</th>\n",
       "      <td>2.675767</td>\n",
       "      <td>0.299217</td>\n",
       "      <td>26500</td>\n",
       "      <td>2.673406</td>\n",
       "      <td>0.296941</td>\n",
       "      <td>9796</td>\n",
       "    </tr>\n",
       "  </tbody>\n",
       "</table>\n",
       "</div>"
      ],
      "text/plain": [
       "                                                                                              mean_log_gfp_gated  \\\n",
       "lab_id                      strain_name                                        plate_id well                       \n",
       "r1cft9hhnhjdb_r1cfwgjmz247y NOR-00-Control                                     2        C12             2.975619   \n",
       "                            WT-Live-Control                                    2        A12             1.654474   \n",
       "                            https://hub.sd2e.org/user/sd2e/design/UWBF_16968/1 2        A02             2.572431   \n",
       "                                                                                        C11             2.697808   \n",
       "                                                                                        D05             2.675767   \n",
       "\n",
       "                                                                                              std_log_gfp_gated  \\\n",
       "lab_id                      strain_name                                        plate_id well                      \n",
       "r1cft9hhnhjdb_r1cfwgjmz247y NOR-00-Control                                     2        C12            0.244577   \n",
       "                            WT-Live-Control                                    2        A12            0.479079   \n",
       "                            https://hub.sd2e.org/user/sd2e/design/UWBF_16968/1 2        A02            0.338950   \n",
       "                                                                                        C11            0.310978   \n",
       "                                                                                        D05            0.299217   \n",
       "\n",
       "                                                                                              gated_count  \\\n",
       "lab_id                      strain_name                                        plate_id well                \n",
       "r1cft9hhnhjdb_r1cfwgjmz247y NOR-00-Control                                     2        C12         26028   \n",
       "                            WT-Live-Control                                    2        A12         18329   \n",
       "                            https://hub.sd2e.org/user/sd2e/design/UWBF_16968/1 2        A02         23662   \n",
       "                                                                                        C11         23572   \n",
       "                                                                                        D05         26500   \n",
       "\n",
       "                                                                                              mean_log_gfp_gated_live  \\\n",
       "lab_id                      strain_name                                        plate_id well                            \n",
       "r1cft9hhnhjdb_r1cfwgjmz247y NOR-00-Control                                     2        C12                  2.975430   \n",
       "                            WT-Live-Control                                    2        A12                  1.654746   \n",
       "                            https://hub.sd2e.org/user/sd2e/design/UWBF_16968/1 2        A02                  2.571999   \n",
       "                                                                                        C11                  2.697650   \n",
       "                                                                                        D05                  2.673406   \n",
       "\n",
       "                                                                                              std_log_gfp_gated_live  \\\n",
       "lab_id                      strain_name                                        plate_id well                           \n",
       "r1cft9hhnhjdb_r1cfwgjmz247y NOR-00-Control                                     2        C12                 0.244508   \n",
       "                            WT-Live-Control                                    2        A12                 0.479760   \n",
       "                            https://hub.sd2e.org/user/sd2e/design/UWBF_16968/1 2        A02                 0.339017   \n",
       "                                                                                        C11                 0.310586   \n",
       "                                                                                        D05                 0.296941   \n",
       "\n",
       "                                                                                              gated_live_count  \n",
       "lab_id                      strain_name                                        plate_id well                    \n",
       "r1cft9hhnhjdb_r1cfwgjmz247y NOR-00-Control                                     2        C12              25075  \n",
       "                            WT-Live-Control                                    2        A12              16650  \n",
       "                            https://hub.sd2e.org/user/sd2e/design/UWBF_16968/1 2        A02              14681  \n",
       "                                                                                        C11              22717  \n",
       "                                                                                        D05               9796  "
      ]
     },
     "execution_count": 26,
     "metadata": {},
     "output_type": "execute_result"
    }
   ],
   "source": [
    "foo = data_helpers.compute_gated_scores(df)\n",
    "foo.head()"
   ]
  },
  {
   "cell_type": "markdown",
   "metadata": {},
   "source": [
    "# Compute New scores for the gated and live-filtered wells"
   ]
  },
  {
   "cell_type": "code",
   "execution_count": 27,
   "metadata": {},
   "outputs": [],
   "source": [
    "new_accuracy_table = deepcopy(accuracy_table)\n",
    "data_helpers.df_create_well_column(new_accuracy_table)\n",
    "data_helpers.df_add_new_gfp_columns(new_accuracy_table)\n",
    "\n",
    "new_accuracy_table.set_index(['lab_id', 'strain_name', 'plate_id', 'well'], inplace=True)"
   ]
  },
  {
   "cell_type": "code",
   "execution_count": null,
   "metadata": {},
   "outputs": [
    {
     "name": "stdout",
     "output_type": "stream",
     "text": [
      "r1c5va879uaex_r1c639xp952g4\n",
      "This file has 89 replicates with gated counts and 87 with gated live counts\n",
      "After combining with the previous data sets:\n",
      "We have a total of 89 replicates with gated counts and 87 with gated live counts.\n",
      "r1c5va9wyf3mx_r1c63bjzu5ruy\n",
      "This file has 89 replicates with gated counts and 89 with gated live counts\n",
      "After combining with the previous data sets:\n",
      "We have a total of 178 replicates with gated counts and 176 with gated live counts.\n",
      "r1c5vab4q2yu9_r1c63c2e7z9hj\n",
      "This file has 89 replicates with gated counts and 50 with gated live counts\n",
      "After combining with the previous data sets:\n",
      "We have a total of 267 replicates with gated counts and 226 with gated live counts.\n",
      "r1c5vac658fxn_r1c66qw595ydy\n",
      "This file has 87 replicates with gated counts and 87 with gated live counts\n",
      "After combining with the previous data sets:\n",
      "We have a total of 354 replicates with gated counts and 313 with gated live counts.\n",
      "r1c5vad8u7ve2_r1c66q7cru28u\n",
      "This file has 88 replicates with gated counts and 8 with gated live counts\n",
      "After combining with the previous data sets:\n",
      "We have a total of 442 replicates with gated counts and 321 with gated live counts.\n",
      "r1c5vaeb8vbt9_r1c66mfpj7guh\n",
      "This file has 89 replicates with gated counts and 89 with gated live counts\n",
      "After combining with the previous data sets:\n",
      "We have a total of 531 replicates with gated counts and 410 with gated live counts.\n",
      "r1c7cppfr7yp6_r1c7jnv3pkbsj\n",
      "This file has 89 replicates with gated counts and 89 with gated live counts\n",
      "After combining with the previous data sets:\n",
      "We have a total of 620 replicates with gated counts and 499 with gated live counts.\n",
      "r1c7cpqp2k6cw_r1c7jn9syrr8s\n",
      "This file has 1 replicates with gated counts and 1 with gated live counts\n",
      "After combining with the previous data sets:\n",
      "We have a total of 621 replicates with gated counts and 500 with gated live counts.\n",
      "r1c7cprv7fe49_r1c7jmje3ebhc\n",
      "This file has 66 replicates with gated counts and 55 with gated live counts\n",
      "After combining with the previous data sets:\n",
      "We have a total of 687 replicates with gated counts and 555 with gated live counts.\n",
      "r1c7cpt3djxuj_r1c7fex29q6t2\n",
      "This file has 90 replicates with gated counts and 90 with gated live counts\n",
      "After combining with the previous data sets:\n",
      "We have a total of 777 replicates with gated counts and 645 with gated live counts.\n",
      "r1c7cpu9nj2bu_r1c7fg23qkzph\n",
      "This file has 90 replicates with gated counts and 8 with gated live counts\n",
      "After combining with the previous data sets:\n",
      "We have a total of 867 replicates with gated counts and 653 with gated live counts.\n",
      "r1c7cpvfzqprk_r1c7fbvba55db\n",
      "This file has 89 replicates with gated counts and 89 with gated live counts\n",
      "After combining with the previous data sets:\n",
      "We have a total of 956 replicates with gated counts and 742 with gated live counts.\n",
      "r1c84xvquwxth_r1c8ek7vcmdxh\n",
      "This file has 90 replicates with gated counts and 2 with gated live counts\n",
      "After combining with the previous data sets:\n",
      "We have a total of 1046 replicates with gated counts and 744 with gated live counts.\n",
      "r1c84xwx57y95_r1c8ejz8jfg9z\n",
      "This file has 90 replicates with gated counts and 90 with gated live counts\n",
      "After combining with the previous data sets:\n",
      "We have a total of 1136 replicates with gated counts and 834 with gated live counts.\n",
      "r1c84xy5frkf3_r1c8ejr9kezva\n",
      "This file has 88 replicates with gated counts and 51 with gated live counts\n",
      "After combining with the previous data sets:\n",
      "We have a total of 1224 replicates with gated counts and 885 with gated live counts.\n",
      "r1c84xzc5dbuv_r1c8axrywctwb\n",
      "This file has 90 replicates with gated counts and 53 with gated live counts\n",
      "After combining with the previous data sets:\n",
      "We have a total of 1314 replicates with gated counts and 938 with gated live counts.\n",
      "r1c84y2j7n7bu_r1c8aw59wfxy8\n",
      "This file has 90 replicates with gated counts and 90 with gated live counts\n",
      "After combining with the previous data sets:\n",
      "We have a total of 1404 replicates with gated counts and 1028 with gated live counts.\n",
      "r1c84y3r9yqxb_r1c8auwvzbgt3\n",
      "This file has 90 replicates with gated counts and 52 with gated live counts\n",
      "After combining with the previous data sets:\n",
      "We have a total of 1494 replicates with gated counts and 1080 with gated live counts.\n",
      "r1c8xx6qe9eea_r1c93enbf48t7\n",
      "This file has 88 replicates with gated counts and 10 with gated live counts\n",
      "After combining with the previous data sets:\n",
      "We have a total of 1582 replicates with gated counts and 1090 with gated live counts.\n",
      "r1c8xx7we38vw_r1c93cukfcxqp\n",
      "This file has 89 replicates with gated counts and 89 with gated live counts\n",
      "After combining with the previous data sets:\n",
      "We have a total of 1671 replicates with gated counts and 1179 with gated live counts.\n",
      "r1c8xx94j94u7_r1c93ajvdzxz5\n",
      "This file has 90 replicates with gated counts and 76 with gated live counts\n",
      "After combining with the previous data sets:\n",
      "We have a total of 1761 replicates with gated counts and 1255 with gated live counts.\n",
      "r1c8yx25rrtag_r1c96v2w8x5pq\n",
      "This file has 90 replicates with gated counts and 62 with gated live counts\n",
      "After combining with the previous data sets:\n",
      "We have a total of 1851 replicates with gated counts and 1317 with gated live counts.\n",
      "r1c8yydkumrkr_r1c96xsxw79c9\n",
      "This file has 90 replicates with gated counts and 52 with gated live counts\n",
      "After combining with the previous data sets:\n",
      "We have a total of 1941 replicates with gated counts and 1369 with gated live counts.\n",
      "r1c8yyg9gxbme_r1c96wn43pq45\n",
      "This file has 90 replicates with gated counts and 90 with gated live counts\n",
      "After combining with the previous data sets:\n",
      "We have a total of 2031 replicates with gated counts and 1459 with gated live counts.\n",
      "r1c9tpk5zrbsk_r1c9wpbvjszxe\n",
      "This file has 90 replicates with gated counts and 4 with gated live counts\n",
      "After combining with the previous data sets:\n",
      "We have a total of 2121 replicates with gated counts and 1463 with gated live counts.\n",
      "r1c9tpmcezpk2_r1c9wjnedp92f\n",
      "This file has 89 replicates with gated counts and 70 with gated live counts\n",
      "After combining with the previous data sets:\n",
      "We have a total of 2210 replicates with gated counts and 1533 with gated live counts.\n",
      "r1cbajphx4ekf_r1cbeec6cxn2t\n",
      "This file has 90 replicates with gated counts and 49 with gated live counts\n",
      "After combining with the previous data sets:\n",
      "We have a total of 2300 replicates with gated counts and 1582 with gated live counts.\n",
      "r1cbajqru7kbe_r1cbe9p9zu6dh\n",
      "This file has 89 replicates with gated counts and 89 with gated live counts\n",
      "After combining with the previous data sets:\n",
      "We have a total of 2389 replicates with gated counts and 1671 with gated live counts.\n",
      "r1cbajrxthe7y_r1cbdzkebbd46\n",
      "This file has 90 replicates with gated counts and 90 with gated live counts\n",
      "After combining with the previous data sets:\n",
      "We have a total of 2479 replicates with gated counts and 1761 with gated live counts.\n",
      "r1cbuszfskzjt_r1cc6ws9c3dh4\n",
      "This file has 49 replicates with gated counts and 49 with gated live counts\n",
      "After combining with the previous data sets:\n",
      "We have a total of 2528 replicates with gated counts and 1810 with gated live counts.\n",
      "r1cbut2pdjtwv_r1cc6qzwcd4hx\n",
      "This file has 63 replicates with gated counts and 63 with gated live counts\n",
      "After combining with the previous data sets:\n",
      "We have a total of 2591 replicates with gated counts and 1873 with gated live counts.\n",
      "r1cbut3veu2z4_r1cc6efukqtxx\n",
      "This file has 58 replicates with gated counts and 58 with gated live counts\n",
      "After combining with the previous data sets:\n",
      "We have a total of 2649 replicates with gated counts and 1931 with gated live counts.\n",
      "r1cbut53kpf3n_r1cc3bn2s2aj8\n",
      "This file has 49 replicates with gated counts and 49 with gated live counts\n",
      "After combining with the previous data sets:\n",
      "We have a total of 2698 replicates with gated counts and 1980 with gated live counts.\n",
      "r1cbut6a79n9t_r1cc34mkuvzeh\n",
      "This file has 71 replicates with gated counts and 10 with gated live counts\n",
      "After combining with the previous data sets:\n",
      "We have a total of 2769 replicates with gated counts and 1990 with gated live counts.\n",
      "r1cbut7g7x6pg_r1cc2xauy7qaa\n"
     ]
    }
   ],
   "source": [
    "processed = set()\n",
    "\n",
    "newly_done = set()\n",
    "failed = set()\n",
    "with warnings.catch_warnings():\n",
    "    warnings.simplefilter(\"ignore\", pd.errors.DtypeWarning)\n",
    "    warnings.simplefilter(\"ignore\", pd.core.common.SettingWithCopyWarning)\n",
    "    warnings.simplefilter(\"ignore\", FutureWarning)\n",
    "\n",
    "    for x in sorted(accuracy_table['lab_id'].unique()):\n",
    "        if x in processed:\n",
    "            print(f\"{x} already processed.\")\n",
    "        else:\n",
    "            print(x)\n",
    "            try:\n",
    "                filename: str = os.path.join(DATA_DIR, x + \".csv\")\n",
    "                assert os.path.exists(filename)\n",
    "                df = collect_a_datafile(filename)\n",
    "                new_df = data_helpers.compute_gated_scores(df)\n",
    "                gated_rows = np.sum(~(new_df['gated_count'].isna().to_numpy()))\n",
    "                gated_live_rows = np.sum(~(new_df['gated_live_count'].isna().to_numpy()))\n",
    "                print(f'This file has {gated_rows} replicates with gated counts and {gated_live_rows} with gated live counts')\n",
    "                new_accuracy_table = new_accuracy_table.combine_first(new_df)\n",
    "                print('After combining with the previous data sets:')\n",
    "                gated_rows = np.sum(~(new_accuracy_table['gated_count'].isna().to_numpy()))\n",
    "                gated_live_rows = np.sum(~(new_accuracy_table['gated_live_count'].isna().to_numpy()))\n",
    "                print(f'We have a total of {gated_rows} replicates with gated counts and {gated_live_rows} with gated live counts.')\n",
    "                new_accuracy_table.to_csv(\"new_accuracy_table.csv\")\n",
    "                newly_done.add(x)\n",
    "                processed.add(x)\n",
    "            except Exception as e:\n",
    "                print(f\"Failed to process {x} because of error:\\n\\t{e}\")\n",
    "                processed.add(x)\n",
    "                failed.add(x)\n",
    " "
   ]
  },
  {
   "cell_type": "code",
   "execution_count": 80,
   "metadata": {},
   "outputs": [
    {
     "data": {
      "text/plain": [
       "set()"
      ]
     },
     "execution_count": 80,
     "metadata": {},
     "output_type": "execute_result"
    }
   ],
   "source": [
    "unprocessed =  set(accuracy_table['lab_id'].unique()) - processed\n",
    "unprocessed"
   ]
  },
  {
   "cell_type": "code",
   "execution_count": 77,
   "metadata": {},
   "outputs": [
    {
     "name": "stdout",
     "output_type": "stream",
     "text": [
      "Index(['mean_log_gfp_gated', 'std_log_gfp_gated', 'gated_count',\n",
      "       'mean_log_gfp_gated_live', 'std_log_gfp_gated_live',\n",
      "       'gated_live_count'],\n",
      "      dtype='object')\n",
      "Index(['count', 'count_live', 'experiment_id', 'filename', 'gate',\n",
      "       'gated_count', 'gated_live_count', 'growth_media_1', 'growth_media_2',\n",
      "       'id', 'inc_temp', 'inc_time_1', 'inc_time_2', 'index', 'input', 'lab',\n",
      "       'mean_correct_classifier', 'mean_correct_classifier_live',\n",
      "       'mean_correct_high_classifier', 'mean_correct_high_classifier_live',\n",
      "       'mean_correct_high_threshold', 'mean_correct_high_threshold_live',\n",
      "       'mean_correct_low_classifier', 'mean_correct_low_classifier_live',\n",
      "       'mean_correct_low_threshold', 'mean_correct_low_threshold_live',\n",
      "       'mean_correct_threshold', 'mean_correct_threshold_live', 'mean_log_gfp',\n",
      "       'mean_log_gfp_gated', 'mean_log_gfp_gated_live', 'mean_log_gfp_live',\n",
      "       'media', 'od', 'od_cutoff', 'output', 'plan', 'replicate',\n",
      "       'source_container', 'std_correct_classifier',\n",
      "       'std_correct_classifier_live', 'std_correct_high_classifier',\n",
      "       'std_correct_high_classifier_live', 'std_correct_high_threshold',\n",
      "       'std_correct_high_threshold_live', 'std_correct_low_classifier',\n",
      "       'std_correct_low_classifier_live', 'std_correct_low_threshold',\n",
      "       'std_correct_low_threshold_live', 'std_correct_threshold',\n",
      "       'std_correct_threshold_live', 'std_log_gfp', 'std_log_gfp_gated',\n",
      "       'std_log_gfp_gated_live', 'std_log_gfp_live', 'threshold',\n",
      "       'threshold_live'],\n",
      "      dtype='object')\n"
     ]
    }
   ],
   "source": [
    "print(new_df.columns)\n",
    "print(new_accuracy_table.combine_first(new_df).columns)"
   ]
  },
  {
   "cell_type": "code",
   "execution_count": 78,
   "metadata": {},
   "outputs": [
    {
     "data": {
      "text/plain": [
       "(5344, 8726)"
      ]
     },
     "execution_count": 78,
     "metadata": {},
     "output_type": "execute_result"
    }
   ],
   "source": [
    "np.sum(~(new_accuracy_table.combine_first(new_df)['gated_live_count'].isna().to_numpy())), new_accuracy_table.shape[0]"
   ]
  },
  {
   "cell_type": "code",
   "execution_count": 79,
   "metadata": {},
   "outputs": [
    {
     "data": {
      "text/plain": [
       "(7351, 8726)"
      ]
     },
     "execution_count": 79,
     "metadata": {},
     "output_type": "execute_result"
    }
   ],
   "source": [
    "np.sum(~(new_accuracy_table.combine_first(new_df)['gated_count'].isna().to_numpy())), new_accuracy_table.shape[0]"
   ]
  },
  {
   "cell_type": "code",
   "execution_count": 39,
   "metadata": {},
   "outputs": [
    {
     "data": {
      "text/plain": [
       "(43919, 2015602)"
      ]
     },
     "execution_count": 39,
     "metadata": {},
     "output_type": "execute_result"
    }
   ],
   "source": [
    "no_live_count = df[df['live'].isna()]\n",
    "no_live_count.shape[0], df.shape[0]"
   ]
  },
  {
   "cell_type": "code",
   "execution_count": 47,
   "metadata": {},
   "outputs": [
    {
     "data": {
      "text/plain": [
       "array(['WT-Live-Control', 'NOR-00-Control',\n",
       "       'https://hub.sd2e.org/user/sd2e/design/UWBF_7299/1'], dtype=object)"
      ]
     },
     "execution_count": 47,
     "metadata": {},
     "output_type": "execute_result"
    }
   ],
   "source": [
    "no_live_count.reset_index(level='strain_name')['strain_name'].unique()"
   ]
  },
  {
   "cell_type": "code",
   "execution_count": 51,
   "metadata": {},
   "outputs": [
    {
     "data": {
      "text/plain": [
       "{(0, 'H11'): [('r1c5va879uaex_r1c639xp952g4', 'H11', 30, 16, 0.0003, 'r1c5va879uaex_r1c639xp952g4', 0, 'H11', 90, 27847), ('r1c5va879uaex_r1c639xp952g4', 'H11', 30, 16, 0.0003, 'r1c5va879uaex_r1c639xp952g4', 0, 'H11', 90, 27848), ('r1c5va879uaex_r1c639xp952g4', 'H11', 30, 16, 0.0003, 'r1c5va879uaex_r1c639xp952g4', 0, 'H11', 90, 27849), ('r1c5va879uaex_r1c639xp952g4', 'H11', 30, 16, 0.0003, 'r1c5va879uaex_r1c639xp952g4', 0, 'H11', 90, 27850), ('r1c5va879uaex_r1c639xp952g4', 'H11', 30, 16, 0.0003, 'r1c5va879uaex_r1c639xp952g4', 0, 'H11', 90, 27851), ('r1c5va879uaex_r1c639xp952g4', 'H11', 30, 16, 0.0003, 'r1c5va879uaex_r1c639xp952g4', 0, 'H11', 90, 27852), ('r1c5va879uaex_r1c639xp952g4', 'H11', 30, 16, 0.0003, 'r1c5va879uaex_r1c639xp952g4', 0, 'H11', 90, 27853), ('r1c5va879uaex_r1c639xp952g4', 'H11', 30, 16, 0.0003, 'r1c5va879uaex_r1c639xp952g4', 0, 'H11', 90, 27854), ('r1c5va879uaex_r1c639xp952g4', 'H11', 30, 16, 0.0003, 'r1c5va879uaex_r1c639xp952g4', 0, 'H11', 90, 27855), ('r1c5va879uaex_r1c639xp952g4', 'H11', 30, 16, 0.0003, 'r1c5va879uaex_r1c639xp952g4', 0, 'H11', 90, 27856), ('r1c5va879uaex_r1c639xp952g4', 'H11', 30, 16, 0.0003, 'r1c5va879uaex_r1c639xp952g4', 0, 'H11', 90, 27857), ('r1c5va879uaex_r1c639xp952g4', 'H11', 30, 16, 0.0003, 'r1c5va879uaex_r1c639xp952g4', 0, 'H11', 90, 27858), ('r1c5va879uaex_r1c639xp952g4', 'H11', 30, 16, 0.0003, 'r1c5va879uaex_r1c639xp952g4', 0, 'H11', 90, 27859), ('r1c5va879uaex_r1c639xp952g4', 'H11', 30, 16, 0.0003, 'r1c5va879uaex_r1c639xp952g4', 0, 'H11', 90, 27860), ('r1c5va879uaex_r1c639xp952g4', 'H11', 30, 16, 0.0003, 'r1c5va879uaex_r1c639xp952g4', 0, 'H11', 90, 27861), ('r1c5va879uaex_r1c639xp952g4', 'H11', 30, 16, 0.0003, 'r1c5va879uaex_r1c639xp952g4', 0, 'H11', 90, 27862), ('r1c5va879uaex_r1c639xp952g4', 'H11', 30, 16, 0.0003, 'r1c5va879uaex_r1c639xp952g4', 0, 'H11', 90, 27863), ('r1c5va879uaex_r1c639xp952g4', 'H11', 30, 16, 0.0003, 'r1c5va879uaex_r1c639xp952g4', 0, 'H11', 90, 27864), ('r1c5va879uaex_r1c639xp952g4', 'H11', 30, 16, 0.0003, 'r1c5va879uaex_r1c639xp952g4', 0, 'H11', 90, 27865), ('r1c5va879uaex_r1c639xp952g4', 'H11', 30, 16, 0.0003, 'r1c5va879uaex_r1c639xp952g4', 0, 'H11', 90, 27867), ('r1c5va879uaex_r1c639xp952g4', 'H11', 30, 16, 0.0003, 'r1c5va879uaex_r1c639xp952g4', 0, 'H11', 90, 27870), ('r1c5va879uaex_r1c639xp952g4', 'H11', 30, 16, 0.0003, 'r1c5va879uaex_r1c639xp952g4', 0, 'H11', 90, 27871), ('r1c5va879uaex_r1c639xp952g4', 'H11', 30, 16, 0.0003, 'r1c5va879uaex_r1c639xp952g4', 0, 'H11', 90, 27872), ('r1c5va879uaex_r1c639xp952g4', 'H11', 30, 16, 0.0003, 'r1c5va879uaex_r1c639xp952g4', 0, 'H11', 90, 27873), ('r1c5va879uaex_r1c639xp952g4', 'H11', 30, 16, 0.0003, 'r1c5va879uaex_r1c639xp952g4', 0, 'H11', 90, 27874), ('r1c5va879uaex_r1c639xp952g4', 'H11', 30, 16, 0.0003, 'r1c5va879uaex_r1c639xp952g4', 0, 'H11', 90, 27875), ('r1c5va879uaex_r1c639xp952g4', 'H11', 30, 16, 0.0003, 'r1c5va879uaex_r1c639xp952g4', 0, 'H11', 90, 27877), ('r1c5va879uaex_r1c639xp952g4', 'H11', 30, 16, 0.0003, 'r1c5va879uaex_r1c639xp952g4', 0, 'H11', 90, 27878), ('r1c5va879uaex_r1c639xp952g4', 'H11', 30, 16, 0.0003, 'r1c5va879uaex_r1c639xp952g4', 0, 'H11', 90, 27881), ('r1c5va879uaex_r1c639xp952g4', 'H11', 30, 16, 0.0003, 'r1c5va879uaex_r1c639xp952g4', 0, 'H11', 90, 27882), ('r1c5va879uaex_r1c639xp952g4', 'H11', 30, 16, 0.0003, 'r1c5va879uaex_r1c639xp952g4', 0, 'H11', 90, 27883), ('r1c5va879uaex_r1c639xp952g4', 'H11', 30, 16, 0.0003, 'r1c5va879uaex_r1c639xp952g4', 0, 'H11', 90, 27884), ('r1c5va879uaex_r1c639xp952g4', 'H11', 30, 16, 0.0003, 'r1c5va879uaex_r1c639xp952g4', 0, 'H11', 90, 27885), ('r1c5va879uaex_r1c639xp952g4', 'H11', 30, 16, 0.0003, 'r1c5va879uaex_r1c639xp952g4', 0, 'H11', 90, 27887), ('r1c5va879uaex_r1c639xp952g4', 'H11', 30, 16, 0.0003, 'r1c5va879uaex_r1c639xp952g4', 0, 'H11', 90, 27888), ('r1c5va879uaex_r1c639xp952g4', 'H11', 30, 16, 0.0003, 'r1c5va879uaex_r1c639xp952g4', 0, 'H11', 90, 27889), ('r1c5va879uaex_r1c639xp952g4', 'H11', 30, 16, 0.0003, 'r1c5va879uaex_r1c639xp952g4', 0, 'H11', 90, 27890), ('r1c5va879uaex_r1c639xp952g4', 'H11', 30, 16, 0.0003, 'r1c5va879uaex_r1c639xp952g4', 0, 'H11', 90, 27891), ('r1c5va879uaex_r1c639xp952g4', 'H11', 30, 16, 0.0003, 'r1c5va879uaex_r1c639xp952g4', 0, 'H11', 90, 27892), ('r1c5va879uaex_r1c639xp952g4', 'H11', 30, 16, 0.0003, 'r1c5va879uaex_r1c639xp952g4', 0, 'H11', 90, 27893), ('r1c5va879uaex_r1c639xp952g4', 'H11', 30, 16, 0.0003, 'r1c5va879uaex_r1c639xp952g4', 0, 'H11', 90, 27894), ('r1c5va879uaex_r1c639xp952g4', 'H11', 30, 16, 0.0003, 'r1c5va879uaex_r1c639xp952g4', 0, 'H11', 90, 27895), ('r1c5va879uaex_r1c639xp952g4', 'H11', 30, 16, 0.0003, 'r1c5va879uaex_r1c639xp952g4', 0, 'H11', 90, 27896), ('r1c5va879uaex_r1c639xp952g4', 'H11', 30, 16, 0.0003, 'r1c5va879uaex_r1c639xp952g4', 0, 'H11', 90, 27897), ('r1c5va879uaex_r1c639xp952g4', 'H11', 30, 16, 0.0003, 'r1c5va879uaex_r1c639xp952g4', 0, 'H11', 90, 27898), ('r1c5va879uaex_r1c639xp952g4', 'H11', 30, 16, 0.0003, 'r1c5va879uaex_r1c639xp952g4', 0, 'H11', 90, 27899), ('r1c5va879uaex_r1c639xp952g4', 'H11', 30, 16, 0.0003, 'r1c5va879uaex_r1c639xp952g4', 0, 'H11', 90, 27900), ('r1c5va879uaex_r1c639xp952g4', 'H11', 30, 16, 0.0003, 'r1c5va879uaex_r1c639xp952g4', 0, 'H11', 90, 27901), ('r1c5va879uaex_r1c639xp952g4', 'H11', 30, 16, 0.0003, 'r1c5va879uaex_r1c639xp952g4', 0, 'H11', 90, 27902), ('r1c5va879uaex_r1c639xp952g4', 'H11', 30, 16, 0.0003, 'r1c5va879uaex_r1c639xp952g4', 0, 'H11', 90, 27904), ('r1c5va879uaex_r1c639xp952g4', 'H11', 30, 16, 0.0003, 'r1c5va879uaex_r1c639xp952g4', 0, 'H11', 90, 27905), ('r1c5va879uaex_r1c639xp952g4', 'H11', 30, 16, 0.0003, 'r1c5va879uaex_r1c639xp952g4', 0, 'H11', 90, 27906), ('r1c5va879uaex_r1c639xp952g4', 'H11', 30, 16, 0.0003, 'r1c5va879uaex_r1c639xp952g4', 0, 'H11', 90, 27907), ('r1c5va879uaex_r1c639xp952g4', 'H11', 30, 16, 0.0003, 'r1c5va879uaex_r1c639xp952g4', 0, 'H11', 90, 27910), ('r1c5va879uaex_r1c639xp952g4', 'H11', 30, 16, 0.0003, 'r1c5va879uaex_r1c639xp952g4', 0, 'H11', 90, 27912), ('r1c5va879uaex_r1c639xp952g4', 'H11', 30, 16, 0.0003, 'r1c5va879uaex_r1c639xp952g4', 0, 'H11', 90, 27913), ('r1c5va879uaex_r1c639xp952g4', 'H11', 30, 16, 0.0003, 'r1c5va879uaex_r1c639xp952g4', 0, 'H11', 90, 27914), ('r1c5va879uaex_r1c639xp952g4', 'H11', 30, 16, 0.0003, 'r1c5va879uaex_r1c639xp952g4', 0, 'H11', 90, 27915), ('r1c5va879uaex_r1c639xp952g4', 'H11', 30, 16, 0.0003, 'r1c5va879uaex_r1c639xp952g4', 0, 'H11', 90, 27916), ('r1c5va879uaex_r1c639xp952g4', 'H11', 30, 16, 0.0003, 'r1c5va879uaex_r1c639xp952g4', 0, 'H11', 90, 27917), ('r1c5va879uaex_r1c639xp952g4', 'H11', 30, 16, 0.0003, 'r1c5va879uaex_r1c639xp952g4', 0, 'H11', 90, 27918), ('r1c5va879uaex_r1c639xp952g4', 'H11', 30, 16, 0.0003, 'r1c5va879uaex_r1c639xp952g4', 0, 'H11', 90, 27919), ('r1c5va879uaex_r1c639xp952g4', 'H11', 30, 16, 0.0003, 'r1c5va879uaex_r1c639xp952g4', 0, 'H11', 90, 27920), ('r1c5va879uaex_r1c639xp952g4', 'H11', 30, 16, 0.0003, 'r1c5va879uaex_r1c639xp952g4', 0, 'H11', 90, 27922), ('r1c5va879uaex_r1c639xp952g4', 'H11', 30, 16, 0.0003, 'r1c5va879uaex_r1c639xp952g4', 0, 'H11', 90, 27923), ('r1c5va879uaex_r1c639xp952g4', 'H11', 30, 16, 0.0003, 'r1c5va879uaex_r1c639xp952g4', 0, 'H11', 90, 27924), ('r1c5va879uaex_r1c639xp952g4', 'H11', 30, 16, 0.0003, 'r1c5va879uaex_r1c639xp952g4', 0, 'H11', 90, 27925), ('r1c5va879uaex_r1c639xp952g4', 'H11', 30, 16, 0.0003, 'r1c5va879uaex_r1c639xp952g4', 0, 'H11', 90, 27926), ('r1c5va879uaex_r1c639xp952g4', 'H11', 30, 16, 0.0003, 'r1c5va879uaex_r1c639xp952g4', 0, 'H11', 90, 27927), ('r1c5va879uaex_r1c639xp952g4', 'H11', 30, 16, 0.0003, 'r1c5va879uaex_r1c639xp952g4', 0, 'H11', 90, 27928), ('r1c5va879uaex_r1c639xp952g4', 'H11', 30, 16, 0.0003, 'r1c5va879uaex_r1c639xp952g4', 0, 'H11', 90, 27929), ('r1c5va879uaex_r1c639xp952g4', 'H11', 30, 16, 0.0003, 'r1c5va879uaex_r1c639xp952g4', 0, 'H11', 90, 27930), ('r1c5va879uaex_r1c639xp952g4', 'H11', 30, 16, 0.0003, 'r1c5va879uaex_r1c639xp952g4', 0, 'H11', 90, 27931), ('r1c5va879uaex_r1c639xp952g4', 'H11', 30, 16, 0.0003, 'r1c5va879uaex_r1c639xp952g4', 0, 'H11', 90, 27933), ('r1c5va879uaex_r1c639xp952g4', 'H11', 30, 16, 0.0003, 'r1c5va879uaex_r1c639xp952g4', 0, 'H11', 90, 27934), ('r1c5va879uaex_r1c639xp952g4', 'H11', 30, 16, 0.0003, 'r1c5va879uaex_r1c639xp952g4', 0, 'H11', 90, 27935), ('r1c5va879uaex_r1c639xp952g4', 'H11', 30, 16, 0.0003, 'r1c5va879uaex_r1c639xp952g4', 0, 'H11', 90, 27936), ('r1c5va879uaex_r1c639xp952g4', 'H11', 30, 16, 0.0003, 'r1c5va879uaex_r1c639xp952g4', 0, 'H11', 90, 27938), ('r1c5va879uaex_r1c639xp952g4', 'H11', 30, 16, 0.0003, 'r1c5va879uaex_r1c639xp952g4', 0, 'H11', 90, 27940), ('r1c5va879uaex_r1c639xp952g4', 'H11', 30, 16, 0.0003, 'r1c5va879uaex_r1c639xp952g4', 0, 'H11', 90, 27942), ('r1c5va879uaex_r1c639xp952g4', 'H11', 30, 16, 0.0003, 'r1c5va879uaex_r1c639xp952g4', 0, 'H11', 90, 27943), ('r1c5va879uaex_r1c639xp952g4', 'H11', 30, 16, 0.0003, 'r1c5va879uaex_r1c639xp952g4', 0, 'H11', 90, 27944), ('r1c5va879uaex_r1c639xp952g4', 'H11', 30, 16, 0.0003, 'r1c5va879uaex_r1c639xp952g4', 0, 'H11', 90, 27945), ('r1c5va879uaex_r1c639xp952g4', 'H11', 30, 16, 0.0003, 'r1c5va879uaex_r1c639xp952g4', 0, 'H11', 90, 27947), ('r1c5va879uaex_r1c639xp952g4', 'H11', 30, 16, 0.0003, 'r1c5va879uaex_r1c639xp952g4', 0, 'H11', 90, 27948), ('r1c5va879uaex_r1c639xp952g4', 'H11', 30, 16, 0.0003, 'r1c5va879uaex_r1c639xp952g4', 0, 'H11', 90, 27952), ('r1c5va879uaex_r1c639xp952g4', 'H11', 30, 16, 0.0003, 'r1c5va879uaex_r1c639xp952g4', 0, 'H11', 90, 27953), ('r1c5va879uaex_r1c639xp952g4', 'H11', 30, 16, 0.0003, 'r1c5va879uaex_r1c639xp952g4', 0, 'H11', 90, 27954), ('r1c5va879uaex_r1c639xp952g4', 'H11', 30, 16, 0.0003, 'r1c5va879uaex_r1c639xp952g4', 0, 'H11', 90, 27956), ('r1c5va879uaex_r1c639xp952g4', 'H11', 30, 16, 0.0003, 'r1c5va879uaex_r1c639xp952g4', 0, 'H11', 90, 27957), ('r1c5va879uaex_r1c639xp952g4', 'H11', 30, 16, 0.0003, 'r1c5va879uaex_r1c639xp952g4', 0, 'H11', 90, 27958), ('r1c5va879uaex_r1c639xp952g4', 'H11', 30, 16, 0.0003, 'r1c5va879uaex_r1c639xp952g4', 0, 'H11', 90, 27959), ('r1c5va879uaex_r1c639xp952g4', 'H11', 30, 16, 0.0003, 'r1c5va879uaex_r1c639xp952g4', 0, 'H11', 90, 27960), ('r1c5va879uaex_r1c639xp952g4', 'H11', 30, 16, 0.0003, 'r1c5va879uaex_r1c639xp952g4', 0, 'H11', 90, 27962), ('r1c5va879uaex_r1c639xp952g4', 'H11', 30, 16, 0.0003, 'r1c5va879uaex_r1c639xp952g4', 0, 'H11', 90, 27966), ('r1c5va879uaex_r1c639xp952g4', 'H11', 30, 16, 0.0003, 'r1c5va879uaex_r1c639xp952g4', 0, 'H11', 90, 27968), ('r1c5va879uaex_r1c639xp952g4', 'H11', 30, 16, 0.0003, 'r1c5va879uaex_r1c639xp952g4', 0, 'H11', 90, 27969), ('r1c5va879uaex_r1c639xp952g4', 'H11', 30, 16, 0.0003, 'r1c5va879uaex_r1c639xp952g4', 0, 'H11', 90, 27970), ('r1c5va879uaex_r1c639xp952g4', 'H11', 30, 16, 0.0003, 'r1c5va879uaex_r1c639xp952g4', 0, 'H11', 90, 27971), ('r1c5va879uaex_r1c639xp952g4', 'H11', 30, 16, 0.0003, 'r1c5va879uaex_r1c639xp952g4', 0, 'H11', 90, 27972), ...]}"
      ]
     },
     "execution_count": 51,
     "metadata": {},
     "output_type": "execute_result"
    }
   ],
   "source": [
    "no_live_count.xs('https://hub.sd2e.org/user/sd2e/design/UWBF_7299/1', level='strain_name').groupby(['plate_id', 'well']).groups"
   ]
  },
  {
   "cell_type": "code",
   "execution_count": 65,
   "metadata": {},
   "outputs": [
    {
     "data": {
      "text/html": [
       "<div>\n",
       "<style scoped>\n",
       "    .dataframe tbody tr th:only-of-type {\n",
       "        vertical-align: middle;\n",
       "    }\n",
       "\n",
       "    .dataframe tbody tr th {\n",
       "        vertical-align: top;\n",
       "    }\n",
       "\n",
       "    .dataframe thead th {\n",
       "        text-align: right;\n",
       "    }\n",
       "</style>\n",
       "<table border=\"1\" class=\"dataframe\">\n",
       "  <thead>\n",
       "    <tr style=\"text-align: right;\">\n",
       "      <th></th>\n",
       "      <th></th>\n",
       "      <th></th>\n",
       "      <th></th>\n",
       "      <th></th>\n",
       "      <th></th>\n",
       "      <th></th>\n",
       "      <th></th>\n",
       "      <th>plate_id</th>\n",
       "      <th>well</th>\n",
       "    </tr>\n",
       "    <tr>\n",
       "      <th>lab_id</th>\n",
       "      <th>inc_temp_degrees</th>\n",
       "      <th>inc_time_2_hrs</th>\n",
       "      <th>od</th>\n",
       "      <th>lab_id</th>\n",
       "      <th>well</th>\n",
       "      <th>replicate</th>\n",
       "      <th>event</th>\n",
       "      <th></th>\n",
       "      <th></th>\n",
       "    </tr>\n",
       "  </thead>\n",
       "  <tbody>\n",
       "    <tr>\n",
       "      <th>r1c5va879uaex_r1c639xp952g4</th>\n",
       "      <th>30</th>\n",
       "      <th>16</th>\n",
       "      <th>0.0003</th>\n",
       "      <th>r1c5va879uaex_r1c639xp952g4</th>\n",
       "      <th>H11</th>\n",
       "      <th>90</th>\n",
       "      <th>27847</th>\n",
       "      <td>0</td>\n",
       "      <td>H11</td>\n",
       "    </tr>\n",
       "  </tbody>\n",
       "</table>\n",
       "</div>"
      ],
      "text/plain": [
       "                                                                                                                     plate_id  \\\n",
       "lab_id                      inc_temp_degrees inc_time_2_hrs od     lab_id                      well replicate event             \n",
       "r1c5va879uaex_r1c639xp952g4 30               16             0.0003 r1c5va879uaex_r1c639xp952g4 H11  90        27847         0   \n",
       "\n",
       "                                                                                                                    well  \n",
       "lab_id                      inc_temp_degrees inc_time_2_hrs od     lab_id                      well replicate event       \n",
       "r1c5va879uaex_r1c639xp952g4 30               16             0.0003 r1c5va879uaex_r1c639xp952g4 H11  90        27847  H11  "
      ]
     },
     "execution_count": 65,
     "metadata": {},
     "output_type": "execute_result"
    }
   ],
   "source": [
    "no_live_count.xs('https://hub.sd2e.org/user/sd2e/design/UWBF_7299/1', level='strain_name').reset_index(level='plate_id').reset_index(level=1)[['plate_id','well']].drop_duplicates()\n"
   ]
  },
  {
   "cell_type": "code",
   "execution_count": 33,
   "metadata": {},
   "outputs": [
    {
     "data": {
      "text/plain": [
       "Index(['mean_log_gfp_gated', 'std_log_gfp_gated', 'gated_count',\n",
       "       'mean_log_gfp_gated_live', 'std_log_gfp_gated_live',\n",
       "       'gated_live_count'],\n",
       "      dtype='object')"
      ]
     },
     "execution_count": 33,
     "metadata": {},
     "output_type": "execute_result"
    }
   ],
   "source": [
    "new_df.columns"
   ]
  },
  {
   "cell_type": "code",
   "execution_count": 48,
   "metadata": {},
   "outputs": [
    {
     "name": "stdout",
     "output_type": "stream",
     "text": [
      "1971683 2015602\n"
     ]
    },
    {
     "data": {
      "text/plain": [
       "array(['https://hub.sd2e.org/user/sd2e/design/UWBF_7299/1',\n",
       "       'https://hub.sd2e.org/user/sd2e/design/UWBF_6389/1',\n",
       "       'https://hub.sd2e.org/user/sd2e/design/UWBF_8231/1',\n",
       "       'https://hub.sd2e.org/user/sd2e/design/UWBF_7300/1',\n",
       "       'https://hub.sd2e.org/user/sd2e/design/UWBF_7373/1',\n",
       "       'https://hub.sd2e.org/user/sd2e/design/UWBF_6390/1',\n",
       "       'https://hub.sd2e.org/user/sd2e/design/UWBF_8544/1',\n",
       "       'https://hub.sd2e.org/user/sd2e/design/UWBF_6391/1',\n",
       "       'https://hub.sd2e.org/user/sd2e/design/UWBF_16968/1',\n",
       "       'https://hub.sd2e.org/user/sd2e/design/UWBF_7377/1',\n",
       "       'https://hub.sd2e.org/user/sd2e/design/UWBF_16967/1',\n",
       "       'https://hub.sd2e.org/user/sd2e/design/UWBF_8542/1',\n",
       "       'https://hub.sd2e.org/user/sd2e/design/UWBF_6388/1',\n",
       "       'https://hub.sd2e.org/user/sd2e/design/UWBF_7375/1',\n",
       "       'https://hub.sd2e.org/user/sd2e/design/UWBF_7374/1',\n",
       "       'https://hub.sd2e.org/user/sd2e/design/UWBF_8545/1',\n",
       "       'https://hub.sd2e.org/user/sd2e/design/UWBF_8543/1',\n",
       "       'https://hub.sd2e.org/user/sd2e/design/UWBF_16970/1',\n",
       "       'https://hub.sd2e.org/user/sd2e/design/UWBF_7376/1',\n",
       "       'https://hub.sd2e.org/user/sd2e/design/UWBF_16969/1'], dtype=object)"
      ]
     },
     "execution_count": 48,
     "metadata": {},
     "output_type": "execute_result"
    }
   ],
   "source": [
    "live_count = df[~df['live'].isna()]\n",
    "print(live_count.shape[0], df.shape[0])\n",
    "live_count.reset_index(level='strain_name')['strain_name'].unique()"
   ]
  },
  {
   "cell_type": "code",
   "execution_count": 34,
   "metadata": {},
   "outputs": [
    {
     "data": {
      "text/html": [
       "<div>\n",
       "<style scoped>\n",
       "    .dataframe tbody tr th:only-of-type {\n",
       "        vertical-align: middle;\n",
       "    }\n",
       "\n",
       "    .dataframe tbody tr th {\n",
       "        vertical-align: top;\n",
       "    }\n",
       "\n",
       "    .dataframe thead th {\n",
       "        text-align: right;\n",
       "    }\n",
       "</style>\n",
       "<table border=\"1\" class=\"dataframe\">\n",
       "  <thead>\n",
       "    <tr style=\"text-align: right;\">\n",
       "      <th></th>\n",
       "      <th></th>\n",
       "      <th></th>\n",
       "      <th></th>\n",
       "      <th>mean_log_gfp_gated</th>\n",
       "      <th>std_log_gfp_gated</th>\n",
       "      <th>gated_count</th>\n",
       "      <th>mean_log_gfp_gated_live</th>\n",
       "      <th>std_log_gfp_gated_live</th>\n",
       "      <th>gated_live_count</th>\n",
       "    </tr>\n",
       "    <tr>\n",
       "      <th>lab_id</th>\n",
       "      <th>strain_name</th>\n",
       "      <th>plate_id</th>\n",
       "      <th>well</th>\n",
       "      <th></th>\n",
       "      <th></th>\n",
       "      <th></th>\n",
       "      <th></th>\n",
       "      <th></th>\n",
       "      <th></th>\n",
       "    </tr>\n",
       "  </thead>\n",
       "  <tbody>\n",
       "    <tr>\n",
       "      <th rowspan=\"5\" valign=\"top\">r1c5va879uaex_r1c639xp952g4</th>\n",
       "      <th>NOR-00-Control</th>\n",
       "      <th>0</th>\n",
       "      <th>C12</th>\n",
       "      <td>2.872624</td>\n",
       "      <td>0.286968</td>\n",
       "      <td>25743</td>\n",
       "      <td>NaN</td>\n",
       "      <td>NaN</td>\n",
       "      <td>NaN</td>\n",
       "    </tr>\n",
       "    <tr>\n",
       "      <th>WT-Live-Control</th>\n",
       "      <th>0</th>\n",
       "      <th>A12</th>\n",
       "      <td>1.584831</td>\n",
       "      <td>0.469159</td>\n",
       "      <td>16591</td>\n",
       "      <td>NaN</td>\n",
       "      <td>NaN</td>\n",
       "      <td>NaN</td>\n",
       "    </tr>\n",
       "    <tr>\n",
       "      <th rowspan=\"2\" valign=\"top\">https://hub.sd2e.org/user/sd2e/design/UWBF_16967/1</th>\n",
       "      <th rowspan=\"2\" valign=\"top\">0</th>\n",
       "      <th>B03</th>\n",
       "      <td>2.054533</td>\n",
       "      <td>0.395890</td>\n",
       "      <td>24715</td>\n",
       "      <td>2.055798</td>\n",
       "      <td>0.395018</td>\n",
       "      <td>21777.0</td>\n",
       "    </tr>\n",
       "    <tr>\n",
       "      <th>D03</th>\n",
       "      <td>1.979912</td>\n",
       "      <td>0.422622</td>\n",
       "      <td>23737</td>\n",
       "      <td>1.980302</td>\n",
       "      <td>0.421670</td>\n",
       "      <td>21954.0</td>\n",
       "    </tr>\n",
       "    <tr>\n",
       "      <th>https://hub.sd2e.org/user/sd2e/design/UWBF_16968/1</th>\n",
       "      <th>0</th>\n",
       "      <th>A10</th>\n",
       "      <td>2.561888</td>\n",
       "      <td>0.327265</td>\n",
       "      <td>25483</td>\n",
       "      <td>2.561358</td>\n",
       "      <td>0.327281</td>\n",
       "      <td>24836.0</td>\n",
       "    </tr>\n",
       "  </tbody>\n",
       "</table>\n",
       "</div>"
      ],
      "text/plain": [
       "                                                                                              mean_log_gfp_gated  \\\n",
       "lab_id                      strain_name                                        plate_id well                       \n",
       "r1c5va879uaex_r1c639xp952g4 NOR-00-Control                                     0        C12             2.872624   \n",
       "                            WT-Live-Control                                    0        A12             1.584831   \n",
       "                            https://hub.sd2e.org/user/sd2e/design/UWBF_16967/1 0        B03             2.054533   \n",
       "                                                                                        D03             1.979912   \n",
       "                            https://hub.sd2e.org/user/sd2e/design/UWBF_16968/1 0        A10             2.561888   \n",
       "\n",
       "                                                                                              std_log_gfp_gated  \\\n",
       "lab_id                      strain_name                                        plate_id well                      \n",
       "r1c5va879uaex_r1c639xp952g4 NOR-00-Control                                     0        C12            0.286968   \n",
       "                            WT-Live-Control                                    0        A12            0.469159   \n",
       "                            https://hub.sd2e.org/user/sd2e/design/UWBF_16967/1 0        B03            0.395890   \n",
       "                                                                                        D03            0.422622   \n",
       "                            https://hub.sd2e.org/user/sd2e/design/UWBF_16968/1 0        A10            0.327265   \n",
       "\n",
       "                                                                                              gated_count  \\\n",
       "lab_id                      strain_name                                        plate_id well                \n",
       "r1c5va879uaex_r1c639xp952g4 NOR-00-Control                                     0        C12         25743   \n",
       "                            WT-Live-Control                                    0        A12         16591   \n",
       "                            https://hub.sd2e.org/user/sd2e/design/UWBF_16967/1 0        B03         24715   \n",
       "                                                                                        D03         23737   \n",
       "                            https://hub.sd2e.org/user/sd2e/design/UWBF_16968/1 0        A10         25483   \n",
       "\n",
       "                                                                                              mean_log_gfp_gated_live  \\\n",
       "lab_id                      strain_name                                        plate_id well                            \n",
       "r1c5va879uaex_r1c639xp952g4 NOR-00-Control                                     0        C12                       NaN   \n",
       "                            WT-Live-Control                                    0        A12                       NaN   \n",
       "                            https://hub.sd2e.org/user/sd2e/design/UWBF_16967/1 0        B03                  2.055798   \n",
       "                                                                                        D03                  1.980302   \n",
       "                            https://hub.sd2e.org/user/sd2e/design/UWBF_16968/1 0        A10                  2.561358   \n",
       "\n",
       "                                                                                              std_log_gfp_gated_live  \\\n",
       "lab_id                      strain_name                                        plate_id well                           \n",
       "r1c5va879uaex_r1c639xp952g4 NOR-00-Control                                     0        C12                      NaN   \n",
       "                            WT-Live-Control                                    0        A12                      NaN   \n",
       "                            https://hub.sd2e.org/user/sd2e/design/UWBF_16967/1 0        B03                 0.395018   \n",
       "                                                                                        D03                 0.421670   \n",
       "                            https://hub.sd2e.org/user/sd2e/design/UWBF_16968/1 0        A10                 0.327281   \n",
       "\n",
       "                                                                                              gated_live_count  \n",
       "lab_id                      strain_name                                        plate_id well                    \n",
       "r1c5va879uaex_r1c639xp952g4 NOR-00-Control                                     0        C12                NaN  \n",
       "                            WT-Live-Control                                    0        A12                NaN  \n",
       "                            https://hub.sd2e.org/user/sd2e/design/UWBF_16967/1 0        B03            21777.0  \n",
       "                                                                                        D03            21954.0  \n",
       "                            https://hub.sd2e.org/user/sd2e/design/UWBF_16968/1 0        A10            24836.0  "
      ]
     },
     "execution_count": 34,
     "metadata": {},
     "output_type": "execute_result"
    }
   ],
   "source": [
    "new_df.head()"
   ]
  },
  {
   "cell_type": "code",
   "execution_count": 33,
   "metadata": {},
   "outputs": [
    {
     "name": "stdout",
     "output_type": "stream",
     "text": [
      "r1c5va879uaex_r1c639xp952g4 already processed.\n",
      "r1c5va9wyf3mx_r1c63bjzu5ruy already processed.\n",
      "r1c5vab4q2yu9_r1c63c2e7z9hj already processed.\n",
      "r1c5vac658fxn_r1c66qw595ydy already processed.\n",
      "r1c5vad8u7ve2_r1c66q7cru28u already processed.\n",
      "r1c5vaeb8vbt9_r1c66mfpj7guh already processed.\n",
      "r1c7cppfr7yp6_r1c7jnv3pkbsj already processed.\n",
      "r1c7cpqp2k6cw_r1c7jn9syrr8s already processed.\n",
      "r1c7cprv7fe49_r1c7jmje3ebhc already processed.\n",
      "r1c7cpt3djxuj_r1c7fex29q6t2 already processed.\n",
      "r1c7cpu9nj2bu_r1c7fg23qkzph already processed.\n",
      "r1c7cpvfzqprk_r1c7fbvba55db already processed.\n",
      "r1c84xvquwxth_r1c8ek7vcmdxh already processed.\n",
      "r1c84xwx57y95_r1c8ejz8jfg9z already processed.\n",
      "r1c84xy5frkf3_r1c8ejr9kezva already processed.\n",
      "r1c84xzc5dbuv_r1c8axrywctwb already processed.\n",
      "r1c84y2j7n7bu_r1c8aw59wfxy8 already processed.\n",
      "r1c84y3r9yqxb_r1c8auwvzbgt3 already processed.\n",
      "r1c8xx6qe9eea_r1c93enbf48t7 already processed.\n",
      "r1c8xx7we38vw_r1c93cukfcxqp already processed.\n",
      "r1c8xx94j94u7_r1c93ajvdzxz5 already processed.\n",
      "r1c8yx25rrtag_r1c96v2w8x5pq already processed.\n",
      "r1c8yydkumrkr_r1c96xsxw79c9 already processed.\n",
      "r1c8yyg9gxbme_r1c96wn43pq45 already processed.\n",
      "r1c9tpk5zrbsk_r1c9wpbvjszxe already processed.\n",
      "r1c9tpmcezpk2_r1c9wjnedp92f already processed.\n",
      "r1cbajphx4ekf_r1cbeec6cxn2t already processed.\n",
      "r1cbajqru7kbe_r1cbe9p9zu6dh already processed.\n",
      "r1cbajrxthe7y_r1cbdzkebbd46 already processed.\n",
      "r1cbuszfskzjt_r1cc6ws9c3dh4 already processed.\n",
      "r1cbut2pdjtwv_r1cc6qzwcd4hx already processed.\n",
      "r1cbut3veu2z4_r1cc6efukqtxx already processed.\n",
      "r1cbut53kpf3n_r1cc3bn2s2aj8 already processed.\n",
      "r1cbut6a79n9t_r1cc34mkuvzeh already processed.\n",
      "r1cbut7g7x6pg_r1cc2xauy7qaa already processed.\n",
      "r1cckyeq9r358_r1ccqgmy5ffcd already processed.\n",
      "r1cckyfwfae4d_r1ccq83ggacxc already processed.\n",
      "r1cckyh56hjqj_r1ccpyjef2vca already processed.\n",
      "r1ccqf9jq2wvd_r1cctubuxvmvs already processed.\n",
      "r1ccqfas8urfk_r1cctk2a3wbk5 already processed.\n",
      "r1ccqfbz332u8_r1cctaf8r32rc already processed.\n",
      "r1cctw6h5fsfg_r1ccx3axsj5ua already processed.\n",
      "r1cctw7qh3777_r1ccwxr4t3wb6 already processed.\n",
      "r1cctw8wvwpbg_r1ccwteetw82v already processed.\n",
      "r1cdcerdbpda2_r1cdfphfehzq2 already processed.\n",
      "r1cdcesknarkf_r1cdfg4x5uuwp already processed.\n",
      "r1cdcetsvxgc2_r1cdfa6jrtssc already processed.\n",
      "r1cdfr36fb76a_r1cdjmabskps3 already processed.\n",
      "r1cdfr4bjcnrg_r1cdnuqex83dm already processed.\n",
      "r1cdfr5gjs72s_r1cdk2gjusax6 already processed.\n",
      "r1cdfsf4ezew3_r1cdjsyza79sr already processed.\n",
      "r1cdhymqfs6b3_r1cdnzf4hbuz2 already processed.\n",
      "r1ce3p3p7j77n_r1ceevbnsqku2 already processed.\n",
      "r1ce3p4vgfu3p_r1ceebve8d6tc already processed.\n",
      "r1ce3p63vnpzq_r1cee5f7knupg already processed.\n",
      "r1ce3phrwnkqt_r1ceb8fj2hj9a already processed.\n",
      "r1ce3pjymvm3u_r1ceb3rgpe8gm already processed.\n",
      "r1ce3pm76spw4_r1ceas4zgsdt5 already processed.\n",
      "r1ce3pndp353t_r1ce7xkybfnqd already processed.\n",
      "r1ce3ppkyswxf_r1ce7qk6h482m already processed.\n",
      "r1ce3pqt45vfe_r1ce7qf5e483u already processed.\n",
      "r1ceuhqmu6c7w_r1cf6snbv99p8 already processed.\n",
      "r1ceuhrtvgyvd_r1cf6kx2a233e already processed.\n",
      "r1ceuhu9enre5_r1cf33y4j6dyg already processed.\n",
      "r1ceuhvgf7b4y_r1cf2yr353x5j already processed.\n",
      "r1cf3p48cauwv_r1cf6hech88mh already processed.\n",
      "r1cfkpp2p3kjz_r1cftpr8wxqc7 already processed.\n",
      "r1cfkpq8n84aj_r1cftg78pbqd7 already processed.\n",
      "r1cfkprehr2fj_r1cft8f7cbsp7 already processed.\n",
      "r1cfkpsmdkgjb_r1cfqbcwrk6vu already processed.\n",
      "r1cfkptta6kuc_r1cfq4k72rwba already processed.\n",
      "r1cfkpuz2kr6c_r1cfpvk5hjkzb already processed.\n",
      "r1cft9f659y9s_r1cfx3nrnc2uw already processed.\n",
      "r1cft9gbs55yn_r1cfwthkscwsk already processed.\n",
      "r1cft9hhnhjdb_r1cfwgjmz247y already processed.\n",
      "r1cgbw3xk7pau_r1cgpa54x8ff3 already processed.\n",
      "r1cgbw55mdzsa_r1cgp2v2jqn9h already processed.\n",
      "r1cgbw6bqmemz_r1cgnt4s2c5ty already processed.\n",
      "r1cgbw7hjvxgx_r1cgjxrexhd4j already processed.\n",
      "r1cgbw8qkp6z4_r1cgjpjx5ve76 already processed.\n",
      "r1cgbw9ww9g9h_r1cgjg8e8xeav already processed.\n",
      "r1ch7zwzznes3_r1cheagmxcqvt already processed.\n",
      "r1cwvvvj2bh6hc_r1cx4pbeyv2q29 already processed.\n",
      "r1cwvvwryt3q49_r1cx4ux3zcdt4w already processed.\n",
      "r1cwvvxz5d7wua_r1cx7ucsnkjfsb already processed.\n",
      "r1cyey8rzxq269_r1cysrdt3pvt5n already processed.\n",
      "r1cyeye2du6ep8_r1cysfjkjjphqj already processed.\n",
      "r1cyeyjwbefaf2_r1cys7qtr6j42x already processed.\n",
      "r1d6r58jnct63g_r1d8kxz5ndkxyh already processed.\n",
      "r1d6r59sste9m2_r1d8gf8cczkrz9\n",
      "Failed to process r1d6r59sste9m2_r1d8gf8cczkrz9 because of error:\n",
      "\t\"['xx_lab_id' 'xx_well'] not found in axis\"\n",
      "r1d6r5b24f9a9z_r1d8cyvjthnvvt already processed.\n",
      "r1d6r8mvznxxme_r1d8jxmssfag5w already processed.\n",
      "r1d6r8p5ddgsut_r1d8fgr2efzrhj already processed.\n",
      "r1d6r8ykf868ep_r1d98fh76wrqp7 already processed.\n",
      "r1d6r8ztq8zfa7_r1d952nn9xk753 already processed.\n",
      "r1d6r932unhafk_r1d93nuytthhp4 already processed.\n",
      "r1d9xx8rjarjuw_r1da5tgwjasvw3\n",
      "Failed to process r1d9xx8rjarjuw_r1da5tgwjasvw3 because of error:\n",
      "\t\"['plan'] not found in axis\"\n",
      "r1dag7xpmgar9k_r1dakfqtk7hpzb\n",
      "Failed to process r1dag7xpmgar9k_r1dakfqtk7hpzb because of error:\n",
      "\t\"['plan'] not found in axis\"\n",
      "Have processed the following additional data sets:\n",
      "\\{\n"
     ]
    }
   ],
   "source": [
    "               \n",
    "print(\"Have processed the following additional data sets:\\n\\{\")\n",
    "for x in sorted(newly_done):\n",
    "    print(f'\"{x}\",')\n",
    "print(\"\\}\")\n",
    "\n",
    "print(\"The following data sets failed to process:\\n\\{\")\n",
    "for x in sorted(failed):\n",
    "    print(f'\"{x}\",')\n",
    "print(\"\\}\")"
   ]
  },
  {
   "cell_type": "code",
   "execution_count": 34,
   "metadata": {},
   "outputs": [],
   "source": [
    "FAILED = [\"r1d6r59sste9m2_r1d8gf8cczkrz9\", \"r1d9xx8rjarjuw_r1da5tgwjasvw3\", \"r1dag7xpmgar9k_r1dakfqtk7hpzb\"]"
   ]
  },
  {
   "cell_type": "code",
   "execution_count": 35,
   "metadata": {},
   "outputs": [
    {
     "data": {
      "text/plain": [
       "['r1d6r59sste9m2_r1d8gf8cczkrz9',\n",
       " 'r1d9xx8rjarjuw_r1da5tgwjasvw3',\n",
       " 'r1dag7xpmgar9k_r1dakfqtk7hpzb']"
      ]
     },
     "execution_count": 35,
     "metadata": {},
     "output_type": "execute_result"
    }
   ],
   "source": [
    "FAILED"
   ]
  },
  {
   "cell_type": "code",
   "execution_count": null,
   "metadata": {},
   "outputs": [],
   "source": []
  }
 ],
 "metadata": {
  "kernelspec": {
   "display_name": "Python 3",
   "language": "python",
   "name": "python3"
  },
  "language_info": {
   "codemirror_mode": {
    "name": "ipython",
    "version": 3
   },
   "file_extension": ".py",
   "mimetype": "text/x-python",
   "name": "python",
   "nbconvert_exporter": "python",
   "pygments_lexer": "ipython3",
   "version": "3.9.12"
  }
 },
 "nbformat": 4,
 "nbformat_minor": 4
}
