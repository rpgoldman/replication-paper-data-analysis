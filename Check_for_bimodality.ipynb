{
 "cells": [
  {
   "cell_type": "code",
   "execution_count": 2,
   "metadata": {},
   "outputs": [],
   "source": [
    "%load_ext autoreload"
   ]
  },
  {
   "cell_type": "code",
   "execution_count": 3,
   "metadata": {},
   "outputs": [],
   "source": [
    "%autoreload 2"
   ]
  },
  {
   "cell_type": "code",
   "execution_count": 1,
   "metadata": {},
   "outputs": [],
   "source": [
    "import data_helpers as dh"
   ]
  },
  {
   "cell_type": "code",
   "execution_count": 2,
   "metadata": {},
   "outputs": [
    {
     "ename": "ModuleNotFoundError",
     "evalue": "No module named 'unidip'",
     "output_type": "error",
     "traceback": [
      "\u001b[0;31m---------------------------------------------------------------------------\u001b[0m",
      "\u001b[0;31mModuleNotFoundError\u001b[0m                       Traceback (most recent call last)",
      "Input \u001b[0;32mIn [2]\u001b[0m, in \u001b[0;36m<cell line: 3>\u001b[0;34m()\u001b[0m\n\u001b[1;32m      1\u001b[0m \u001b[38;5;28;01mimport\u001b[39;00m \u001b[38;5;21;01mlogging\u001b[39;00m\n\u001b[1;32m      2\u001b[0m \u001b[38;5;28;01mimport\u001b[39;00m \u001b[38;5;21;01mpandas\u001b[39;00m \u001b[38;5;28;01mas\u001b[39;00m \u001b[38;5;21;01mpd\u001b[39;00m\n\u001b[0;32m----> 3\u001b[0m \u001b[38;5;28;01mimport\u001b[39;00m \u001b[38;5;21;01munidip\u001b[39;00m\n\u001b[1;32m      4\u001b[0m \u001b[38;5;28;01mimport\u001b[39;00m \u001b[38;5;21;01mnumpy\u001b[39;00m \u001b[38;5;28;01mas\u001b[39;00m \u001b[38;5;21;01mnp\u001b[39;00m\n\u001b[1;32m      5\u001b[0m \u001b[38;5;28;01mimport\u001b[39;00m \u001b[38;5;21;01mmatplotlib\u001b[39;00m\u001b[38;5;21;01m.\u001b[39;00m\u001b[38;5;21;01mpyplot\u001b[39;00m \u001b[38;5;28;01mas\u001b[39;00m \u001b[38;5;21;01mplt\u001b[39;00m\n",
      "\u001b[0;31mModuleNotFoundError\u001b[0m: No module named 'unidip'"
     ]
    }
   ],
   "source": [
    "import logging\n",
    "import pandas as pd\n",
    "import unidip\n",
    "import numpy as np\n",
    "import matplotlib.pyplot as plt"
   ]
  },
  {
   "cell_type": "code",
   "execution_count": 1,
   "metadata": {},
   "outputs": [
    {
     "ename": "NameError",
     "evalue": "name 'pd' is not defined",
     "output_type": "error",
     "traceback": [
      "\u001b[0;31m---------------------------------------------------------------------------\u001b[0m",
      "\u001b[0;31mNameError\u001b[0m                                 Traceback (most recent call last)",
      "Input \u001b[0;32mIn [1]\u001b[0m, in \u001b[0;36m<cell line: 1>\u001b[0;34m()\u001b[0m\n\u001b[0;32m----> 1\u001b[0m df \u001b[38;5;241m=\u001b[39m \u001b[43mpd\u001b[49m\u001b[38;5;241m.\u001b[39mread_csv(\u001b[38;5;124m'\u001b[39m\u001b[38;5;124maccuracy_set.csv\u001b[39m\u001b[38;5;124m'\u001b[39m)\n\u001b[1;32m      2\u001b[0m df\u001b[38;5;241m.\u001b[39mhead()\n",
      "\u001b[0;31mNameError\u001b[0m: name 'pd' is not defined"
     ]
    }
   ],
   "source": [
    "df = pd.read_csv('accuracy_set.csv')\n",
    "df.head()"
   ]
  },
  {
   "cell_type": "code",
   "execution_count": 6,
   "metadata": {},
   "outputs": [
    {
     "data": {
      "text/plain": [
       "Index(['Unnamed: 0', 'count', 'count_live', 'experiment_id', 'filename',\n",
       "       'gate', 'growth_media_1', 'growth_media_2', 'id', 'inc_temp',\n",
       "       'inc_time_1', 'inc_time_2', 'index', 'input', 'lab', 'lab_id',\n",
       "       'mean_correct_classifier', 'mean_correct_classifier_live',\n",
       "       'mean_correct_high_classifier', 'mean_correct_high_classifier_live',\n",
       "       'mean_correct_high_threshold', 'mean_correct_high_threshold_live',\n",
       "       'mean_correct_low_classifier', 'mean_correct_low_classifier_live',\n",
       "       'mean_correct_low_threshold', 'mean_correct_low_threshold_live',\n",
       "       'mean_correct_threshold', 'mean_correct_threshold_live', 'mean_log_gfp',\n",
       "       'mean_log_gfp_live', 'media', 'od', 'od_cutoff', 'output', 'plan',\n",
       "       'plate_id', 'replicate', 'source_container', 'std_correct_classifier',\n",
       "       'std_correct_classifier_live', 'std_correct_high_classifier',\n",
       "       'std_correct_high_classifier_live', 'std_correct_high_threshold',\n",
       "       'std_correct_high_threshold_live', 'std_correct_low_classifier',\n",
       "       'std_correct_low_classifier_live', 'std_correct_low_threshold',\n",
       "       'std_correct_low_threshold_live', 'std_correct_threshold',\n",
       "       'std_correct_threshold_live', 'std_log_gfp', 'std_log_gfp_live',\n",
       "       'strain_name', 'threshold', 'threshold_live', 'well'],\n",
       "      dtype='object')"
      ]
     },
     "execution_count": 6,
     "metadata": {},
     "output_type": "execute_result"
    }
   ],
   "source": [
    "df.columns"
   ]
  },
  {
   "cell_type": "code",
   "execution_count": 7,
   "metadata": {},
   "outputs": [
    {
     "data": {
      "text/plain": [
       "array(['https://hub.sd2e.org/user/sd2e/design/UWBF_6391/1',\n",
       "       'https://hub.sd2e.org/user/sd2e/design/UWBF_8543/1',\n",
       "       'https://hub.sd2e.org/user/sd2e/design/UWBF_8544/1',\n",
       "       'https://hub.sd2e.org/user/sd2e/design/UWBF_6390/1',\n",
       "       'https://hub.sd2e.org/user/sd2e/design/UWBF_8545/1',\n",
       "       'https://hub.sd2e.org/user/sd2e/design/UWBF_16968/1',\n",
       "       'https://hub.sd2e.org/user/sd2e/design/UWBF_6389/1',\n",
       "       'https://hub.sd2e.org/user/sd2e/design/UWBF_16969/1',\n",
       "       'https://hub.sd2e.org/user/sd2e/design/UWBF_16970/1',\n",
       "       'https://hub.sd2e.org/user/sd2e/design/UWBF_6388/1',\n",
       "       'https://hub.sd2e.org/user/sd2e/design/UWBF_8542/1',\n",
       "       'https://hub.sd2e.org/user/sd2e/design/UWBF_7375/1',\n",
       "       'https://hub.sd2e.org/user/sd2e/design/UWBF_16967/1',\n",
       "       'https://hub.sd2e.org/user/sd2e/design/UWBF_7376/1',\n",
       "       'https://hub.sd2e.org/user/sd2e/design/UWBF_7373/1',\n",
       "       'https://hub.sd2e.org/user/sd2e/design/UWBF_7374/1',\n",
       "       'https://hub.sd2e.org/user/sd2e/design/UWBF_5992/1',\n",
       "       'https://hub.sd2e.org/user/sd2e/design/UWBF_5783/1',\n",
       "       'https://hub.sd2e.org/user/sd2e/design/UWBF_7377/1',\n",
       "       'https://hub.sd2e.org/user/sd2e/design/UWBF_7299/1',\n",
       "       'https://hub.sd2e.org/user/sd2e/design/UWBF_7300/1',\n",
       "       'https://hub.sd2e.org/user/sd2e/design/UWBF_8231/1',\n",
       "       'https://hub.sd2e.org/user/sd2e/design/UWBF_8225/1',\n",
       "       'https://hub.sd2e.org/user/sd2e/design/UWBF_5993/1',\n",
       "       'WT-Live-Control', 'WT-Dead-Control', 'NOR-00-Control'],\n",
       "      dtype=object)"
      ]
     },
     "execution_count": 7,
     "metadata": {},
     "output_type": "execute_result"
    }
   ],
   "source": [
    "df['strain_name'].unique()"
   ]
  },
  {
   "cell_type": "code",
   "execution_count": 8,
   "metadata": {},
   "outputs": [
    {
     "data": {
      "text/plain": [
       "['r1c7cpt3djxuj_r1c7fex29q6t2.csv',\n",
       " 'r1c84xwx57y95_r1c8ejz8jfg9z.csv',\n",
       " 'r1cft9hhnhjdb_r1cfwgjmz247y.csv',\n",
       " 'r1cyeyjwbefaf2_r1cys7qtr6j42x.csv',\n",
       " 'r1c84y2j7n7bu_r1c8aw59wfxy8.csv',\n",
       " 'r1c7cpvfzqprk_r1c7fbvba55db.csv',\n",
       " 'r1c8yyg9gxbme_r1c96wn43pq45.csv',\n",
       " 'r1ce3pjymvm3u_r1ceb3rgpe8gm.csv',\n",
       " 'r1ce3pqt45vfe_r1ce7qf5e483u.csv',\n",
       " 'r1cwvvxz5d7wua_r1cx7ucsnkjfsb.csv',\n",
       " 'r1c84y3r9yqxb_r1c8auwvzbgt3.csv',\n",
       " 'r1c8yydkumrkr_r1c96xsxw79c9.csv',\n",
       " 'r1cckyh56hjqj_r1ccpyjef2vca.csv',\n",
       " 'r1c8xx7we38vw_r1c93cukfcxqp.csv',\n",
       " 'r1cbut53kpf3n_r1cc3bn2s2aj8.csv',\n",
       " 'r1cdcesknarkf_r1cdfg4x5uuwp.csv',\n",
       " 'r1cdhymqfs6b3_r1cdnzf4hbuz2.csv',\n",
       " 'r1c7cprv7fe49_r1c7jmje3ebhc.csv',\n",
       " 'r1ccqf9jq2wvd_r1cctubuxvmvs.csv',\n",
       " 'r1cbut3veu2z4_r1cc6efukqtxx.csv',\n",
       " 'r1cfkpuz2kr6c_r1cfpvk5hjkzb.csv',\n",
       " 'r1dag7xpmgar9k_r1dakfqtk7hpzb.csv',\n",
       " 'r1c5vad8u7ve2_r1c66q7cru28u.csv',\n",
       " 'r1cyey8rzxq269_r1cysrdt3pvt5n.csv',\n",
       " 'r1ccqfbz332u8_r1cctaf8r32rc.csv',\n",
       " 'r1c8yx25rrtag_r1c96v2w8x5pq.csv',\n",
       " 'r1cctw7qh3777_r1ccwxr4t3wb6.csv',\n",
       " 'r1cckyfwfae4d_r1ccq83ggacxc.csv',\n",
       " 'r1ce3p3p7j77n_r1ceevbnsqku2.csv',\n",
       " 'r1ceuhrtvgyvd_r1cf6kx2a233e.csv',\n",
       " 'r1cgbw6bqmemz_r1cgnt4s2c5ty.csv',\n",
       " 'r1c5vaeb8vbt9_r1c66mfpj7guh.csv',\n",
       " 'r1ceuhu9enre5_r1cf33y4j6dyg.csv',\n",
       " 'r1c84xy5frkf3_r1c8ejr9kezva.csv',\n",
       " 'r1cdfr5gjs72s_r1cdk2gjusax6.csv',\n",
       " 'r1cgbw9ww9g9h_r1cgjg8e8xeav.csv',\n",
       " 'r1c5vac658fxn_r1c66qw595ydy.csv',\n",
       " 'r1c8xx94j94u7_r1c93ajvdzxz5.csv',\n",
       " 'r1c7cppfr7yp6_r1c7jnv3pkbsj.csv',\n",
       " 'r1c5vab4q2yu9_r1c63c2e7z9hj.csv',\n",
       " 'r1ce3phrwnkqt_r1ceb8fj2hj9a.csv',\n",
       " 'r1c8xx6qe9eea_r1c93enbf48t7.csv',\n",
       " 'r1cbut6a79n9t_r1cc34mkuvzeh.csv',\n",
       " 'r1cfkprehr2fj_r1cft8f7cbsp7.csv',\n",
       " 'r1d9xx8rjarjuw_r1da5tgwjasvw3.csv',\n",
       " 'r1d6r932unhafk_r1d93nuytthhp4.csv',\n",
       " 'r1cbajqru7kbe_r1cbe9p9zu6dh.csv',\n",
       " 'r1cbajrxthe7y_r1cbdzkebbd46.csv',\n",
       " 'r1c84xvquwxth_r1c8ek7vcmdxh.csv',\n",
       " 'r1cyeye2du6ep8_r1cysfjkjjphqj.csv',\n",
       " 'r1c9tpk5zrbsk_r1c9wpbvjszxe.csv',\n",
       " 'r1cctw8wvwpbg_r1ccwteetw82v.csv',\n",
       " 'r1ccqfas8urfk_r1cctk2a3wbk5.csv',\n",
       " 'r1cbajphx4ekf_r1cbeec6cxn2t.csv',\n",
       " 'r1ce3pndp353t_r1ce7xkybfnqd.csv',\n",
       " 'r1cctw6h5fsfg_r1ccx3axsj5ua.csv',\n",
       " 'r1d6r5b24f9a9z_r1d8cyvjthnvvt.csv',\n",
       " 'r1cf3p48cauwv_r1cf6hech88mh.csv',\n",
       " 'r1cdcerdbpda2_r1cdfphfehzq2.csv',\n",
       " 'r1c84xzc5dbuv_r1c8axrywctwb.csv',\n",
       " 'r1c5va879uaex_r1c639xp952g4.csv',\n",
       " 'r1cbuszfskzjt_r1cc6ws9c3dh4.csv',\n",
       " 'r1ceuhqmu6c7w_r1cf6snbv99p8.csv']"
      ]
     },
     "execution_count": 8,
     "metadata": {},
     "output_type": "execute_result"
    }
   ],
   "source": [
    "dh.files_with_strain('https://hub.sd2e.org/user/sd2e/design/UWBF_6388/1')"
   ]
  },
  {
   "cell_type": "code",
   "execution_count": 9,
   "metadata": {},
   "outputs": [
    {
     "data": {
      "text/html": [
       "<div>\n",
       "<style scoped>\n",
       "    .dataframe tbody tr th:only-of-type {\n",
       "        vertical-align: middle;\n",
       "    }\n",
       "\n",
       "    .dataframe tbody tr th {\n",
       "        vertical-align: top;\n",
       "    }\n",
       "\n",
       "    .dataframe thead th {\n",
       "        text-align: right;\n",
       "    }\n",
       "</style>\n",
       "<table border=\"1\" class=\"dataframe\">\n",
       "  <thead>\n",
       "    <tr style=\"text-align: right;\">\n",
       "      <th></th>\n",
       "      <th>gate</th>\n",
       "      <th>input</th>\n",
       "    </tr>\n",
       "  </thead>\n",
       "  <tbody>\n",
       "    <tr>\n",
       "      <th>19</th>\n",
       "      <td>NOR</td>\n",
       "      <td>1.0</td>\n",
       "    </tr>\n",
       "  </tbody>\n",
       "</table>\n",
       "</div>"
      ],
      "text/plain": [
       "   gate  input\n",
       "19  NOR    1.0"
      ]
     },
     "execution_count": 9,
     "metadata": {},
     "output_type": "execute_result"
    }
   ],
   "source": [
    "df.query(\"strain_name == 'https://hub.sd2e.org/user/sd2e/design/UWBF_6388/1'\")[['gate', 'input']].head(1)"
   ]
  },
  {
   "cell_type": "code",
   "execution_count": 10,
   "metadata": {},
   "outputs": [
    {
     "data": {
      "text/plain": [
       "75    https://hub.sd2e.org/user/sd2e/design/UWBF_7374/1\n",
       "Name: strain_name, dtype: object"
      ]
     },
     "execution_count": 10,
     "metadata": {},
     "output_type": "execute_result"
    }
   ],
   "source": [
    "df.query('gate == \"AND\" and input == 11')['strain_name'].head(1)"
   ]
  },
  {
   "cell_type": "code",
   "execution_count": 11,
   "metadata": {},
   "outputs": [
    {
     "name": "stderr",
     "output_type": "stream",
     "text": [
      "/work/05204/rpg/jupyter_packages/envs/dask/lib/python3.8/site-packages/IPython/core/interactiveshell.py:3338: DtypeWarning: Columns (13) have mixed types.Specify dtype option on import or set low_memory=False.\n",
      "  if (await self.run_code(code, result,  async_=asy)):\n",
      "/work/05204/rpg/jupyter_packages/envs/dask/lib/python3.8/site-packages/numpy/lib/arraysetops.py:580: FutureWarning: elementwise comparison failed; returning scalar instead, but in the future will perform elementwise comparison\n",
      "  mask |= (ar1 == a)\n"
     ]
    }
   ],
   "source": [
    "# and_11 = dh.all_of_strain(\"https://hub.sd2e.org/user/sd2e/design/UWBF_7374/1\", \n",
    "#                           dh.files_with_strain('https://hub.sd2e.org/user/sd2e/design/UWBF_7374/1'))\n",
    "\n",
    "# and_11.to_csv('and_11_all.csv')"
   ]
  },
  {
   "cell_type": "code",
   "execution_count": null,
   "metadata": {},
   "outputs": [],
   "source": [
    "and_11 = pd.read_csv('and_11_all.csv')"
   ]
  },
  {
   "cell_type": "code",
   "execution_count": 12,
   "metadata": {},
   "outputs": [
    {
     "data": {
      "text/plain": [
       "array(['warm_37', 'warm_30'], dtype=object)"
      ]
     },
     "execution_count": 12,
     "metadata": {},
     "output_type": "execute_result"
    }
   ],
   "source": [
    "and_11['inc_temp'].unique()"
   ]
  },
  {
   "cell_type": "code",
   "execution_count": 13,
   "metadata": {},
   "outputs": [],
   "source": [
    "and_11.loc[:, 'inc_temp_degrees'] = np.vectorize(lambda x: int(x.split(\"_\")[1]))(and_11['inc_temp'])"
   ]
  },
  {
   "cell_type": "code",
   "execution_count": 14,
   "metadata": {},
   "outputs": [],
   "source": [
    "and_11 = dh.canonical_data_frame(and_11)"
   ]
  },
  {
   "cell_type": "code",
   "execution_count": 15,
   "metadata": {},
   "outputs": [
    {
     "data": {
      "text/html": [
       "<div>\n",
       "<style scoped>\n",
       "    .dataframe tbody tr th:only-of-type {\n",
       "        vertical-align: middle;\n",
       "    }\n",
       "\n",
       "    .dataframe tbody tr th {\n",
       "        vertical-align: top;\n",
       "    }\n",
       "\n",
       "    .dataframe thead th {\n",
       "        text-align: right;\n",
       "    }\n",
       "</style>\n",
       "<table border=\"1\" class=\"dataframe\">\n",
       "  <thead>\n",
       "    <tr style=\"text-align: right;\">\n",
       "      <th></th>\n",
       "      <th></th>\n",
       "      <th></th>\n",
       "      <th></th>\n",
       "      <th></th>\n",
       "      <th></th>\n",
       "      <th></th>\n",
       "      <th></th>\n",
       "      <th></th>\n",
       "      <th>inc_temp</th>\n",
       "      <th>inc_time_1</th>\n",
       "      <th>inc_time_2</th>\n",
       "      <th>growth_media_1</th>\n",
       "      <th>growth_media_2</th>\n",
       "      <th>od_cutoff</th>\n",
       "      <th>source_container</th>\n",
       "      <th>id</th>\n",
       "      <th>gate</th>\n",
       "      <th>input</th>\n",
       "      <th>...</th>\n",
       "      <th>RL1_H</th>\n",
       "      <th>FSC_W</th>\n",
       "      <th>SSC_W</th>\n",
       "      <th>BL1_W</th>\n",
       "      <th>RL1_W</th>\n",
       "      <th>index</th>\n",
       "      <th>live_no_stain</th>\n",
       "      <th>live</th>\n",
       "      <th>experiment_id</th>\n",
       "      <th>inc_time_1_hrs</th>\n",
       "    </tr>\n",
       "    <tr>\n",
       "      <th>strain_name</th>\n",
       "      <th>inc_temp_degrees</th>\n",
       "      <th>inc_time_2_hrs</th>\n",
       "      <th>od</th>\n",
       "      <th>lab_id</th>\n",
       "      <th>plate_id</th>\n",
       "      <th>well</th>\n",
       "      <th>replicate</th>\n",
       "      <th>event</th>\n",
       "      <th></th>\n",
       "      <th></th>\n",
       "      <th></th>\n",
       "      <th></th>\n",
       "      <th></th>\n",
       "      <th></th>\n",
       "      <th></th>\n",
       "      <th></th>\n",
       "      <th></th>\n",
       "      <th></th>\n",
       "      <th></th>\n",
       "      <th></th>\n",
       "      <th></th>\n",
       "      <th></th>\n",
       "      <th></th>\n",
       "      <th></th>\n",
       "      <th></th>\n",
       "      <th></th>\n",
       "      <th></th>\n",
       "      <th></th>\n",
       "      <th></th>\n",
       "    </tr>\n",
       "  </thead>\n",
       "  <tbody>\n",
       "    <tr>\n",
       "      <th rowspan=\"5\" valign=\"top\">https://hub.sd2e.org/user/sd2e/design/UWBF_7374/1</th>\n",
       "      <th rowspan=\"5\" valign=\"top\">37</th>\n",
       "      <th rowspan=\"5\" valign=\"top\">18</th>\n",
       "      <th rowspan=\"5\" valign=\"top\">0.00015</th>\n",
       "      <th rowspan=\"5\" valign=\"top\">r1ce3pm76spw4_r1ceas4zgsdt5</th>\n",
       "      <th rowspan=\"5\" valign=\"top\">2</th>\n",
       "      <th rowspan=\"5\" valign=\"top\">G1</th>\n",
       "      <th rowspan=\"5\" valign=\"top\">155</th>\n",
       "      <th>0</th>\n",
       "      <td>warm_37</td>\n",
       "      <td>18:hour</td>\n",
       "      <td>18:hour</td>\n",
       "      <td>high_osm_media_five_percent</td>\n",
       "      <td>high_osm_media_five_percent</td>\n",
       "      <td>0.1</td>\n",
       "      <td>ct1bvwmbj3e6uh</td>\n",
       "      <td>2019_01_28_15_59_47_2_G1</td>\n",
       "      <td>AND</td>\n",
       "      <td>11.0</td>\n",
       "      <td>...</td>\n",
       "      <td>15640.0</td>\n",
       "      <td>1023.0</td>\n",
       "      <td>1023.0</td>\n",
       "      <td>0.0</td>\n",
       "      <td>19.0</td>\n",
       "      <td>180000</td>\n",
       "      <td>0.0</td>\n",
       "      <td>0.0</td>\n",
       "      <td>NaN</td>\n",
       "      <td>18</td>\n",
       "    </tr>\n",
       "    <tr>\n",
       "      <th>1</th>\n",
       "      <td>warm_37</td>\n",
       "      <td>18:hour</td>\n",
       "      <td>18:hour</td>\n",
       "      <td>high_osm_media_five_percent</td>\n",
       "      <td>high_osm_media_five_percent</td>\n",
       "      <td>0.1</td>\n",
       "      <td>ct1bvwmbj3e6uh</td>\n",
       "      <td>2019_01_28_15_59_47_2_G1</td>\n",
       "      <td>AND</td>\n",
       "      <td>11.0</td>\n",
       "      <td>...</td>\n",
       "      <td>413.0</td>\n",
       "      <td>82.0</td>\n",
       "      <td>213.0</td>\n",
       "      <td>0.0</td>\n",
       "      <td>0.0</td>\n",
       "      <td>180001</td>\n",
       "      <td>1.0</td>\n",
       "      <td>1.0</td>\n",
       "      <td>NaN</td>\n",
       "      <td>18</td>\n",
       "    </tr>\n",
       "    <tr>\n",
       "      <th>2</th>\n",
       "      <td>warm_37</td>\n",
       "      <td>18:hour</td>\n",
       "      <td>18:hour</td>\n",
       "      <td>high_osm_media_five_percent</td>\n",
       "      <td>high_osm_media_five_percent</td>\n",
       "      <td>0.1</td>\n",
       "      <td>ct1bvwmbj3e6uh</td>\n",
       "      <td>2019_01_28_15_59_47_2_G1</td>\n",
       "      <td>AND</td>\n",
       "      <td>11.0</td>\n",
       "      <td>...</td>\n",
       "      <td>95.0</td>\n",
       "      <td>49.0</td>\n",
       "      <td>76.0</td>\n",
       "      <td>0.0</td>\n",
       "      <td>0.0</td>\n",
       "      <td>180002</td>\n",
       "      <td>1.0</td>\n",
       "      <td>1.0</td>\n",
       "      <td>NaN</td>\n",
       "      <td>18</td>\n",
       "    </tr>\n",
       "    <tr>\n",
       "      <th>3</th>\n",
       "      <td>warm_37</td>\n",
       "      <td>18:hour</td>\n",
       "      <td>18:hour</td>\n",
       "      <td>high_osm_media_five_percent</td>\n",
       "      <td>high_osm_media_five_percent</td>\n",
       "      <td>0.1</td>\n",
       "      <td>ct1bvwmbj3e6uh</td>\n",
       "      <td>2019_01_28_15_59_47_2_G1</td>\n",
       "      <td>AND</td>\n",
       "      <td>11.0</td>\n",
       "      <td>...</td>\n",
       "      <td>233.0</td>\n",
       "      <td>117.0</td>\n",
       "      <td>238.0</td>\n",
       "      <td>0.0</td>\n",
       "      <td>0.0</td>\n",
       "      <td>180003</td>\n",
       "      <td>1.0</td>\n",
       "      <td>1.0</td>\n",
       "      <td>NaN</td>\n",
       "      <td>18</td>\n",
       "    </tr>\n",
       "    <tr>\n",
       "      <th>4</th>\n",
       "      <td>warm_37</td>\n",
       "      <td>18:hour</td>\n",
       "      <td>18:hour</td>\n",
       "      <td>high_osm_media_five_percent</td>\n",
       "      <td>high_osm_media_five_percent</td>\n",
       "      <td>0.1</td>\n",
       "      <td>ct1bvwmbj3e6uh</td>\n",
       "      <td>2019_01_28_15_59_47_2_G1</td>\n",
       "      <td>AND</td>\n",
       "      <td>11.0</td>\n",
       "      <td>...</td>\n",
       "      <td>114.0</td>\n",
       "      <td>49.0</td>\n",
       "      <td>72.0</td>\n",
       "      <td>0.0</td>\n",
       "      <td>0.0</td>\n",
       "      <td>180004</td>\n",
       "      <td>1.0</td>\n",
       "      <td>1.0</td>\n",
       "      <td>NaN</td>\n",
       "      <td>18</td>\n",
       "    </tr>\n",
       "  </tbody>\n",
       "</table>\n",
       "<p>5 rows × 31 columns</p>\n",
       "</div>"
      ],
      "text/plain": [
       "                                                                                                                                                    inc_temp  \\\n",
       "strain_name                                       inc_temp_degrees inc_time_2_hrs od      lab_id                      plate_id well replicate event            \n",
       "https://hub.sd2e.org/user/sd2e/design/UWBF_7374/1 37               18             0.00015 r1ce3pm76spw4_r1ceas4zgsdt5 2        G1   155       0      warm_37   \n",
       "                                                                                                                                              1      warm_37   \n",
       "                                                                                                                                              2      warm_37   \n",
       "                                                                                                                                              3      warm_37   \n",
       "                                                                                                                                              4      warm_37   \n",
       "\n",
       "                                                                                                                                                    inc_time_1  \\\n",
       "strain_name                                       inc_temp_degrees inc_time_2_hrs od      lab_id                      plate_id well replicate event              \n",
       "https://hub.sd2e.org/user/sd2e/design/UWBF_7374/1 37               18             0.00015 r1ce3pm76spw4_r1ceas4zgsdt5 2        G1   155       0        18:hour   \n",
       "                                                                                                                                              1        18:hour   \n",
       "                                                                                                                                              2        18:hour   \n",
       "                                                                                                                                              3        18:hour   \n",
       "                                                                                                                                              4        18:hour   \n",
       "\n",
       "                                                                                                                                                    inc_time_2  \\\n",
       "strain_name                                       inc_temp_degrees inc_time_2_hrs od      lab_id                      plate_id well replicate event              \n",
       "https://hub.sd2e.org/user/sd2e/design/UWBF_7374/1 37               18             0.00015 r1ce3pm76spw4_r1ceas4zgsdt5 2        G1   155       0        18:hour   \n",
       "                                                                                                                                              1        18:hour   \n",
       "                                                                                                                                              2        18:hour   \n",
       "                                                                                                                                              3        18:hour   \n",
       "                                                                                                                                              4        18:hour   \n",
       "\n",
       "                                                                                                                                                                  growth_media_1  \\\n",
       "strain_name                                       inc_temp_degrees inc_time_2_hrs od      lab_id                      plate_id well replicate event                                \n",
       "https://hub.sd2e.org/user/sd2e/design/UWBF_7374/1 37               18             0.00015 r1ce3pm76spw4_r1ceas4zgsdt5 2        G1   155       0      high_osm_media_five_percent   \n",
       "                                                                                                                                              1      high_osm_media_five_percent   \n",
       "                                                                                                                                              2      high_osm_media_five_percent   \n",
       "                                                                                                                                              3      high_osm_media_five_percent   \n",
       "                                                                                                                                              4      high_osm_media_five_percent   \n",
       "\n",
       "                                                                                                                                                                  growth_media_2  \\\n",
       "strain_name                                       inc_temp_degrees inc_time_2_hrs od      lab_id                      plate_id well replicate event                                \n",
       "https://hub.sd2e.org/user/sd2e/design/UWBF_7374/1 37               18             0.00015 r1ce3pm76spw4_r1ceas4zgsdt5 2        G1   155       0      high_osm_media_five_percent   \n",
       "                                                                                                                                              1      high_osm_media_five_percent   \n",
       "                                                                                                                                              2      high_osm_media_five_percent   \n",
       "                                                                                                                                              3      high_osm_media_five_percent   \n",
       "                                                                                                                                              4      high_osm_media_five_percent   \n",
       "\n",
       "                                                                                                                                                     od_cutoff  \\\n",
       "strain_name                                       inc_temp_degrees inc_time_2_hrs od      lab_id                      plate_id well replicate event              \n",
       "https://hub.sd2e.org/user/sd2e/design/UWBF_7374/1 37               18             0.00015 r1ce3pm76spw4_r1ceas4zgsdt5 2        G1   155       0            0.1   \n",
       "                                                                                                                                              1            0.1   \n",
       "                                                                                                                                              2            0.1   \n",
       "                                                                                                                                              3            0.1   \n",
       "                                                                                                                                              4            0.1   \n",
       "\n",
       "                                                                                                                                                    source_container  \\\n",
       "strain_name                                       inc_temp_degrees inc_time_2_hrs od      lab_id                      plate_id well replicate event                    \n",
       "https://hub.sd2e.org/user/sd2e/design/UWBF_7374/1 37               18             0.00015 r1ce3pm76spw4_r1ceas4zgsdt5 2        G1   155       0       ct1bvwmbj3e6uh   \n",
       "                                                                                                                                              1       ct1bvwmbj3e6uh   \n",
       "                                                                                                                                              2       ct1bvwmbj3e6uh   \n",
       "                                                                                                                                              3       ct1bvwmbj3e6uh   \n",
       "                                                                                                                                              4       ct1bvwmbj3e6uh   \n",
       "\n",
       "                                                                                                                                                                           id  \\\n",
       "strain_name                                       inc_temp_degrees inc_time_2_hrs od      lab_id                      plate_id well replicate event                             \n",
       "https://hub.sd2e.org/user/sd2e/design/UWBF_7374/1 37               18             0.00015 r1ce3pm76spw4_r1ceas4zgsdt5 2        G1   155       0      2019_01_28_15_59_47_2_G1   \n",
       "                                                                                                                                              1      2019_01_28_15_59_47_2_G1   \n",
       "                                                                                                                                              2      2019_01_28_15_59_47_2_G1   \n",
       "                                                                                                                                              3      2019_01_28_15_59_47_2_G1   \n",
       "                                                                                                                                              4      2019_01_28_15_59_47_2_G1   \n",
       "\n",
       "                                                                                                                                                    gate  \\\n",
       "strain_name                                       inc_temp_degrees inc_time_2_hrs od      lab_id                      plate_id well replicate event        \n",
       "https://hub.sd2e.org/user/sd2e/design/UWBF_7374/1 37               18             0.00015 r1ce3pm76spw4_r1ceas4zgsdt5 2        G1   155       0      AND   \n",
       "                                                                                                                                              1      AND   \n",
       "                                                                                                                                              2      AND   \n",
       "                                                                                                                                              3      AND   \n",
       "                                                                                                                                              4      AND   \n",
       "\n",
       "                                                                                                                                                     input  \\\n",
       "strain_name                                       inc_temp_degrees inc_time_2_hrs od      lab_id                      plate_id well replicate event          \n",
       "https://hub.sd2e.org/user/sd2e/design/UWBF_7374/1 37               18             0.00015 r1ce3pm76spw4_r1ceas4zgsdt5 2        G1   155       0       11.0   \n",
       "                                                                                                                                              1       11.0   \n",
       "                                                                                                                                              2       11.0   \n",
       "                                                                                                                                              3       11.0   \n",
       "                                                                                                                                              4       11.0   \n",
       "\n",
       "                                                                                                                                                     ...  \\\n",
       "strain_name                                       inc_temp_degrees inc_time_2_hrs od      lab_id                      plate_id well replicate event  ...   \n",
       "https://hub.sd2e.org/user/sd2e/design/UWBF_7374/1 37               18             0.00015 r1ce3pm76spw4_r1ceas4zgsdt5 2        G1   155       0      ...   \n",
       "                                                                                                                                              1      ...   \n",
       "                                                                                                                                              2      ...   \n",
       "                                                                                                                                              3      ...   \n",
       "                                                                                                                                              4      ...   \n",
       "\n",
       "                                                                                                                                                       RL1_H  \\\n",
       "strain_name                                       inc_temp_degrees inc_time_2_hrs od      lab_id                      plate_id well replicate event            \n",
       "https://hub.sd2e.org/user/sd2e/design/UWBF_7374/1 37               18             0.00015 r1ce3pm76spw4_r1ceas4zgsdt5 2        G1   155       0      15640.0   \n",
       "                                                                                                                                              1        413.0   \n",
       "                                                                                                                                              2         95.0   \n",
       "                                                                                                                                              3        233.0   \n",
       "                                                                                                                                              4        114.0   \n",
       "\n",
       "                                                                                                                                                      FSC_W  \\\n",
       "strain_name                                       inc_temp_degrees inc_time_2_hrs od      lab_id                      plate_id well replicate event           \n",
       "https://hub.sd2e.org/user/sd2e/design/UWBF_7374/1 37               18             0.00015 r1ce3pm76spw4_r1ceas4zgsdt5 2        G1   155       0      1023.0   \n",
       "                                                                                                                                              1        82.0   \n",
       "                                                                                                                                              2        49.0   \n",
       "                                                                                                                                              3       117.0   \n",
       "                                                                                                                                              4        49.0   \n",
       "\n",
       "                                                                                                                                                      SSC_W  \\\n",
       "strain_name                                       inc_temp_degrees inc_time_2_hrs od      lab_id                      plate_id well replicate event           \n",
       "https://hub.sd2e.org/user/sd2e/design/UWBF_7374/1 37               18             0.00015 r1ce3pm76spw4_r1ceas4zgsdt5 2        G1   155       0      1023.0   \n",
       "                                                                                                                                              1       213.0   \n",
       "                                                                                                                                              2        76.0   \n",
       "                                                                                                                                              3       238.0   \n",
       "                                                                                                                                              4        72.0   \n",
       "\n",
       "                                                                                                                                                     BL1_W  \\\n",
       "strain_name                                       inc_temp_degrees inc_time_2_hrs od      lab_id                      plate_id well replicate event          \n",
       "https://hub.sd2e.org/user/sd2e/design/UWBF_7374/1 37               18             0.00015 r1ce3pm76spw4_r1ceas4zgsdt5 2        G1   155       0        0.0   \n",
       "                                                                                                                                              1        0.0   \n",
       "                                                                                                                                              2        0.0   \n",
       "                                                                                                                                              3        0.0   \n",
       "                                                                                                                                              4        0.0   \n",
       "\n",
       "                                                                                                                                                     RL1_W  \\\n",
       "strain_name                                       inc_temp_degrees inc_time_2_hrs od      lab_id                      plate_id well replicate event          \n",
       "https://hub.sd2e.org/user/sd2e/design/UWBF_7374/1 37               18             0.00015 r1ce3pm76spw4_r1ceas4zgsdt5 2        G1   155       0       19.0   \n",
       "                                                                                                                                              1        0.0   \n",
       "                                                                                                                                              2        0.0   \n",
       "                                                                                                                                              3        0.0   \n",
       "                                                                                                                                              4        0.0   \n",
       "\n",
       "                                                                                                                                                      index  \\\n",
       "strain_name                                       inc_temp_degrees inc_time_2_hrs od      lab_id                      plate_id well replicate event           \n",
       "https://hub.sd2e.org/user/sd2e/design/UWBF_7374/1 37               18             0.00015 r1ce3pm76spw4_r1ceas4zgsdt5 2        G1   155       0      180000   \n",
       "                                                                                                                                              1      180001   \n",
       "                                                                                                                                              2      180002   \n",
       "                                                                                                                                              3      180003   \n",
       "                                                                                                                                              4      180004   \n",
       "\n",
       "                                                                                                                                                     live_no_stain  \\\n",
       "strain_name                                       inc_temp_degrees inc_time_2_hrs od      lab_id                      plate_id well replicate event                  \n",
       "https://hub.sd2e.org/user/sd2e/design/UWBF_7374/1 37               18             0.00015 r1ce3pm76spw4_r1ceas4zgsdt5 2        G1   155       0                0.0   \n",
       "                                                                                                                                              1                1.0   \n",
       "                                                                                                                                              2                1.0   \n",
       "                                                                                                                                              3                1.0   \n",
       "                                                                                                                                              4                1.0   \n",
       "\n",
       "                                                                                                                                                     live  \\\n",
       "strain_name                                       inc_temp_degrees inc_time_2_hrs od      lab_id                      plate_id well replicate event         \n",
       "https://hub.sd2e.org/user/sd2e/design/UWBF_7374/1 37               18             0.00015 r1ce3pm76spw4_r1ceas4zgsdt5 2        G1   155       0       0.0   \n",
       "                                                                                                                                              1       1.0   \n",
       "                                                                                                                                              2       1.0   \n",
       "                                                                                                                                              3       1.0   \n",
       "                                                                                                                                              4       1.0   \n",
       "\n",
       "                                                                                                                                                     experiment_id  \\\n",
       "strain_name                                       inc_temp_degrees inc_time_2_hrs od      lab_id                      plate_id well replicate event                  \n",
       "https://hub.sd2e.org/user/sd2e/design/UWBF_7374/1 37               18             0.00015 r1ce3pm76spw4_r1ceas4zgsdt5 2        G1   155       0                NaN   \n",
       "                                                                                                                                              1                NaN   \n",
       "                                                                                                                                              2                NaN   \n",
       "                                                                                                                                              3                NaN   \n",
       "                                                                                                                                              4                NaN   \n",
       "\n",
       "                                                                                                                                                     inc_time_1_hrs  \n",
       "strain_name                                       inc_temp_degrees inc_time_2_hrs od      lab_id                      plate_id well replicate event                  \n",
       "https://hub.sd2e.org/user/sd2e/design/UWBF_7374/1 37               18             0.00015 r1ce3pm76spw4_r1ceas4zgsdt5 2        G1   155       0                  18  \n",
       "                                                                                                                                              1                  18  \n",
       "                                                                                                                                              2                  18  \n",
       "                                                                                                                                              3                  18  \n",
       "                                                                                                                                              4                  18  \n",
       "\n",
       "[5 rows x 31 columns]"
      ]
     },
     "execution_count": 15,
     "metadata": {},
     "output_type": "execute_result"
    }
   ],
   "source": [
    "and_11.head()"
   ]
  },
  {
   "cell_type": "markdown",
   "metadata": {},
   "source": [
    "Suggestion from @aloctavodia for investigating skewness, etc.:\n",
    "compute the octiles $e_1$ to $e_7$\n",
    "\n",
    "$s_a = e_4$\n",
    "\n",
    "$s_b = e_6 - e_2$\n",
    "\n",
    "$s_g = (e_6 + e_2 - 2 e_4)/s_b$\n",
    "\n",
    "$s_k = (e_7 - e_5 + e_3 - e_1)/s_b$\n",
    "\n",
    "$s_g$ gives you a meassure of skewness "
   ]
  },
  {
   "cell_type": "code",
   "execution_count": 19,
   "metadata": {},
   "outputs": [
    {
     "data": {
      "text/plain": [
       "MultiIndex([('https://hub.sd2e.org/user/sd2e/design/UWBF_7374/1', 37, 18, ...),\n",
       "            ('https://hub.sd2e.org/user/sd2e/design/UWBF_7374/1', 37, 18, ...),\n",
       "            ('https://hub.sd2e.org/user/sd2e/design/UWBF_7374/1', 37, 18, ...),\n",
       "            ('https://hub.sd2e.org/user/sd2e/design/UWBF_7374/1', 37, 18, ...),\n",
       "            ('https://hub.sd2e.org/user/sd2e/design/UWBF_7374/1', 37, 18, ...),\n",
       "            ('https://hub.sd2e.org/user/sd2e/design/UWBF_7374/1', 37, 18, ...),\n",
       "            ('https://hub.sd2e.org/user/sd2e/design/UWBF_7374/1', 37, 18, ...),\n",
       "            ('https://hub.sd2e.org/user/sd2e/design/UWBF_7374/1', 37, 18, ...),\n",
       "            ('https://hub.sd2e.org/user/sd2e/design/UWBF_7374/1', 37, 18, ...),\n",
       "            ('https://hub.sd2e.org/user/sd2e/design/UWBF_7374/1', 37, 18, ...),\n",
       "            ...\n",
       "            ('https://hub.sd2e.org/user/sd2e/design/UWBF_7374/1', 30, 18, ...),\n",
       "            ('https://hub.sd2e.org/user/sd2e/design/UWBF_7374/1', 30, 18, ...),\n",
       "            ('https://hub.sd2e.org/user/sd2e/design/UWBF_7374/1', 30, 18, ...),\n",
       "            ('https://hub.sd2e.org/user/sd2e/design/UWBF_7374/1', 30, 18, ...),\n",
       "            ('https://hub.sd2e.org/user/sd2e/design/UWBF_7374/1', 30, 18, ...),\n",
       "            ('https://hub.sd2e.org/user/sd2e/design/UWBF_7374/1', 30, 18, ...),\n",
       "            ('https://hub.sd2e.org/user/sd2e/design/UWBF_7374/1', 30, 18, ...),\n",
       "            ('https://hub.sd2e.org/user/sd2e/design/UWBF_7374/1', 30, 18, ...),\n",
       "            ('https://hub.sd2e.org/user/sd2e/design/UWBF_7374/1', 30, 18, ...),\n",
       "            ('https://hub.sd2e.org/user/sd2e/design/UWBF_7374/1', 30, 18, ...)],\n",
       "           names=['strain_name', 'inc_temp_degrees', 'inc_time_2_hrs', 'od', 'lab_id', 'plate_id', 'well', 'replicate', 'event'], length=7097678)"
      ]
     },
     "execution_count": 19,
     "metadata": {},
     "output_type": "execute_result"
    }
   ],
   "source": [
    "and_11.index"
   ]
  },
  {
   "cell_type": "code",
   "execution_count": 27,
   "metadata": {},
   "outputs": [],
   "source": [
    "def gate_dataframe(df):\n",
    "    logger = logging.getLogger(\"data_helpers\")\n",
    "    query_string = '25_000 <= FSC_A <= 900_000 and 50_000 <= SSC_A <= 900_000 and 0 <= BL1_A <= 20_000'\n",
    "    new_df = df.query(query_string)\n",
    "    logging.info(f\"After gating, have gone from {df.shape[0]} events to {new_df.shape[0]}.\")\n",
    "    dropped_replicates = set()\n",
    "    def filter_small_replicate(df):\n",
    "        tuple = df.iloc[0, :]['xx_lab_id'], df.iloc[0, :]['xx_well']\n",
    "        dropped_replicates.add(tuple)\n",
    "        return None if df.shape[0] < 10_000 else df\n",
    "    new_df.loc[:, 'xx_lab_id'] = new_df.index.get_level_values('lab_id')\n",
    "    new_df.loc[:, 'xx_well'] = new_df.index.get_level_values('well')\n",
    "    \n",
    "    new_df2 = new_df.groupby(['lab_id', 'well']).apply(lambda df: None if df.shape[0] < 10_000 else df)\n",
    "    new_df2.drop(columns=['xx_lab_id', 'xx_well'], inplace=True)\n",
    "    \n",
    "    if dropped_replicates:\n",
    "        logging.info(\"Dropped replicates with low counts.\")\n",
    "        for x in dropped_replicates: logging.info(\"Dropped replicate \", x)\n",
    "    else:\n",
    "        logging.debug(\"All replicates have acceptable counts.\")\n",
    "    return new_df2"
   ]
  },
  {
   "cell_type": "code",
   "execution_count": 28,
   "metadata": {},
   "outputs": [
    {
     "name": "stderr",
     "output_type": "stream",
     "text": [
      "INFO:root:After gating, have gone from 7097678 events to 5127233.\n",
      "/work/05204/rpg/jupyter_packages/envs/dask/lib/python3.8/site-packages/pandas/core/indexing.py:1596: SettingWithCopyWarning: \n",
      "A value is trying to be set on a copy of a slice from a DataFrame.\n",
      "Try using .loc[row_indexer,col_indexer] = value instead\n",
      "\n",
      "See the caveats in the documentation: https://pandas.pydata.org/pandas-docs/stable/user_guide/indexing.html#returning-a-view-versus-a-copy\n",
      "  self.obj[key] = value\n",
      "/work/05204/rpg/jupyter_packages/envs/dask/lib/python3.8/site-packages/pandas/core/indexing.py:1675: SettingWithCopyWarning: \n",
      "A value is trying to be set on a copy of a slice from a DataFrame.\n",
      "Try using .loc[row_indexer,col_indexer] = value instead\n",
      "\n",
      "See the caveats in the documentation: https://pandas.pydata.org/pandas-docs/stable/user_guide/indexing.html#returning-a-view-versus-a-copy\n",
      "  self._setitem_single_column(ilocs[0], value, pi)\n"
     ]
    }
   ],
   "source": [
    "logging.basicConfig(level=logging.INFO)\n",
    "gated_and_11 = gate_dataframe(and_11)"
   ]
  },
  {
   "cell_type": "code",
   "execution_count": 34,
   "metadata": {},
   "outputs": [],
   "source": [
    "replicate_modes = and_11.groupby(['lab_id', 'id']).apply(lambda df: len(unidip.UniDip(np.msort(df['BL1_A'])).run()))"
   ]
  },
  {
   "cell_type": "code",
   "execution_count": 30,
   "metadata": {},
   "outputs": [],
   "source": [
    "multi_modal = replicate_modes[replicate_modes != 1]"
   ]
  },
  {
   "cell_type": "code",
   "execution_count": 31,
   "metadata": {},
   "outputs": [
    {
     "data": {
      "text/plain": [
       "[('r1cbut2pdjtwv_r1cc6qzwcd4hx', '2019_01_07_20_59_35_1_D9'),\n",
       " ('r1cbut53kpf3n_r1cc3bn2s2aj8', '2019_01_07_20_59_35_3_C8'),\n",
       " ('r1cbut6a79n9t_r1cc34mkuvzeh', '2019_01_07_20_59_35_4_F5')]"
      ]
     },
     "execution_count": 31,
     "metadata": {},
     "output_type": "execute_result"
    }
   ],
   "source": [
    "interesting = list(multi_modal.index)\n",
    "interesting"
   ]
  },
  {
   "cell_type": "code",
   "execution_count": 32,
   "metadata": {},
   "outputs": [
    {
     "data": {
      "text/plain": [
       "[]"
      ]
     },
     "execution_count": 32,
     "metadata": {},
     "output_type": "execute_result"
    }
   ],
   "source": [
    "gated_replicate_modes = gated_and_11.groupby(['lab_id', 'id']).apply(lambda df: len(unidip.UniDip(df['BL1_A']).run()))\n",
    "gated_multi_modal = gated_replicate_modes[gated_replicate_modes != 1]\n",
    "gated_interesting = list(gated_multi_modal.index)\n",
    "gated_interesting"
   ]
  },
  {
   "cell_type": "code",
   "execution_count": null,
   "metadata": {},
   "outputs": [],
   "source": [
    "fig, axeses = plt.subplots(nrows=len(interesting), ncols=2)\n",
    "fig.set_size_inches(len(interesting) * 6, 10)\n",
    "i = 0\n",
    "for lab_id, id in interesting:\n",
    "    subset = and_11.query(f'lab_id == \"{lab_id}\" and id == \"{id}\"')\n",
    "    subset.hist(column='BL1_A', ax=axeses[i][0])\n",
    "    subset.plot.hexbin(x='FSC_A', y='SSC_A', ax=axeses[i][1])\n",
    "    i += 1                     "
   ]
  },
  {
   "cell_type": "code",
   "execution_count": null,
   "metadata": {},
   "outputs": [],
   "source": []
  },
  {
   "cell_type": "code",
   "execution_count": null,
   "metadata": {},
   "outputs": [],
   "source": [
    "multi_modal"
   ]
  },
  {
   "cell_type": "code",
   "execution_count": null,
   "metadata": {},
   "outputs": [],
   "source": [
    "fig, axeses = plt.subplots(nrows=len(interesting), ncols=2)\n",
    "fig.set_size_inches(len(interesting) * 6, 10)\n",
    "i = 0\n",
    "for lab_id, id in interesting:\n",
    "    subset = and_11.query(f'lab_id == \"{lab_id}\" and id == \"{id}\"')\n",
    "    intervals = unidip.UniDip(np.msort(subset['BL1_A'])).run()\n",
    "    subset.hist(column='BL1_A', ax=axeses[i][0], alpha=0.5)\n",
    "    ax = axeses[i][0]\n",
    "    for lower, upper in intervals:\n",
    "        ax.axvline(lower, color='red') ; ax.axvline(upper, color='red')\n",
    "    subset.plot.hexbin(x='FSC_A', y='SSC_A', ax=axeses[i][1])\n",
    "    i += 1                     "
   ]
  },
  {
   "cell_type": "code",
   "execution_count": null,
   "metadata": {},
   "outputs": [],
   "source": [
    "fig, axeses = plt.subplots(nrows=len(interesting), ncols=1)\n",
    "fig.set_size_inches(len(interesting) * 8, 10)\n",
    "i = 0\n",
    "all_intervals = dict()\n",
    "for lab_id, id in interesting:\n",
    "    subset = and_11.query(f'lab_id == \"{lab_id}\" and id == \"{id}\"')\n",
    "    intervals = unidip.UniDip(np.msort(subset['BL1_A'])).run()\n",
    "    all_intervals[(lab_id, id)] = intervals\n",
    "    subset.hist(column='BL1_A', ax=axeses[i], alpha=0.5)\n",
    "    ax = axeses[i]\n",
    "    for lower, upper in intervals:\n",
    "        ax.axvline(lower, color='red') ; ax.axvline(upper, color='red')\n",
    "    i += 1     \n",
    "\n",
    "for (lab_id, id), intervals in all_intervals.items():\n",
    "    print(f\"{lab_id}, {id}, {intervals}\")\n",
    "    subset = and_11.query(f'lab_id == \"{lab_id}\" and id == \"{id}\"')\n",
    "    print(subset[['FSC_A', 'SSC_A', 'BL1_A']].describe())"
   ]
  },
  {
   "cell_type": "code",
   "execution_count": null,
   "metadata": {},
   "outputs": [],
   "source": [
    "np.msort(subset['BL1_A'])"
   ]
  },
  {
   "cell_type": "code",
   "execution_count": null,
   "metadata": {},
   "outputs": [],
   "source": [
    "subset.groupby(['lab_id', 'id']).apply(lambda df: None if df.shape[0] < 10_000 else df)"
   ]
  },
  {
   "cell_type": "code",
   "execution_count": null,
   "metadata": {},
   "outputs": [],
   "source": [
    "foo = and_11.groupby(['lab_id', 'id']).apply(lambda df: None if df.shape[0] < 10_000 else df)"
   ]
  },
  {
   "cell_type": "code",
   "execution_count": null,
   "metadata": {},
   "outputs": [],
   "source": [
    "set(foo.columns) == set(and_11.columns)"
   ]
  },
  {
   "cell_type": "code",
   "execution_count": null,
   "metadata": {},
   "outputs": [],
   "source": [
    "foo.columns"
   ]
  },
  {
   "cell_type": "code",
   "execution_count": null,
   "metadata": {},
   "outputs": [],
   "source": [
    "foo.index"
   ]
  },
  {
   "cell_type": "code",
   "execution_count": null,
   "metadata": {},
   "outputs": [],
   "source": [
    "foo.index.values"
   ]
  },
  {
   "cell_type": "code",
   "execution_count": null,
   "metadata": {},
   "outputs": [],
   "source": [
    "foo.index[0][0]"
   ]
  },
  {
   "cell_type": "code",
   "execution_count": null,
   "metadata": {},
   "outputs": [],
   "source": [
    "foo.index.names.index('lab_id')"
   ]
  },
  {
   "cell_type": "code",
   "execution_count": null,
   "metadata": {},
   "outputs": [],
   "source": [
    "foo.index.names.index('id')"
   ]
  },
  {
   "cell_type": "code",
   "execution_count": null,
   "metadata": {},
   "outputs": [],
   "source": [
    "x = []\n",
    "foo = and_11.groupby(['lab_id', 'id']).apply(lambda df: x.append(df.columns))"
   ]
  },
  {
   "cell_type": "code",
   "execution_count": null,
   "metadata": {},
   "outputs": [],
   "source": [
    "x[0]"
   ]
  },
  {
   "cell_type": "code",
   "execution_count": null,
   "metadata": {},
   "outputs": [],
   "source": [
    "and_11['lab_id'] = and_11.index.get_level_values('lab_id')"
   ]
  },
  {
   "cell_type": "code",
   "execution_count": null,
   "metadata": {},
   "outputs": [],
   "source": [
    "and_11.index.values"
   ]
  },
  {
   "cell_type": "code",
   "execution_count": null,
   "metadata": {},
   "outputs": [],
   "source": []
  }
 ],
 "metadata": {
  "kernelspec": {
   "display_name": "Python 3",
   "language": "python",
   "name": "python3"
  },
  "language_info": {
   "codemirror_mode": {
    "name": "ipython",
    "version": 3
   },
   "file_extension": ".py",
   "mimetype": "text/x-python",
   "name": "python",
   "nbconvert_exporter": "python",
   "pygments_lexer": "ipython3",
   "version": "3.9.12"
  }
 },
 "nbformat": 4,
 "nbformat_minor": 2
}
