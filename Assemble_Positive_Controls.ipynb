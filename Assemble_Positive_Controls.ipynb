{
 "cells": [
  {
   "cell_type": "markdown",
   "metadata": {},
   "source": [
    "# Assemble CSV file of Positive Control Flow Cytometry Events\n",
    "\n",
    "This notebook was run on the Texas Advanced Computing Center (TACC) systems to generate the file `positive_controls.csv`.  This notebook has not been updated since then, but should be runnable using the `flow_cytometry`*xx* files in the Zenodo data set with DOI 10.5281/zenodo.6562250"
   ]
  },
  {
   "cell_type": "code",
   "execution_count": 1,
   "metadata": {},
   "outputs": [],
   "source": [
    "import os\n",
    "import numpy as np\n",
    "import pandas as pd\n",
    "import matplotlib.pyplot as plt\n"
   ]
  },
  {
   "cell_type": "code",
   "execution_count": 2,
   "metadata": {},
   "outputs": [],
   "source": [
    "# list of files with NOR-00-Control strain data \n",
    "positive_control_files = [\"r1c84xwx57y95_r1c8ejz8jfg9z\",\n",
    "\"r1cft9hhnhjdb_r1cfwgjmz247y\",\n",
    "\"r1cyeyjwbefaf2_r1cys7qtr6j42x\",\n",
    "\"r1c7cpvfzqprk_r1c7fbvba55db\",\n",
    "\"r1cdcetsvxgc2_r1cdfa6jrtssc\",\n",
    "\"r1c8yyg9gxbme_r1c96wn43pq45\",\n",
    "\"r1ce3pjymvm3u_r1ceb3rgpe8gm\",\n",
    "\"r1ce3pqt45vfe_r1ce7qf5e483u\",\n",
    "\"r1ceuhvgf7b4y_r1cf2yr353x5j\",\n",
    "\"r1cwvvxz5d7wua_r1cx7ucsnkjfsb\",\n",
    "\"r1c84y3r9yqxb_r1c8auwvzbgt3\",\n",
    "\"r1c8yydkumrkr_r1c96xsxw79c9\",\n",
    "\"r1cgbw3xk7pau_r1cgpa54x8ff3\",\n",
    "\"r1cckyh56hjqj_r1ccpyjef2vca\",\n",
    "\"r1cfkpp2p3kjz_r1cftpr8wxqc7\",\n",
    "\"r1c8xx7we38vw_r1c93cukfcxqp\",\n",
    "\"r1cbut53kpf3n_r1cc3bn2s2aj8\",\n",
    "\"r1cdcesknarkf_r1cdfg4x5uuwp\",\n",
    "\"r1d6r8mvznxxme_r1d8jxmssfag5w\",\n",
    "\"r1c7cprv7fe49_r1c7jmje3ebhc\",\n",
    "\"r1cdfr4bjcnrg_r1cdnuqex83dm\",\n",
    "\"r1cbut3veu2z4_r1cc6efukqtxx\",\n",
    "\"r1cfkpuz2kr6c_r1cfpvk5hjkzb\",\n",
    "\"r1cgbw8qkp6z4_r1cgjpjx5ve76\",\n",
    "\"r1cgbw7hjvxgx_r1cgjxrexhd4j\",\n",
    "\"r1c5va9wyf3mx_r1c63bjzu5ruy\",\n",
    "\"r1c5vad8u7ve2_r1c66q7cru28u\",\n",
    "\"r1c7cpu9nj2bu_r1c7fg23qkzph\",\n",
    "\"r1cyey8rzxq269_r1cysrdt3pvt5n\",\n",
    "\"r1ccqfbz332u8_r1cctaf8r32rc\",\n",
    "\"r1c8yx25rrtag_r1c96v2w8x5pq\",\n",
    "\"r1cctw7qh3777_r1ccwxr4t3wb6\",\n",
    "\"r1ce3p3p7j77n_r1ceevbnsqku2\",\n",
    "\"r1cwvvwryt3q49_r1cx4ux3zcdt4w\",\n",
    "\"r1ceuhrtvgyvd_r1cf6kx2a233e\",\n",
    "\"r1cgbw6bqmemz_r1cgnt4s2c5ty\",\n",
    "\"r1cbut2pdjtwv_r1cc6qzwcd4hx\",\n",
    "\"r1cfkptta6kuc_r1cfq4k72rwba\",\n",
    "\"r1cckyeq9r358_r1ccqgmy5ffcd\",\n",
    "\"r1ceuhu9enre5_r1cf33y4j6dyg\",\n",
    "\"r1cfkpq8n84aj_r1cftg78pbqd7\",\n",
    "\"r1cft9f659y9s_r1cfx3nrnc2uw\",\n",
    "\"r1ce3p4vgfu3p_r1ceebve8d6tc\",\n",
    "\"r1cgbw9ww9g9h_r1cgjg8e8xeav\",\n",
    "\"r1c5vac658fxn_r1c66qw595ydy\",\n",
    "\"r1c8xx94j94u7_r1c93ajvdzxz5\",\n",
    "\"r1d6r8ztq8zfa7_r1d952nn9xk753\",\n",
    "\"r1cdfsf4ezew3_r1cdjsyza79sr\",\n",
    "\"r1ce3phrwnkqt_r1ceb8fj2hj9a\",\n",
    "\"r1c9tpmcezpk2_r1c9wjnedp92f\",\n",
    "\"r1d6r8p5ddgsut_r1d8fgr2efzrhj\",\n",
    "\"r1ce3p63vnpzq_r1cee5f7knupg\",\n",
    "\"r1ch7zwzznes3_r1cheagmxcqvt\",\n",
    "\"r1c8xx6qe9eea_r1c93enbf48t7\",\n",
    "\"r1cbut6a79n9t_r1cc34mkuvzeh\",\n",
    "\"r1cfkprehr2fj_r1cft8f7cbsp7\",\n",
    "\"r1d6r8ykf868ep_r1d98fh76wrqp7\",\n",
    "\"r1d6r932unhafk_r1d93nuytthhp4\",\n",
    "\"r1cbajqru7kbe_r1cbe9p9zu6dh\",\n",
    "\"r1cwvvvj2bh6hc_r1cx4pbeyv2q29\",\n",
    "\"r1c84xvquwxth_r1c8ek7vcmdxh\",\n",
    "\"r1cyeye2du6ep8_r1cysfjkjjphqj\",\n",
    "\"r1ce3pndp353t_r1ce7xkybfnqd\",\n",
    "\"r1c7cpqp2k6cw_r1c7jn9syrr8s\",\n",
    "\"r1cctw6h5fsfg_r1ccx3axsj5ua\",\n",
    "\"r1d6r59sste9m2_r1d8gf8cczkrz9\",\n",
    "\"r1d6r58jnct63g_r1d8kxz5ndkxyh\",\n",
    "\"r1d6r5b24f9a9z_r1d8cyvjthnvvt\",\n",
    "\"r1cf3p48cauwv_r1cf6hech88mh\",\n",
    "\"r1cdcerdbpda2_r1cdfphfehzq2\",\n",
    "\"r1c84xzc5dbuv_r1c8axrywctwb\",\n",
    "\"r1cbuszfskzjt_r1cc6ws9c3dh4\",\n",
    "\"r1cft9gbs55yn_r1cfwthkscwsk\",\n",
    "\"r1ce3pm76spw4_r1ceas4zgsdt5\",\n",
    "\"r1ceuhqmu6c7w_r1cf6snbv99p8\",\n",
    "]\n",
    "positive_control_files = [x + \".csv\" for x in positive_control_files]\n"
   ]
  },
  {
   "cell_type": "code",
   "execution_count": 4,
   "metadata": {},
   "outputs": [
    {
     "name": "stderr",
     "output_type": "stream",
     "text": [
      "/work/05204/rpg/jupyter_packages/envs/dask/lib/python3.8/site-packages/IPython/core/interactiveshell.py:3146: DtypeWarning: Columns (13) have mixed types.Specify dtype option on import or set low_memory=False.\n",
      "  has_raised = await self.run_ast_nodes(code_ast.body, cell_name,\n",
      "/work/05204/rpg/jupyter_packages/envs/dask/lib/python3.8/site-packages/numpy/lib/arraysetops.py:580: FutureWarning: elementwise comparison failed; returning scalar instead, but in the future will perform elementwise comparison\n",
      "  mask |= (ar1 == a)\n"
     ]
    }
   ],
   "source": [
    "df = pd.read_csv(positive_control_files.pop(), index_col=0)\n",
    "df = df[df['strain_name'] == 'NOR-00-Control']\n",
    "\n",
    "for x in positive_control_files:\n",
    "    new_df = pd.read_csv(x, index_col=0)\n",
    "    new_df = new_df[new_df['strain_name'] == 'NOR-00-Control']\n",
    "    df = pd.concat([df, new_df])"
   ]
  },
  {
   "cell_type": "code",
   "execution_count": 5,
   "metadata": {},
   "outputs": [
    {
     "data": {
      "text/plain": [
       "array(['NOR-00-Control'], dtype=object)"
      ]
     },
     "execution_count": 5,
     "metadata": {},
     "output_type": "execute_result"
    }
   ],
   "source": [
    "df['strain_name'].unique()"
   ]
  },
  {
   "cell_type": "code",
   "execution_count": 6,
   "metadata": {},
   "outputs": [],
   "source": [
    "df.reset_index(drop=True, inplace=True)"
   ]
  },
  {
   "cell_type": "code",
   "execution_count": 7,
   "metadata": {},
   "outputs": [],
   "source": [
    "if 'level_0' in df.columns:\n",
    "    df.drop(columns='level_0', inplace=True)"
   ]
  },
  {
   "cell_type": "markdown",
   "metadata": {},
   "source": [
    "The two incubation times are not the same, so we can't drop one."
   ]
  },
  {
   "cell_type": "code",
   "execution_count": 8,
   "metadata": {},
   "outputs": [
    {
     "data": {
      "text/plain": [
       "inc_time_1    18:hour\n",
       "inc_time_2    15:hour\n",
       "Name: 1801704, dtype: object"
      ]
     },
     "execution_count": 8,
     "metadata": {},
     "output_type": "execute_result"
    }
   ],
   "source": [
    "df.loc[1801704, :][['inc_time_1', 'inc_time_2']]"
   ]
  },
  {
   "cell_type": "code",
   "execution_count": 9,
   "metadata": {},
   "outputs": [
    {
     "data": {
      "text/plain": [
       "0          True\n",
       "1          True\n",
       "2          True\n",
       "3          True\n",
       "4          True\n",
       "           ... \n",
       "1831704    True\n",
       "1831705    True\n",
       "1831706    True\n",
       "1831707    True\n",
       "1831708    True\n",
       "Length: 1831709, dtype: bool"
      ]
     },
     "execution_count": 9,
     "metadata": {},
     "output_type": "execute_result"
    }
   ],
   "source": [
    "df['inc_time_1'].dropna() == df['inc_time_2'].dropna()"
   ]
  },
  {
   "cell_type": "code",
   "execution_count": 10,
   "metadata": {},
   "outputs": [
    {
     "data": {
      "text/plain": [
       "True"
      ]
     },
     "execution_count": 10,
     "metadata": {},
     "output_type": "execute_result"
    }
   ],
   "source": [
    "all(df['growth_media_1'] == df['growth_media_2'])"
   ]
  },
  {
   "cell_type": "code",
   "execution_count": 11,
   "metadata": {},
   "outputs": [],
   "source": [
    "df.loc[:, 'media'] = df['growth_media_1'].astype(pd.CategoricalDtype(sorted(df['growth_media_1'].unique())))\n",
    "df.drop(columns=['growth_media_1', 'growth_media_2'], inplace=True)"
   ]
  },
  {
   "cell_type": "code",
   "execution_count": 13,
   "metadata": {},
   "outputs": [],
   "source": [
    "growth_media = sorted(set(df['media'].unique()))\n",
    "categories = pd.CategoricalDtype(growth_media)\n",
    "df.at[:, 'media'] = df['media'].astype(categories)"
   ]
  },
  {
   "cell_type": "code",
   "execution_count": 15,
   "metadata": {},
   "outputs": [],
   "source": [
    "df.at[:, 'inc_temp_degrees'] = np.vectorize(lambda x: int(x.split(\"_\")[1]))(df['inc_temp'])\n",
    "df.drop(columns='inc_temp', inplace=True)"
   ]
  },
  {
   "cell_type": "code",
   "execution_count": 16,
   "metadata": {},
   "outputs": [],
   "source": [
    "df.at[:, 'inc_time_1_hrs'] = np.vectorize(lambda x: int(x.split(\":\")[0]))(df['inc_time_1'])"
   ]
  },
  {
   "cell_type": "code",
   "execution_count": 17,
   "metadata": {},
   "outputs": [],
   "source": [
    "df.at[:, 'inc_time_2_hrs'] = np.vectorize(lambda x: int(x.split(\":\")[0]))(df['inc_time_2'])"
   ]
  },
  {
   "cell_type": "code",
   "execution_count": 18,
   "metadata": {},
   "outputs": [],
   "source": [
    "df.drop(columns=['inc_time_1', 'inc_time_2'], inplace=True)"
   ]
  },
  {
   "cell_type": "code",
   "execution_count": 19,
   "metadata": {},
   "outputs": [],
   "source": [
    "wells = np.vectorize(lambda x: x.split(\"_\")[-1])(df['id'])\n",
    "df.at[:, 'well'] = wells"
   ]
  },
  {
   "cell_type": "code",
   "execution_count": 20,
   "metadata": {},
   "outputs": [],
   "source": [
    "wells = sorted(df['well'].unique())\n",
    "categories = pd.CategoricalDtype(wells)\n",
    "df.at[:, 'well'] = df['well'].astype(categories)"
   ]
  },
  {
   "cell_type": "code",
   "execution_count": 21,
   "metadata": {},
   "outputs": [],
   "source": [
    "df.loc[:, 'replicate'] = df.groupby(['lab_id', 'plate_id', 'well']).ngroup()"
   ]
  },
  {
   "cell_type": "code",
   "execution_count": 22,
   "metadata": {},
   "outputs": [],
   "source": [
    "df.loc[:, 'event'] = df.groupby(['lab_id', 'plate_id', 'well']).cumcount()"
   ]
  },
  {
   "cell_type": "code",
   "execution_count": 23,
   "metadata": {},
   "outputs": [],
   "source": [
    "df.drop(columns=['lab', 'plan'], inplace=True)"
   ]
  },
  {
   "cell_type": "code",
   "execution_count": 25,
   "metadata": {},
   "outputs": [],
   "source": [
    "df.set_index(['strain_name', 'inc_temp_degrees', 'inc_time_2_hrs', 'media', 'od', 'plate_id', 'replicate', 'event'], drop=True, inplace=True)"
   ]
  },
  {
   "cell_type": "code",
   "execution_count": 26,
   "metadata": {},
   "outputs": [],
   "source": [
    "df.to_csv('positive_controls.csv')"
   ]
  },
  {
   "cell_type": "code",
   "execution_count": null,
   "metadata": {},
   "outputs": [],
   "source": []
  },
  {
   "cell_type": "code",
   "execution_count": null,
   "metadata": {},
   "outputs": [],
   "source": []
  }
 ],
 "metadata": {
  "kernelspec": {
   "display_name": "Python 3",
   "language": "python",
   "name": "python3"
  },
  "language_info": {
   "codemirror_mode": {
    "name": "ipython",
    "version": 3
   },
   "file_extension": ".py",
   "mimetype": "text/x-python",
   "name": "python",
   "nbconvert_exporter": "python",
   "pygments_lexer": "ipython3",
   "version": "3.9.12"
  }
 },
 "nbformat": 4,
 "nbformat_minor": 4
}
